{
  "cells": [
    {
      "cell_type": "markdown",
      "metadata": {
        "id": "HvrEjMq_-pGH"
      },
      "source": [
        "# PYTHON-OPTIMIZATION PROJECT \n"
      ]
    },
    {
      "cell_type": "markdown",
      "source": [
        "###Section 1-Data \n",
        "\n"
      ],
      "metadata": {
        "id": "WtEEwYAlOftD"
      }
    },
    {
      "cell_type": "markdown",
      "metadata": {
        "id": "LQjWQauQ2f6N"
      },
      "source": [
        "\n",
        "\n",
        "The following program attempt to create the optimal basketball team  of 8 players (consisting of 2 centers, 3 point and shooting guard and 3 small and power forwards) under budget constraint using dynamic programming.\n"
      ]
    },
    {
      "cell_type": "markdown",
      "source": [
        "\n",
        "\n",
        "$Maximize:$\n",
        "\n",
        "$\\sum v_ix_i$\n",
        "\n",
        "$subject $ $ to$\n",
        "\n",
        "$\\sum s_ix_i<budget$\n",
        "\n",
        "$\\sum x_i<desired$ $number$ $of$ $players$\n",
        "\n",
        "$s_i$ and $v_i$ denotes salary and value\\evaluation respectively of player $i$\n",
        "\n",
        "$x_i\\epsilon$ {0,1} $ ∀ i=1,2,3...n$\n"
      ],
      "metadata": {
        "id": "iLcalRo4TRLV"
      }
    },
    {
      "cell_type": "markdown",
      "metadata": {
        "id": "iPFXqrz52XcE"
      },
      "source": [
        "the data was taken from \n",
        "\n",
        "https://www.basketball-reference.com/leagues/NBA_2022_per_game.html\n",
        "\n",
        "https://www.nbastuffer.com/analytics101/player-impact-estimate-pie/\n",
        "\n",
        "shown below is the raw data without any munipulation "
      ]
    },
    {
      "cell_type": "code",
      "execution_count": 2,
      "metadata": {
        "id": "B2BAuvc-x9Bh"
      },
      "outputs": [],
      "source": [
        "import os \n",
        "import numpy as np \n",
        "import pandas as pd\n",
        "import matplotlib.pyplot as plt\n"
      ]
    },
    {
      "cell_type": "code",
      "execution_count": 3,
      "metadata": {
        "colab": {
          "base_uri": "https://localhost:8080/",
          "height": 73
        },
        "id": "n93F0V56yeDU",
        "outputId": "2d2340b4-b2ce-45aa-9e47-1a9812e9774d"
      },
      "outputs": [
        {
          "output_type": "display_data",
          "data": {
            "text/plain": [
              "<IPython.core.display.HTML object>"
            ],
            "text/html": [
              "\n",
              "     <input type=\"file\" id=\"files-f9764f78-79c3-4fd7-8a59-0011ef0227f5\" name=\"files[]\" multiple disabled\n",
              "        style=\"border:none\" />\n",
              "     <output id=\"result-f9764f78-79c3-4fd7-8a59-0011ef0227f5\">\n",
              "      Upload widget is only available when the cell has been executed in the\n",
              "      current browser session. Please rerun this cell to enable.\n",
              "      </output>\n",
              "      <script>// Copyright 2017 Google LLC\n",
              "//\n",
              "// Licensed under the Apache License, Version 2.0 (the \"License\");\n",
              "// you may not use this file except in compliance with the License.\n",
              "// You may obtain a copy of the License at\n",
              "//\n",
              "//      http://www.apache.org/licenses/LICENSE-2.0\n",
              "//\n",
              "// Unless required by applicable law or agreed to in writing, software\n",
              "// distributed under the License is distributed on an \"AS IS\" BASIS,\n",
              "// WITHOUT WARRANTIES OR CONDITIONS OF ANY KIND, either express or implied.\n",
              "// See the License for the specific language governing permissions and\n",
              "// limitations under the License.\n",
              "\n",
              "/**\n",
              " * @fileoverview Helpers for google.colab Python module.\n",
              " */\n",
              "(function(scope) {\n",
              "function span(text, styleAttributes = {}) {\n",
              "  const element = document.createElement('span');\n",
              "  element.textContent = text;\n",
              "  for (const key of Object.keys(styleAttributes)) {\n",
              "    element.style[key] = styleAttributes[key];\n",
              "  }\n",
              "  return element;\n",
              "}\n",
              "\n",
              "// Max number of bytes which will be uploaded at a time.\n",
              "const MAX_PAYLOAD_SIZE = 100 * 1024;\n",
              "\n",
              "function _uploadFiles(inputId, outputId) {\n",
              "  const steps = uploadFilesStep(inputId, outputId);\n",
              "  const outputElement = document.getElementById(outputId);\n",
              "  // Cache steps on the outputElement to make it available for the next call\n",
              "  // to uploadFilesContinue from Python.\n",
              "  outputElement.steps = steps;\n",
              "\n",
              "  return _uploadFilesContinue(outputId);\n",
              "}\n",
              "\n",
              "// This is roughly an async generator (not supported in the browser yet),\n",
              "// where there are multiple asynchronous steps and the Python side is going\n",
              "// to poll for completion of each step.\n",
              "// This uses a Promise to block the python side on completion of each step,\n",
              "// then passes the result of the previous step as the input to the next step.\n",
              "function _uploadFilesContinue(outputId) {\n",
              "  const outputElement = document.getElementById(outputId);\n",
              "  const steps = outputElement.steps;\n",
              "\n",
              "  const next = steps.next(outputElement.lastPromiseValue);\n",
              "  return Promise.resolve(next.value.promise).then((value) => {\n",
              "    // Cache the last promise value to make it available to the next\n",
              "    // step of the generator.\n",
              "    outputElement.lastPromiseValue = value;\n",
              "    return next.value.response;\n",
              "  });\n",
              "}\n",
              "\n",
              "/**\n",
              " * Generator function which is called between each async step of the upload\n",
              " * process.\n",
              " * @param {string} inputId Element ID of the input file picker element.\n",
              " * @param {string} outputId Element ID of the output display.\n",
              " * @return {!Iterable<!Object>} Iterable of next steps.\n",
              " */\n",
              "function* uploadFilesStep(inputId, outputId) {\n",
              "  const inputElement = document.getElementById(inputId);\n",
              "  inputElement.disabled = false;\n",
              "\n",
              "  const outputElement = document.getElementById(outputId);\n",
              "  outputElement.innerHTML = '';\n",
              "\n",
              "  const pickedPromise = new Promise((resolve) => {\n",
              "    inputElement.addEventListener('change', (e) => {\n",
              "      resolve(e.target.files);\n",
              "    });\n",
              "  });\n",
              "\n",
              "  const cancel = document.createElement('button');\n",
              "  inputElement.parentElement.appendChild(cancel);\n",
              "  cancel.textContent = 'Cancel upload';\n",
              "  const cancelPromise = new Promise((resolve) => {\n",
              "    cancel.onclick = () => {\n",
              "      resolve(null);\n",
              "    };\n",
              "  });\n",
              "\n",
              "  // Wait for the user to pick the files.\n",
              "  const files = yield {\n",
              "    promise: Promise.race([pickedPromise, cancelPromise]),\n",
              "    response: {\n",
              "      action: 'starting',\n",
              "    }\n",
              "  };\n",
              "\n",
              "  cancel.remove();\n",
              "\n",
              "  // Disable the input element since further picks are not allowed.\n",
              "  inputElement.disabled = true;\n",
              "\n",
              "  if (!files) {\n",
              "    return {\n",
              "      response: {\n",
              "        action: 'complete',\n",
              "      }\n",
              "    };\n",
              "  }\n",
              "\n",
              "  for (const file of files) {\n",
              "    const li = document.createElement('li');\n",
              "    li.append(span(file.name, {fontWeight: 'bold'}));\n",
              "    li.append(span(\n",
              "        `(${file.type || 'n/a'}) - ${file.size} bytes, ` +\n",
              "        `last modified: ${\n",
              "            file.lastModifiedDate ? file.lastModifiedDate.toLocaleDateString() :\n",
              "                                    'n/a'} - `));\n",
              "    const percent = span('0% done');\n",
              "    li.appendChild(percent);\n",
              "\n",
              "    outputElement.appendChild(li);\n",
              "\n",
              "    const fileDataPromise = new Promise((resolve) => {\n",
              "      const reader = new FileReader();\n",
              "      reader.onload = (e) => {\n",
              "        resolve(e.target.result);\n",
              "      };\n",
              "      reader.readAsArrayBuffer(file);\n",
              "    });\n",
              "    // Wait for the data to be ready.\n",
              "    let fileData = yield {\n",
              "      promise: fileDataPromise,\n",
              "      response: {\n",
              "        action: 'continue',\n",
              "      }\n",
              "    };\n",
              "\n",
              "    // Use a chunked sending to avoid message size limits. See b/62115660.\n",
              "    let position = 0;\n",
              "    do {\n",
              "      const length = Math.min(fileData.byteLength - position, MAX_PAYLOAD_SIZE);\n",
              "      const chunk = new Uint8Array(fileData, position, length);\n",
              "      position += length;\n",
              "\n",
              "      const base64 = btoa(String.fromCharCode.apply(null, chunk));\n",
              "      yield {\n",
              "        response: {\n",
              "          action: 'append',\n",
              "          file: file.name,\n",
              "          data: base64,\n",
              "        },\n",
              "      };\n",
              "\n",
              "      let percentDone = fileData.byteLength === 0 ?\n",
              "          100 :\n",
              "          Math.round((position / fileData.byteLength) * 100);\n",
              "      percent.textContent = `${percentDone}% done`;\n",
              "\n",
              "    } while (position < fileData.byteLength);\n",
              "  }\n",
              "\n",
              "  // All done.\n",
              "  yield {\n",
              "    response: {\n",
              "      action: 'complete',\n",
              "    }\n",
              "  };\n",
              "}\n",
              "\n",
              "scope.google = scope.google || {};\n",
              "scope.google.colab = scope.google.colab || {};\n",
              "scope.google.colab._files = {\n",
              "  _uploadFiles,\n",
              "  _uploadFilesContinue,\n",
              "};\n",
              "})(self);\n",
              "</script> "
            ]
          },
          "metadata": {}
        },
        {
          "output_type": "stream",
          "name": "stdout",
          "text": [
            "Saving NBA_playerstats_pergame_r.csv to NBA_playerstats_pergame_r.csv\n"
          ]
        }
      ],
      "source": [
        "from google.colab import files\n",
        "uploaded = files.upload()"
      ]
    },
    {
      "cell_type": "code",
      "execution_count": 4,
      "metadata": {
        "colab": {
          "base_uri": "https://localhost:8080/",
          "height": 267
        },
        "id": "tQRemTrJYsV7",
        "outputId": "2b63b289-0acc-45e2-a7ac-f7e732b58d1e"
      },
      "outputs": [
        {
          "output_type": "execute_result",
          "data": {
            "text/plain": [
              "            Player Pos  Age   Tm   G  GS    MP   FG   FGA    FG%  ...  ORB  \\\n",
              "Rk                                                                ...        \n",
              "192   Aaron Gordon  PF   26  DEN  48  48  31.8  5.6  10.9  0.516  ...  1.7   \n",
              "227    Aaron Henry  SF   22  PHI   6   0   2.8  0.2   0.8  0.200  ...  0.0   \n",
              "238  Aaron Holiday  PG   25  WAS  40  13  15.9  2.4   5.1  0.466  ...  0.2   \n",
              "398  Aaron Nesmith  SF   22  BOS  38   1  10.1  1.2   3.2  0.358  ...  0.2   \n",
              "395    Abdel Nader  SF   28  PHO  14   0  10.4  0.9   2.5  0.343  ...  0.3   \n",
              "\n",
              "     DRB  TRB  AST  STL  BLK  TOV   PF   PTS      SALARY  \n",
              "Rk                                                        \n",
              "192  3.9  5.6  2.6  0.7  0.6  1.8  1.9  14.6  16409091.0  \n",
              "227  0.2  0.2  0.0  0.0  0.3  0.3  0.3   0.3         NaN  \n",
              "238  1.4  1.6  1.9  0.5  0.2  0.9  1.5   5.9   3980551.0  \n",
              "398  1.4  1.6  0.3  0.3  0.1  0.6  1.2   3.1   3631200.0  \n",
              "395  1.6  1.9  0.5  0.6  0.3  0.8  1.4   2.4   2000000.0  \n",
              "\n",
              "[5 rows x 30 columns]"
            ],
            "text/html": [
              "\n",
              "  <div id=\"df-7bf7fdcf-961c-4450-a525-92f3d10538ae\">\n",
              "    <div class=\"colab-df-container\">\n",
              "      <div>\n",
              "<style scoped>\n",
              "    .dataframe tbody tr th:only-of-type {\n",
              "        vertical-align: middle;\n",
              "    }\n",
              "\n",
              "    .dataframe tbody tr th {\n",
              "        vertical-align: top;\n",
              "    }\n",
              "\n",
              "    .dataframe thead th {\n",
              "        text-align: right;\n",
              "    }\n",
              "</style>\n",
              "<table border=\"1\" class=\"dataframe\">\n",
              "  <thead>\n",
              "    <tr style=\"text-align: right;\">\n",
              "      <th></th>\n",
              "      <th>Player</th>\n",
              "      <th>Pos</th>\n",
              "      <th>Age</th>\n",
              "      <th>Tm</th>\n",
              "      <th>G</th>\n",
              "      <th>GS</th>\n",
              "      <th>MP</th>\n",
              "      <th>FG</th>\n",
              "      <th>FGA</th>\n",
              "      <th>FG%</th>\n",
              "      <th>...</th>\n",
              "      <th>ORB</th>\n",
              "      <th>DRB</th>\n",
              "      <th>TRB</th>\n",
              "      <th>AST</th>\n",
              "      <th>STL</th>\n",
              "      <th>BLK</th>\n",
              "      <th>TOV</th>\n",
              "      <th>PF</th>\n",
              "      <th>PTS</th>\n",
              "      <th>SALARY</th>\n",
              "    </tr>\n",
              "    <tr>\n",
              "      <th>Rk</th>\n",
              "      <th></th>\n",
              "      <th></th>\n",
              "      <th></th>\n",
              "      <th></th>\n",
              "      <th></th>\n",
              "      <th></th>\n",
              "      <th></th>\n",
              "      <th></th>\n",
              "      <th></th>\n",
              "      <th></th>\n",
              "      <th></th>\n",
              "      <th></th>\n",
              "      <th></th>\n",
              "      <th></th>\n",
              "      <th></th>\n",
              "      <th></th>\n",
              "      <th></th>\n",
              "      <th></th>\n",
              "      <th></th>\n",
              "      <th></th>\n",
              "      <th></th>\n",
              "    </tr>\n",
              "  </thead>\n",
              "  <tbody>\n",
              "    <tr>\n",
              "      <th>192</th>\n",
              "      <td>Aaron Gordon</td>\n",
              "      <td>PF</td>\n",
              "      <td>26</td>\n",
              "      <td>DEN</td>\n",
              "      <td>48</td>\n",
              "      <td>48</td>\n",
              "      <td>31.8</td>\n",
              "      <td>5.6</td>\n",
              "      <td>10.9</td>\n",
              "      <td>0.516</td>\n",
              "      <td>...</td>\n",
              "      <td>1.7</td>\n",
              "      <td>3.9</td>\n",
              "      <td>5.6</td>\n",
              "      <td>2.6</td>\n",
              "      <td>0.7</td>\n",
              "      <td>0.6</td>\n",
              "      <td>1.8</td>\n",
              "      <td>1.9</td>\n",
              "      <td>14.6</td>\n",
              "      <td>16409091.0</td>\n",
              "    </tr>\n",
              "    <tr>\n",
              "      <th>227</th>\n",
              "      <td>Aaron Henry</td>\n",
              "      <td>SF</td>\n",
              "      <td>22</td>\n",
              "      <td>PHI</td>\n",
              "      <td>6</td>\n",
              "      <td>0</td>\n",
              "      <td>2.8</td>\n",
              "      <td>0.2</td>\n",
              "      <td>0.8</td>\n",
              "      <td>0.200</td>\n",
              "      <td>...</td>\n",
              "      <td>0.0</td>\n",
              "      <td>0.2</td>\n",
              "      <td>0.2</td>\n",
              "      <td>0.0</td>\n",
              "      <td>0.0</td>\n",
              "      <td>0.3</td>\n",
              "      <td>0.3</td>\n",
              "      <td>0.3</td>\n",
              "      <td>0.3</td>\n",
              "      <td>NaN</td>\n",
              "    </tr>\n",
              "    <tr>\n",
              "      <th>238</th>\n",
              "      <td>Aaron Holiday</td>\n",
              "      <td>PG</td>\n",
              "      <td>25</td>\n",
              "      <td>WAS</td>\n",
              "      <td>40</td>\n",
              "      <td>13</td>\n",
              "      <td>15.9</td>\n",
              "      <td>2.4</td>\n",
              "      <td>5.1</td>\n",
              "      <td>0.466</td>\n",
              "      <td>...</td>\n",
              "      <td>0.2</td>\n",
              "      <td>1.4</td>\n",
              "      <td>1.6</td>\n",
              "      <td>1.9</td>\n",
              "      <td>0.5</td>\n",
              "      <td>0.2</td>\n",
              "      <td>0.9</td>\n",
              "      <td>1.5</td>\n",
              "      <td>5.9</td>\n",
              "      <td>3980551.0</td>\n",
              "    </tr>\n",
              "    <tr>\n",
              "      <th>398</th>\n",
              "      <td>Aaron Nesmith</td>\n",
              "      <td>SF</td>\n",
              "      <td>22</td>\n",
              "      <td>BOS</td>\n",
              "      <td>38</td>\n",
              "      <td>1</td>\n",
              "      <td>10.1</td>\n",
              "      <td>1.2</td>\n",
              "      <td>3.2</td>\n",
              "      <td>0.358</td>\n",
              "      <td>...</td>\n",
              "      <td>0.2</td>\n",
              "      <td>1.4</td>\n",
              "      <td>1.6</td>\n",
              "      <td>0.3</td>\n",
              "      <td>0.3</td>\n",
              "      <td>0.1</td>\n",
              "      <td>0.6</td>\n",
              "      <td>1.2</td>\n",
              "      <td>3.1</td>\n",
              "      <td>3631200.0</td>\n",
              "    </tr>\n",
              "    <tr>\n",
              "      <th>395</th>\n",
              "      <td>Abdel Nader</td>\n",
              "      <td>SF</td>\n",
              "      <td>28</td>\n",
              "      <td>PHO</td>\n",
              "      <td>14</td>\n",
              "      <td>0</td>\n",
              "      <td>10.4</td>\n",
              "      <td>0.9</td>\n",
              "      <td>2.5</td>\n",
              "      <td>0.343</td>\n",
              "      <td>...</td>\n",
              "      <td>0.3</td>\n",
              "      <td>1.6</td>\n",
              "      <td>1.9</td>\n",
              "      <td>0.5</td>\n",
              "      <td>0.6</td>\n",
              "      <td>0.3</td>\n",
              "      <td>0.8</td>\n",
              "      <td>1.4</td>\n",
              "      <td>2.4</td>\n",
              "      <td>2000000.0</td>\n",
              "    </tr>\n",
              "  </tbody>\n",
              "</table>\n",
              "<p>5 rows × 30 columns</p>\n",
              "</div>\n",
              "      <button class=\"colab-df-convert\" onclick=\"convertToInteractive('df-7bf7fdcf-961c-4450-a525-92f3d10538ae')\"\n",
              "              title=\"Convert this dataframe to an interactive table.\"\n",
              "              style=\"display:none;\">\n",
              "        \n",
              "  <svg xmlns=\"http://www.w3.org/2000/svg\" height=\"24px\"viewBox=\"0 0 24 24\"\n",
              "       width=\"24px\">\n",
              "    <path d=\"M0 0h24v24H0V0z\" fill=\"none\"/>\n",
              "    <path d=\"M18.56 5.44l.94 2.06.94-2.06 2.06-.94-2.06-.94-.94-2.06-.94 2.06-2.06.94zm-11 1L8.5 8.5l.94-2.06 2.06-.94-2.06-.94L8.5 2.5l-.94 2.06-2.06.94zm10 10l.94 2.06.94-2.06 2.06-.94-2.06-.94-.94-2.06-.94 2.06-2.06.94z\"/><path d=\"M17.41 7.96l-1.37-1.37c-.4-.4-.92-.59-1.43-.59-.52 0-1.04.2-1.43.59L10.3 9.45l-7.72 7.72c-.78.78-.78 2.05 0 2.83L4 21.41c.39.39.9.59 1.41.59.51 0 1.02-.2 1.41-.59l7.78-7.78 2.81-2.81c.8-.78.8-2.07 0-2.86zM5.41 20L4 18.59l7.72-7.72 1.47 1.35L5.41 20z\"/>\n",
              "  </svg>\n",
              "      </button>\n",
              "      \n",
              "  <style>\n",
              "    .colab-df-container {\n",
              "      display:flex;\n",
              "      flex-wrap:wrap;\n",
              "      gap: 12px;\n",
              "    }\n",
              "\n",
              "    .colab-df-convert {\n",
              "      background-color: #E8F0FE;\n",
              "      border: none;\n",
              "      border-radius: 50%;\n",
              "      cursor: pointer;\n",
              "      display: none;\n",
              "      fill: #1967D2;\n",
              "      height: 32px;\n",
              "      padding: 0 0 0 0;\n",
              "      width: 32px;\n",
              "    }\n",
              "\n",
              "    .colab-df-convert:hover {\n",
              "      background-color: #E2EBFA;\n",
              "      box-shadow: 0px 1px 2px rgba(60, 64, 67, 0.3), 0px 1px 3px 1px rgba(60, 64, 67, 0.15);\n",
              "      fill: #174EA6;\n",
              "    }\n",
              "\n",
              "    [theme=dark] .colab-df-convert {\n",
              "      background-color: #3B4455;\n",
              "      fill: #D2E3FC;\n",
              "    }\n",
              "\n",
              "    [theme=dark] .colab-df-convert:hover {\n",
              "      background-color: #434B5C;\n",
              "      box-shadow: 0px 1px 3px 1px rgba(0, 0, 0, 0.15);\n",
              "      filter: drop-shadow(0px 1px 2px rgba(0, 0, 0, 0.3));\n",
              "      fill: #FFFFFF;\n",
              "    }\n",
              "  </style>\n",
              "\n",
              "      <script>\n",
              "        const buttonEl =\n",
              "          document.querySelector('#df-7bf7fdcf-961c-4450-a525-92f3d10538ae button.colab-df-convert');\n",
              "        buttonEl.style.display =\n",
              "          google.colab.kernel.accessAllowed ? 'block' : 'none';\n",
              "\n",
              "        async function convertToInteractive(key) {\n",
              "          const element = document.querySelector('#df-7bf7fdcf-961c-4450-a525-92f3d10538ae');\n",
              "          const dataTable =\n",
              "            await google.colab.kernel.invokeFunction('convertToInteractive',\n",
              "                                                     [key], {});\n",
              "          if (!dataTable) return;\n",
              "\n",
              "          const docLinkHtml = 'Like what you see? Visit the ' +\n",
              "            '<a target=\"_blank\" href=https://colab.research.google.com/notebooks/data_table.ipynb>data table notebook</a>'\n",
              "            + ' to learn more about interactive tables.';\n",
              "          element.innerHTML = '';\n",
              "          dataTable['output_type'] = 'display_data';\n",
              "          await google.colab.output.renderOutput(dataTable, element);\n",
              "          const docLink = document.createElement('div');\n",
              "          docLink.innerHTML = docLinkHtml;\n",
              "          element.appendChild(docLink);\n",
              "        }\n",
              "      </script>\n",
              "    </div>\n",
              "  </div>\n",
              "  "
            ]
          },
          "metadata": {},
          "execution_count": 4
        }
      ],
      "source": [
        "import io\n",
        "data = io.BytesIO(uploaded[\"NBA_playerstats_pergame_r.csv\"])\n",
        "df=pd.read_csv(data,header=0, index_col='Rk')\n",
        "df.columns\n",
        "df.head(5)\n"
      ]
    },
    {
      "cell_type": "markdown",
      "metadata": {
        "id": "FMY9z-8Ukjl3"
      },
      "source": [
        "\n",
        "\n",
        "\n",
        "There are many formulas that will grade each player better and will give the data different weight according to the plyer's position. for the purpose of this project we'll simplify it and  use the following basic formula "
      ]
    },
    {
      "cell_type": "markdown",
      "metadata": {
        "id": "2OGMx-jpWIeh"
      },
      "source": [
        "![image.png](data:image/png;base64,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)"
      ]
    },
    {
      "cell_type": "markdown",
      "metadata": {
        "id": "RkyO3aM2G6s3"
      },
      "source": [
        "next thing we want to do is arreange the data in a manare that will replace NaN value if nedded and drop players with no game or stats available, and overall create new fixed data frame."
      ]
    },
    {
      "cell_type": "code",
      "execution_count": 5,
      "metadata": {
        "colab": {
          "base_uri": "https://localhost:8080/",
          "height": 455
        },
        "id": "KxgRJ-KqHZbG",
        "outputId": "199d89a8-b5c0-4659-93a6-5b3fcf65d7b9"
      },
      "outputs": [
        {
          "output_type": "execute_result",
          "data": {
            "text/plain": [
              "                  Player Pos   G   PTS  TRB  AST  STL  BLK  MFG  MFT  TOV  \\\n",
              "Rk                                                                          \n",
              "192         Aaron Gordon  PF  48  14.6  5.6  2.6  0.7  0.6  5.3  0.8  1.8   \n",
              "238        Aaron Holiday  PG  40   5.9  1.6  1.9  0.5  0.2  2.7  0.2  0.9   \n",
              "398        Aaron Nesmith  SF  38   3.1  1.6  0.3  0.3  0.1  2.0  0.1  0.6   \n",
              "395          Abdel Nader  SF  14   2.4  1.9  0.5  0.6  0.3  1.6  0.3  0.8   \n",
              "244           Al Horford   C  46  10.1  7.5  3.3  0.6  1.3  4.9  0.3  1.0   \n",
              "..                   ...  ..  ..   ...  ...  ...  ...  ...  ...  ...  ...   \n",
              "33           Will Barton  SG  46  15.5  4.9  4.1  0.9  0.5  7.5  0.4  1.9   \n",
              "96   Willie Cauley-Stein   C  18   1.9  2.1  0.5  0.3  0.2  1.0  0.0  0.4   \n",
              "229    Willy Hernangómez   C  28   9.2  7.1  1.3  0.4  0.3  3.0  0.7  1.0   \n",
              "317          Zach LaVine  SF  44  24.7  4.8  4.3  0.7  0.4  9.4  0.7  2.8   \n",
              "403           Zeke Nnaji  PF  37   6.7  3.6  0.4  0.3  0.3  2.0  0.6  0.5   \n",
              "\n",
              "           EVL     SALARY  \n",
              "Rk                         \n",
              "192  33.750000  16.409091  \n",
              "238  15.750000   3.980551  \n",
              "398   7.105263   3.631200  \n",
              "395  21.428571   2.000000  \n",
              "244  36.086957  27.000000  \n",
              "..         ...        ...  \n",
              "33   35.000000  15.384615  \n",
              "96   20.000000   0.000000  \n",
              "229  48.571429   0.000000  \n",
              "317  50.000000  19.500000  \n",
              "403  22.162162   2.498760  \n",
              "\n",
              "[351 rows x 13 columns]"
            ],
            "text/html": [
              "\n",
              "  <div id=\"df-418c4cc8-35d9-4026-9ff0-8fb2c7e9df2c\">\n",
              "    <div class=\"colab-df-container\">\n",
              "      <div>\n",
              "<style scoped>\n",
              "    .dataframe tbody tr th:only-of-type {\n",
              "        vertical-align: middle;\n",
              "    }\n",
              "\n",
              "    .dataframe tbody tr th {\n",
              "        vertical-align: top;\n",
              "    }\n",
              "\n",
              "    .dataframe thead th {\n",
              "        text-align: right;\n",
              "    }\n",
              "</style>\n",
              "<table border=\"1\" class=\"dataframe\">\n",
              "  <thead>\n",
              "    <tr style=\"text-align: right;\">\n",
              "      <th></th>\n",
              "      <th>Player</th>\n",
              "      <th>Pos</th>\n",
              "      <th>G</th>\n",
              "      <th>PTS</th>\n",
              "      <th>TRB</th>\n",
              "      <th>AST</th>\n",
              "      <th>STL</th>\n",
              "      <th>BLK</th>\n",
              "      <th>MFG</th>\n",
              "      <th>MFT</th>\n",
              "      <th>TOV</th>\n",
              "      <th>EVL</th>\n",
              "      <th>SALARY</th>\n",
              "    </tr>\n",
              "    <tr>\n",
              "      <th>Rk</th>\n",
              "      <th></th>\n",
              "      <th></th>\n",
              "      <th></th>\n",
              "      <th></th>\n",
              "      <th></th>\n",
              "      <th></th>\n",
              "      <th></th>\n",
              "      <th></th>\n",
              "      <th></th>\n",
              "      <th></th>\n",
              "      <th></th>\n",
              "      <th></th>\n",
              "      <th></th>\n",
              "    </tr>\n",
              "  </thead>\n",
              "  <tbody>\n",
              "    <tr>\n",
              "      <th>192</th>\n",
              "      <td>Aaron Gordon</td>\n",
              "      <td>PF</td>\n",
              "      <td>48</td>\n",
              "      <td>14.6</td>\n",
              "      <td>5.6</td>\n",
              "      <td>2.6</td>\n",
              "      <td>0.7</td>\n",
              "      <td>0.6</td>\n",
              "      <td>5.3</td>\n",
              "      <td>0.8</td>\n",
              "      <td>1.8</td>\n",
              "      <td>33.750000</td>\n",
              "      <td>16.409091</td>\n",
              "    </tr>\n",
              "    <tr>\n",
              "      <th>238</th>\n",
              "      <td>Aaron Holiday</td>\n",
              "      <td>PG</td>\n",
              "      <td>40</td>\n",
              "      <td>5.9</td>\n",
              "      <td>1.6</td>\n",
              "      <td>1.9</td>\n",
              "      <td>0.5</td>\n",
              "      <td>0.2</td>\n",
              "      <td>2.7</td>\n",
              "      <td>0.2</td>\n",
              "      <td>0.9</td>\n",
              "      <td>15.750000</td>\n",
              "      <td>3.980551</td>\n",
              "    </tr>\n",
              "    <tr>\n",
              "      <th>398</th>\n",
              "      <td>Aaron Nesmith</td>\n",
              "      <td>SF</td>\n",
              "      <td>38</td>\n",
              "      <td>3.1</td>\n",
              "      <td>1.6</td>\n",
              "      <td>0.3</td>\n",
              "      <td>0.3</td>\n",
              "      <td>0.1</td>\n",
              "      <td>2.0</td>\n",
              "      <td>0.1</td>\n",
              "      <td>0.6</td>\n",
              "      <td>7.105263</td>\n",
              "      <td>3.631200</td>\n",
              "    </tr>\n",
              "    <tr>\n",
              "      <th>395</th>\n",
              "      <td>Abdel Nader</td>\n",
              "      <td>SF</td>\n",
              "      <td>14</td>\n",
              "      <td>2.4</td>\n",
              "      <td>1.9</td>\n",
              "      <td>0.5</td>\n",
              "      <td>0.6</td>\n",
              "      <td>0.3</td>\n",
              "      <td>1.6</td>\n",
              "      <td>0.3</td>\n",
              "      <td>0.8</td>\n",
              "      <td>21.428571</td>\n",
              "      <td>2.000000</td>\n",
              "    </tr>\n",
              "    <tr>\n",
              "      <th>244</th>\n",
              "      <td>Al Horford</td>\n",
              "      <td>C</td>\n",
              "      <td>46</td>\n",
              "      <td>10.1</td>\n",
              "      <td>7.5</td>\n",
              "      <td>3.3</td>\n",
              "      <td>0.6</td>\n",
              "      <td>1.3</td>\n",
              "      <td>4.9</td>\n",
              "      <td>0.3</td>\n",
              "      <td>1.0</td>\n",
              "      <td>36.086957</td>\n",
              "      <td>27.000000</td>\n",
              "    </tr>\n",
              "    <tr>\n",
              "      <th>...</th>\n",
              "      <td>...</td>\n",
              "      <td>...</td>\n",
              "      <td>...</td>\n",
              "      <td>...</td>\n",
              "      <td>...</td>\n",
              "      <td>...</td>\n",
              "      <td>...</td>\n",
              "      <td>...</td>\n",
              "      <td>...</td>\n",
              "      <td>...</td>\n",
              "      <td>...</td>\n",
              "      <td>...</td>\n",
              "      <td>...</td>\n",
              "    </tr>\n",
              "    <tr>\n",
              "      <th>33</th>\n",
              "      <td>Will Barton</td>\n",
              "      <td>SG</td>\n",
              "      <td>46</td>\n",
              "      <td>15.5</td>\n",
              "      <td>4.9</td>\n",
              "      <td>4.1</td>\n",
              "      <td>0.9</td>\n",
              "      <td>0.5</td>\n",
              "      <td>7.5</td>\n",
              "      <td>0.4</td>\n",
              "      <td>1.9</td>\n",
              "      <td>35.000000</td>\n",
              "      <td>15.384615</td>\n",
              "    </tr>\n",
              "    <tr>\n",
              "      <th>96</th>\n",
              "      <td>Willie Cauley-Stein</td>\n",
              "      <td>C</td>\n",
              "      <td>18</td>\n",
              "      <td>1.9</td>\n",
              "      <td>2.1</td>\n",
              "      <td>0.5</td>\n",
              "      <td>0.3</td>\n",
              "      <td>0.2</td>\n",
              "      <td>1.0</td>\n",
              "      <td>0.0</td>\n",
              "      <td>0.4</td>\n",
              "      <td>20.000000</td>\n",
              "      <td>0.000000</td>\n",
              "    </tr>\n",
              "    <tr>\n",
              "      <th>229</th>\n",
              "      <td>Willy Hernangómez</td>\n",
              "      <td>C</td>\n",
              "      <td>28</td>\n",
              "      <td>9.2</td>\n",
              "      <td>7.1</td>\n",
              "      <td>1.3</td>\n",
              "      <td>0.4</td>\n",
              "      <td>0.3</td>\n",
              "      <td>3.0</td>\n",
              "      <td>0.7</td>\n",
              "      <td>1.0</td>\n",
              "      <td>48.571429</td>\n",
              "      <td>0.000000</td>\n",
              "    </tr>\n",
              "    <tr>\n",
              "      <th>317</th>\n",
              "      <td>Zach LaVine</td>\n",
              "      <td>SF</td>\n",
              "      <td>44</td>\n",
              "      <td>24.7</td>\n",
              "      <td>4.8</td>\n",
              "      <td>4.3</td>\n",
              "      <td>0.7</td>\n",
              "      <td>0.4</td>\n",
              "      <td>9.4</td>\n",
              "      <td>0.7</td>\n",
              "      <td>2.8</td>\n",
              "      <td>50.000000</td>\n",
              "      <td>19.500000</td>\n",
              "    </tr>\n",
              "    <tr>\n",
              "      <th>403</th>\n",
              "      <td>Zeke Nnaji</td>\n",
              "      <td>PF</td>\n",
              "      <td>37</td>\n",
              "      <td>6.7</td>\n",
              "      <td>3.6</td>\n",
              "      <td>0.4</td>\n",
              "      <td>0.3</td>\n",
              "      <td>0.3</td>\n",
              "      <td>2.0</td>\n",
              "      <td>0.6</td>\n",
              "      <td>0.5</td>\n",
              "      <td>22.162162</td>\n",
              "      <td>2.498760</td>\n",
              "    </tr>\n",
              "  </tbody>\n",
              "</table>\n",
              "<p>351 rows × 13 columns</p>\n",
              "</div>\n",
              "      <button class=\"colab-df-convert\" onclick=\"convertToInteractive('df-418c4cc8-35d9-4026-9ff0-8fb2c7e9df2c')\"\n",
              "              title=\"Convert this dataframe to an interactive table.\"\n",
              "              style=\"display:none;\">\n",
              "        \n",
              "  <svg xmlns=\"http://www.w3.org/2000/svg\" height=\"24px\"viewBox=\"0 0 24 24\"\n",
              "       width=\"24px\">\n",
              "    <path d=\"M0 0h24v24H0V0z\" fill=\"none\"/>\n",
              "    <path d=\"M18.56 5.44l.94 2.06.94-2.06 2.06-.94-2.06-.94-.94-2.06-.94 2.06-2.06.94zm-11 1L8.5 8.5l.94-2.06 2.06-.94-2.06-.94L8.5 2.5l-.94 2.06-2.06.94zm10 10l.94 2.06.94-2.06 2.06-.94-2.06-.94-.94-2.06-.94 2.06-2.06.94z\"/><path d=\"M17.41 7.96l-1.37-1.37c-.4-.4-.92-.59-1.43-.59-.52 0-1.04.2-1.43.59L10.3 9.45l-7.72 7.72c-.78.78-.78 2.05 0 2.83L4 21.41c.39.39.9.59 1.41.59.51 0 1.02-.2 1.41-.59l7.78-7.78 2.81-2.81c.8-.78.8-2.07 0-2.86zM5.41 20L4 18.59l7.72-7.72 1.47 1.35L5.41 20z\"/>\n",
              "  </svg>\n",
              "      </button>\n",
              "      \n",
              "  <style>\n",
              "    .colab-df-container {\n",
              "      display:flex;\n",
              "      flex-wrap:wrap;\n",
              "      gap: 12px;\n",
              "    }\n",
              "\n",
              "    .colab-df-convert {\n",
              "      background-color: #E8F0FE;\n",
              "      border: none;\n",
              "      border-radius: 50%;\n",
              "      cursor: pointer;\n",
              "      display: none;\n",
              "      fill: #1967D2;\n",
              "      height: 32px;\n",
              "      padding: 0 0 0 0;\n",
              "      width: 32px;\n",
              "    }\n",
              "\n",
              "    .colab-df-convert:hover {\n",
              "      background-color: #E2EBFA;\n",
              "      box-shadow: 0px 1px 2px rgba(60, 64, 67, 0.3), 0px 1px 3px 1px rgba(60, 64, 67, 0.15);\n",
              "      fill: #174EA6;\n",
              "    }\n",
              "\n",
              "    [theme=dark] .colab-df-convert {\n",
              "      background-color: #3B4455;\n",
              "      fill: #D2E3FC;\n",
              "    }\n",
              "\n",
              "    [theme=dark] .colab-df-convert:hover {\n",
              "      background-color: #434B5C;\n",
              "      box-shadow: 0px 1px 3px 1px rgba(0, 0, 0, 0.15);\n",
              "      filter: drop-shadow(0px 1px 2px rgba(0, 0, 0, 0.3));\n",
              "      fill: #FFFFFF;\n",
              "    }\n",
              "  </style>\n",
              "\n",
              "      <script>\n",
              "        const buttonEl =\n",
              "          document.querySelector('#df-418c4cc8-35d9-4026-9ff0-8fb2c7e9df2c button.colab-df-convert');\n",
              "        buttonEl.style.display =\n",
              "          google.colab.kernel.accessAllowed ? 'block' : 'none';\n",
              "\n",
              "        async function convertToInteractive(key) {\n",
              "          const element = document.querySelector('#df-418c4cc8-35d9-4026-9ff0-8fb2c7e9df2c');\n",
              "          const dataTable =\n",
              "            await google.colab.kernel.invokeFunction('convertToInteractive',\n",
              "                                                     [key], {});\n",
              "          if (!dataTable) return;\n",
              "\n",
              "          const docLinkHtml = 'Like what you see? Visit the ' +\n",
              "            '<a target=\"_blank\" href=https://colab.research.google.com/notebooks/data_table.ipynb>data table notebook</a>'\n",
              "            + ' to learn more about interactive tables.';\n",
              "          element.innerHTML = '';\n",
              "          dataTable['output_type'] = 'display_data';\n",
              "          await google.colab.output.renderOutput(dataTable, element);\n",
              "          const docLink = document.createElement('div');\n",
              "          docLink.innerHTML = docLinkHtml;\n",
              "          element.appendChild(docLink);\n",
              "        }\n",
              "      </script>\n",
              "    </div>\n",
              "  </div>\n",
              "  "
            ]
          },
          "metadata": {},
          "execution_count": 5
        }
      ],
      "source": [
        "\n",
        "new_df0=df.drop(columns=['GS','Tm','MP','FG%','3P','3PA','3P%','2P','2PA','2P%','eFG%','ORB','DRB','FT%','Age'])\n",
        "new_df0['MFG']=new_df0['FGA']-new_df0['FG']\n",
        "new_df0['MFT']=new_df0['FTA']-new_df0['FT']\n",
        "new_df=new_df0.drop(columns=['FG','FGA','FT','FTA'])\n",
        "#rarrenge the data frame \n",
        "new_df['EVL']=((new_df['PTS']+new_df['TRB']+new_df['AST']+new_df['STL']+new_df['BLK']-new_df['MFT']-new_df['MFG']-new_df['TOV'])/new_df['G'])*100\n",
        "new_df=new_df.reindex(columns=['Player','Pos','G','PTS','TRB','AST','STL','BLK','MFG','MFT','TOV','EVL','SALARY']).drop_duplicates(subset=['Player'])\n",
        "#represint Salary in M$\n",
        "new_df['SALARY']=new_df['SALARY']/1000000\n",
        "new_df['SALARY'] = new_df['SALARY'].fillna(0)\n",
        " \n",
        "#drop players without enogh data or error like evaluation greater then 100% or less than 0%\n",
        "indexes=new_df[(new_df['SALARY']==0)& (new_df['G']<10)|(new_df['EVL']>100)|(new_df['EVL']<=0)|(new_df['EVL']>60)&(new_df['SALARY']<15)].index\n",
        "new_df.drop(indexes,inplace=True)\n",
        "\n",
        "new_df.head(400)"
      ]
    },
    {
      "cell_type": "markdown",
      "metadata": {
        "id": "wyklF6-P_inE"
      },
      "source": [
        "a function to get average stats according to position for calculation later on"
      ]
    },
    {
      "cell_type": "code",
      "execution_count": 6,
      "metadata": {
        "id": "acQdHp5CsMgJ"
      },
      "outputs": [],
      "source": [
        "def PosAverage(position,stats):\n",
        "  if(stats=='PTS'):\n",
        "   pos_average_pts=new_df.loc[new_df['Pos'] ==position, ['Player','PTS']].mean()\n",
        "   return pos_average_pts\n",
        "  elif(stats=='SALARY'):\n",
        "   pos_average_salary=new_df.loc[new_df['Pos'] ==position,['Player','SALARY']].mean()\n",
        "   return pos_average_salary\n",
        "  elif(stats=='EVL'):\n",
        "   pos_average_eval=new_df.loc[new_df['Pos'] ==position,['Player','EVL']].mean()\n",
        "   return pos_average_eval"
      ]
    },
    {
      "cell_type": "markdown",
      "metadata": {
        "id": "olj6EBt4CIXx"
      },
      "source": [
        "average  players evaluation and  salary"
      ]
    },
    {
      "cell_type": "code",
      "execution_count": 7,
      "metadata": {
        "colab": {
          "base_uri": "https://localhost:8080/"
        },
        "id": "IzuGIHXTwJ9w",
        "outputId": "c19fcb7a-495c-4c8b-93b9-400f42a43111"
      },
      "outputs": [
        {
          "output_type": "stream",
          "name": "stdout",
          "text": [
            "average players evaluation 28.779128824402203 %\n",
            "average players salary 7.458504267806268 M$\n"
          ]
        }
      ],
      "source": [
        "\n",
        "print(\"average players evaluation\",new_df['EVL'].mean(),\"%\")\n",
        "print(\"average players salary\",new_df['SALARY'].mean(), \"M$\")"
      ]
    },
    {
      "cell_type": "markdown",
      "metadata": {
        "id": "5YF_Cb1pS2YM"
      },
      "source": [
        " correlation between evaluation and salary "
      ]
    },
    {
      "cell_type": "code",
      "execution_count": 8,
      "metadata": {
        "colab": {
          "base_uri": "https://localhost:8080/",
          "height": 312
        },
        "id": "zv3lU9SLcXF0",
        "outputId": "a9a0e90d-65aa-45b5-802f-e81b8e99e037"
      },
      "outputs": [
        {
          "output_type": "display_data",
          "data": {
            "text/plain": [
              "<Figure size 432x288 with 1 Axes>"
            ],
            "image/png": "[encoded data removed]"
          },
          "metadata": {
            "needs_background": "light"
          }
        },
        {
          "output_type": "display_data",
          "data": {
            "text/plain": [
              "<Figure size 1400x700 with 0 Axes>"
            ]
          },
          "metadata": {}
        }
      ],
      "source": [
        "from matplotlib.pyplot import subplots, show\n",
        "a = new_df.EVL\n",
        "b = new_df.SALARY\n",
        "fig, ax = subplots()\n",
        "ax.scatter(a, b)\n",
        "ax.set_title(\"CORRELATION BETWEEN SALARY AND EVALUATION\")\n",
        "ax.set_xlabel(\"Evaluation in %\")\n",
        "ax.set_ylabel(\"Salary in M$\")\n",
        "fig = plt.figure(dpi=100, figsize=(14, 7))\n",
        "show()"
      ]
    },
    {
      "cell_type": "markdown",
      "metadata": {
        "id": "lV92iDiwC6Vz"
      },
      "source": [
        "In the graph we can see that as estimated, EFF  formula is not the best evaluation. even though we dropped players with unreliable stats we do see some \n",
        "anomalies,  and many players were over/under estimated. "
      ]
    },
    {
      "cell_type": "code",
      "execution_count": 9,
      "metadata": {
        "colab": {
          "base_uri": "https://localhost:8080/"
        },
        "id": "1YEuIxoQCdH8",
        "outputId": "2b0a6d04-dd9b-4329-c5a3-f85e0b1fa4e3"
      },
      "outputs": [
        {
          "output_type": "stream",
          "name": "stdout",
          "text": [
            "[[1.         0.65677758]\n",
            " [0.65677758 1.        ]]\n"
          ]
        }
      ],
      "source": [
        "correlation_matrix = np.corrcoef(new_df.EVL,new_df.SALARY)\n",
        "print(correlation_matrix)"
      ]
    },
    {
      "cell_type": "markdown",
      "metadata": {
        "id": "57TWcL_xvQD0"
      },
      "source": [
        "but we do see sasticfieng result for the correlation between the variables in the correlation_matrix"
      ]
    },
    {
      "cell_type": "markdown",
      "source": [
        "### section 2-Data adjustment & converting data frame to a list of players"
      ],
      "metadata": {
        "id": "yPlhAYjnPqF-"
      }
    },
    {
      "cell_type": "code",
      "execution_count": 10,
      "metadata": {
        "colab": {
          "base_uri": "https://localhost:8080/"
        },
        "id": "M7i0sEJzNThU",
        "outputId": "f22c89c4-fd1c-4441-e857-c95e221b5c86"
      },
      "outputs": [
        {
          "output_type": "stream",
          "name": "stderr",
          "text": [
            "/usr/local/lib/python3.7/dist-packages/ipykernel_launcher.py:2: FutureWarning: Using short name for 'orient' is deprecated. Only the options: ('dict', list, 'series', 'split', 'records', 'index') will be used in a future version. Use one of the above to silence this warning.\n",
            "  \n"
          ]
        }
      ],
      "source": [
        "# convert data frame to a list of dictionaries\n",
        "players_dict=new_df.to_dict(orient='record')\n",
        "# print(players_dict)\n"
      ]
    },
    {
      "cell_type": "markdown",
      "metadata": {
        "id": "2W7zGzHAD-65"
      },
      "source": [
        "for the purpose of building suitable dp matrix we'll round salary values to an integer or the nearest .5"
      ]
    },
    {
      "cell_type": "code",
      "execution_count": 11,
      "metadata": {
        "colab": {
          "base_uri": "https://localhost:8080/"
        },
        "id": "EXHeo0Tqi0a4",
        "outputId": "885cc089-5cfd-4674-b371-974f790690aa"
      },
      "outputs": [
        {
          "output_type": "stream",
          "name": "stdout",
          "text": [
            "[{'Player': 'Aaron Gordon', 'Pos': 'PF', 'G': 48, 'PTS': 14.6, 'TRB': 5.6, 'AST': 2.6, 'STL': 0.7, 'BLK': 0.6, 'MFG': 5.300000000000001, 'MFT': 0.7999999999999998, 'TOV': 1.8, 'EVL': 33.75, 'SALARY': 16.5}, {'Player': 'Aaron Holiday', 'Pos': 'PG', 'G': 40, 'PTS': 5.9, 'TRB': 1.6, 'AST': 1.9, 'STL': 0.5, 'BLK': 0.2, 'MFG': 2.6999999999999997, 'MFT': 0.20000000000000007, 'TOV': 0.9, 'EVL': 15.750000000000004, 'SALARY': 4}, {'Player': 'Aaron Nesmith', 'Pos': 'SF', 'G': 38, 'PTS': 3.1, 'TRB': 1.6, 'AST': 0.3, 'STL': 0.3, 'BLK': 0.1, 'MFG': 2.0, 'MFT': 0.10000000000000003, 'TOV': 0.6, 'EVL': 7.105263157894736, 'SALARY': 3.5}, {'Player': 'Abdel Nader', 'Pos': 'SF', 'G': 14, 'PTS': 2.4, 'TRB': 1.9, 'AST': 0.5, 'STL': 0.6, 'BLK': 0.3, 'MFG': 1.6, 'MFT': 0.29999999999999993, 'TOV': 0.8, 'EVL': 21.428571428571423, 'SALARY': 2.0}, {'Player': 'Al Horford', 'Pos': 'C', 'G': 46, 'PTS': 10.1, 'TRB': 7.5, 'AST': 3.3, 'STL': 0.6, 'BLK': 1.3, 'MFG': 4.8999999999999995, 'MFT': 0.30000000000000004, 'TOV': 1.0, 'EVL': 36.08695652173914, 'SALARY': 27.0}, {'Player': 'Alec Burks', 'Pos': 'SG', 'G': 52, 'PTS': 11.1, 'TRB': 4.3, 'AST': 2.6, 'STL': 1.1, 'BLK': 0.3, 'MFG': 5.3, 'MFT': 0.5999999999999996, 'TOV': 1.0, 'EVL': 24.038461538461544, 'SALARY': 9.5}, {'Player': 'Aleksej Pokusevski', 'Pos': 'PF', 'G': 37, 'PTS': 4.8, 'TRB': 4.2, 'AST': 1.2, 'STL': 0.5, 'BLK': 0.5, 'MFG': 3.5, 'MFT': 0.2, 'TOV': 1.2, 'EVL': 17.027027027027025, 'SALARY': 3}, {'Player': 'Alex Caruso', 'Pos': 'SG', 'G': 28, 'PTS': 8.4, 'TRB': 3.9, 'AST': 3.9, 'STL': 1.9, 'BLK': 0.4, 'MFG': 3.7, 'MFT': 0.40000000000000013, 'TOV': 1.4, 'EVL': 46.42857142857142, 'SALARY': 8.5}, {'Player': 'Alex Len', 'Pos': 'C', 'G': 32, 'PTS': 6.3, 'TRB': 4.7, 'AST': 1.3, 'STL': 0.3, 'BLK': 0.8, 'MFG': 2.3, 'MFT': 0.7, 'TOV': 1.2, 'EVL': 28.750000000000007, 'SALARY': 3.5}, {'Player': 'Alfonzo McKinnie', 'Pos': 'SF', 'G': 16, 'PTS': 3.6, 'TRB': 2.0, 'AST': 0.3, 'STL': 0.1, 'BLK': 0.2, 'MFG': 2.3, 'MFT': 0.30000000000000004, 'TOV': 0.4, 'EVL': 20.0, 'SALARY': 1}, {'Player': 'Alize Johnson', 'Pos': 'PF', 'G': 19, 'PTS': 1.7, 'TRB': 2.5, 'AST': 0.4, 'STL': 0.2, 'BLK': 0.0, 'MFG': 0.8, 'MFT': 0.2, 'TOV': 0.6, 'EVL': 16.842105263157897, 'SALARY': 0.5}, {'Player': 'Amir Coffey', 'Pos': 'SG', 'G': 42, 'PTS': 8.4, 'TRB': 3.1, 'AST': 1.6, 'STL': 0.5, 'BLK': 0.2, 'MFG': 3.2, 'MFT': 0.19999999999999996, 'TOV': 0.5, 'EVL': 23.57142857142857, 'SALARY': 0.5}, {'Player': 'Andre Drummond', 'Pos': 'C', 'G': 48, 'PTS': 6.1, 'TRB': 8.9, 'AST': 1.9, 'STL': 1.1, 'BLK': 0.9, 'MFG': 2.3000000000000003, 'MFT': 0.7999999999999999, 'TOV': 1.6, 'EVL': 29.58333333333333, 'SALARY': 2.5}, {'Player': 'Andre Iguodala', 'Pos': 'SF', 'G': 25, 'PTS': 4.2, 'TRB': 3.4, 'AST': 3.9, 'STL': 0.8, 'BLK': 0.8, 'MFG': 2.4, 'MFT': 0.09999999999999998, 'TOV': 0.9, 'EVL': 38.800000000000004, 'SALARY': 2.5}, {'Player': 'Anthony Davis', 'Pos': 'C', 'G': 33, 'PTS': 23.7, 'TRB': 10.2, 'AST': 2.8, 'STL': 1.3, 'BLK': 2.2, 'MFG': 8.399999999999999, 'MFT': 1.6999999999999993, 'TOV': 2.2, 'EVL': 84.54545454545456, 'SALARY': 35.5}, {'Player': 'Anthony Edwards', 'Pos': 'SG', 'G': 47, 'PTS': 22.2, 'TRB': 4.9, 'AST': 3.6, 'STL': 1.6, 'BLK': 0.7, 'MFG': 10.100000000000001, 'MFT': 0.6999999999999997, 'TOV': 2.9, 'EVL': 41.06382978723405, 'SALARY': 10}, {'Player': 'Anthony Gill', 'Pos': 'PF', 'G': 20, 'PTS': 2.7, 'TRB': 1.3, 'AST': 0.4, 'STL': 0.1, 'BLK': 0.2, 'MFG': 0.4999999999999999, 'MFT': 0.09999999999999998, 'TOV': 0.3, 'EVL': 19.000000000000004, 'SALARY': 1.5}, {'Player': 'Armoni Brooks', 'Pos': 'SG', 'G': 40, 'PTS': 6.4, 'TRB': 2.0, 'AST': 1.2, 'STL': 0.5, 'BLK': 0.2, 'MFG': 4.0, 'MFT': 0.09999999999999998, 'TOV': 0.6, 'EVL': 13.999999999999998, 'SALARY': 1.5}, {'Player': 'Avery Bradley', 'Pos': 'SG', 'G': 46, 'PTS': 6.8, 'TRB': 2.3, 'AST': 0.8, 'STL': 1.0, 'BLK': 0.2, 'MFG': 3.6, 'MFT': 0.0, 'TOV': 0.6, 'EVL': 15.0, 'SALARY': 2.5}, {'Player': 'Ayo Dosunmu', 'Pos': 'SG', 'G': 49, 'PTS': 7.9, 'TRB': 2.6, 'AST': 2.8, 'STL': 0.6, 'BLK': 0.4, 'MFG': 2.8000000000000003, 'MFT': 0.30000000000000004, 'TOV': 1.2, 'EVL': 20.408163265306122, 'SALARY': 1}, {'Player': 'Bam Adebayo', 'Pos': 'C', 'G': 29, 'PTS': 18.2, 'TRB': 10.1, 'AST': 3.5, 'STL': 1.6, 'BLK': 0.7, 'MFG': 6.500000000000001, 'MFT': 1.3000000000000007, 'TOV': 3.0, 'EVL': 80.34482758620689, 'SALARY': 28}, {'Player': 'Ben McLemore', 'Pos': 'SG', 'G': 37, 'PTS': 8.8, 'TRB': 1.5, 'AST': 0.8, 'STL': 0.3, 'BLK': 0.1, 'MFG': 4.5, 'MFT': 0.20000000000000007, 'TOV': 0.6, 'EVL': 16.756756756756765, 'SALARY': 2.5}, {'Player': 'Blake Griffin', 'Pos': 'PF', 'G': 42, 'PTS': 6.8, 'TRB': 4.4, 'AST': 2.1, 'STL': 0.5, 'BLK': 0.3, 'MFG': 3.5999999999999996, 'MFT': 0.3999999999999999, 'TOV': 0.5, 'EVL': 22.857142857142858, 'SALARY': 32.5}, {'Player': 'Boban Marjanovi?', 'Pos': 'C', 'G': 17, 'PTS': 4.8, 'TRB': 1.8, 'AST': 0.1, 'STL': 0.0, 'BLK': 0.1, 'MFG': 1.2999999999999998, 'MFT': 0.4, 'TOV': 0.6, 'EVL': 26.470588235294112, 'SALARY': 0.5}, {'Player': 'Bobby Portis', 'Pos': 'C', 'G': 46, 'PTS': 15.4, 'TRB': 9.1, 'AST': 1.3, 'STL': 0.7, 'BLK': 0.8, 'MFG': 6.300000000000001, 'MFT': 0.3999999999999999, 'TOV': 1.5, 'EVL': 41.52173913043479, 'SALARY': 4.5}, {'Player': 'Bogdan Bogdanovi?', 'Pos': 'SG', 'G': 35, 'PTS': 12.5, 'TRB': 3.8, 'AST': 2.9, 'STL': 0.9, 'BLK': 0.2, 'MFG': 6.4, 'MFT': 0.30000000000000004, 'TOV': 1.1, 'EVL': 35.7142857142857, 'SALARY': 0.5}, {'Player': 'Bojan Bogdanovi?', 'Pos': 'PF', 'G': 51, 'PTS': 17.9, 'TRB': 4.3, 'AST': 1.8, 'STL': 0.5, 'BLK': 0.0, 'MFG': 7.200000000000001, 'MFT': 0.5, 'TOV': 1.7, 'EVL': 29.607843137254896, 'SALARY': 0.5}, {'Player': 'Bol Bol', 'Pos': 'PF', 'G': 13, 'PTS': 2.5, 'TRB': 1.5, 'AST': 0.4, 'STL': 0.1, 'BLK': 0.2, 'MFG': 0.9000000000000001, 'MFT': 0.0, 'TOV': 0.3, 'EVL': 26.923076923076923, 'SALARY': 2}, {'Player': 'Bones Hyland', 'Pos': 'PG', 'G': 41, 'PTS': 8.3, 'TRB': 2.6, 'AST': 1.9, 'STL': 0.5, 'BLK': 0.3, 'MFG': 5.0, 'MFT': 0.10000000000000009, 'TOV': 1.2, 'EVL': 17.80487804878049, 'SALARY': 2}, {'Player': 'Bradley Beal', 'Pos': 'SG', 'G': 40, 'PTS': 23.2, 'TRB': 4.7, 'AST': 6.6, 'STL': 0.9, 'BLK': 0.4, 'MFG': 10.600000000000001, 'MFT': 0.8999999999999995, 'TOV': 3.4, 'EVL': 52.25, 'SALARY': 34.5}, {'Player': 'Brandon Boston Jr.', 'Pos': 'SG', 'G': 38, 'PTS': 6.7, 'TRB': 2.4, 'AST': 0.8, 'STL': 0.5, 'BLK': 0.2, 'MFG': 4.199999999999999, 'MFT': 0.19999999999999996, 'TOV': 0.7, 'EVL': 14.473684210526319, 'SALARY': 1}, {'Player': 'Brandon Clarke', 'Pos': 'PF', 'G': 40, 'PTS': 9.9, 'TRB': 5.2, 'AST': 1.4, 'STL': 0.5, 'BLK': 1.0, 'MFG': 2.3, 'MFT': 0.5, 'TOV': 0.5, 'EVL': 36.75, 'SALARY': 2.5}, {'Player': 'Brandon Goodwin', 'Pos': 'PG', 'G': 14, 'PTS': 6.1, 'TRB': 2.6, 'AST': 3.5, 'STL': 1.1, 'BLK': 0.0, 'MFG': 3.6, 'MFT': 0.5, 'TOV': 1.2, 'EVL': 57.14285714285714, 'SALARY': 0.5}, {'Player': 'Brandon Ingram', 'Pos': 'SF', 'G': 39, 'PTS': 22.8, 'TRB': 5.9, 'AST': 5.5, 'STL': 0.7, 'BLK': 0.4, 'MFG': 10.2, 'MFT': 1.0, 'TOV': 2.6, 'EVL': 55.12820512820513, 'SALARY': 29.5}, {'Player': 'Bruce Brown', 'Pos': 'SF', 'G': 44, 'PTS': 6.1, 'TRB': 4.3, 'AST': 1.2, 'STL': 1.0, 'BLK': 0.5, 'MFG': 2.6999999999999997, 'MFT': 0.30000000000000004, 'TOV': 0.6, 'EVL': 21.590909090909086, 'SALARY': 4.5}, {'Player': 'Bruno Fernando', 'Pos': 'C', 'G': 19, 'PTS': 0.8, 'TRB': 0.7, 'AST': 0.2, 'STL': 0.0, 'BLK': 0.2, 'MFG': 0.3, 'MFT': 0.09999999999999998, 'TOV': 0.3, 'EVL': 6.31578947368421, 'SALARY': 2}, {'Player': 'Bryn Forbes', 'Pos': 'SG', 'G': 50, 'PTS': 9.3, 'TRB': 1.5, 'AST': 1.1, 'STL': 0.4, 'BLK': 0.1, 'MFG': 4.5, 'MFT': 0.19999999999999996, 'TOV': 0.8, 'EVL': 13.8, 'SALARY': 0.5}, {'Player': 'Buddy Hield', 'Pos': 'SG', 'G': 55, 'PTS': 14.4, 'TRB': 4.0, 'AST': 1.9, 'STL': 0.9, 'BLK': 0.3, 'MFG': 7.8, 'MFT': 0.19999999999999996, 'TOV': 1.6, 'EVL': 21.636363636363633, 'SALARY': 22.5}, {'Player': 'Cade Cunningham', 'Pos': 'PG', 'G': 41, 'PTS': 15.8, 'TRB': 5.5, 'AST': 5.2, 'STL': 1.3, 'BLK': 0.7, 'MFG': 9.0, 'MFT': 0.30000000000000004, 'TOV': 3.5, 'EVL': 38.29268292682927, 'SALARY': 10}, {'Player': 'Caleb Martin', 'Pos': 'SF', 'G': 43, 'PTS': 9.3, 'TRB': 4.0, 'AST': 1.0, 'STL': 1.0, 'BLK': 0.5, 'MFG': 3.6, 'MFT': 0.5, 'TOV': 0.8, 'EVL': 25.348837209302328, 'SALARY': 0.5}, {'Player': 'Cameron Johnson', 'Pos': 'PF', 'G': 49, 'PTS': 12.1, 'TRB': 4.3, 'AST': 1.2, 'STL': 0.9, 'BLK': 0.2, 'MFG': 4.8, 'MFT': 0.19999999999999996, 'TOV': 0.6, 'EVL': 26.734693877551013, 'SALARY': 4.5}, {'Player': 'Cameron Payne', 'Pos': 'PG', 'G': 40, 'PTS': 10.5, 'TRB': 2.8, 'AST': 3.6, 'STL': 0.6, 'BLK': 0.3, 'MFG': 5.800000000000001, 'MFT': 0.30000000000000004, 'TOV': 1.8, 'EVL': 24.750000000000007, 'SALARY': 6.5}, {'Player': 'Caris LeVert', 'Pos': 'SG', 'G': 39, 'PTS': 18.7, 'TRB': 3.8, 'AST': 4.4, 'STL': 0.9, 'BLK': 0.5, 'MFG': 8.8, 'MFT': 0.9000000000000004, 'TOV': 1.9, 'EVL': 42.82051282051282, 'SALARY': 17.5}, {'Player': 'Carmelo Anthony', 'Pos': 'PF', 'G': 50, 'PTS': 13.4, 'TRB': 4.2, 'AST': 1.0, 'STL': 0.7, 'BLK': 0.8, 'MFG': 5.9, 'MFT': 0.3999999999999999, 'TOV': 0.9, 'EVL': 25.800000000000008, 'SALARY': 2.5}, {'Player': 'Cedi Osman', 'Pos': 'SF', 'G': 42, 'PTS': 10.9, 'TRB': 2.4, 'AST': 2.0, 'STL': 0.9, 'BLK': 0.2, 'MFG': 5.299999999999999, 'MFT': 0.7, 'TOV': 0.9, 'EVL': 22.61904761904762, 'SALARY': 8}, {'Player': 'Charles Bassey', 'Pos': 'PF', 'G': 22, 'PTS': 2.9, 'TRB': 2.7, 'AST': 0.3, 'STL': 0.2, 'BLK': 0.8, 'MFG': 0.7, 'MFT': 0.09999999999999998, 'TOV': 0.4, 'EVL': 25.909090909090903, 'SALARY': 1}, {'Player': 'Charlie Brown Jr.', 'Pos': 'SG', 'G': 17, 'PTS': 1.5, 'TRB': 1.8, 'AST': 0.3, 'STL': 0.5, 'BLK': 0.2, 'MFG': 1.6, 'MFT': 0.09999999999999998, 'TOV': 0.3, 'EVL': 13.529411764705884, 'SALARY': 0.5}, {'Player': 'Chimezie Metu', 'Pos': 'C', 'G': 37, 'PTS': 8.7, 'TRB': 5.9, 'AST': 1.0, 'STL': 0.9, 'BLK': 0.6, 'MFG': 4.699999999999999, 'MFT': 0.3999999999999999, 'TOV': 0.9, 'EVL': 30.00000000000001, 'SALARY': 2}, {'Player': 'Chris Boucher', 'Pos': 'PF', 'G': 49, 'PTS': 9.1, 'TRB': 5.9, 'AST': 0.4, 'STL': 0.7, 'BLK': 1.1, 'MFG': 3.8999999999999995, 'MFT': 0.4999999999999998, 'TOV': 0.6, 'EVL': 24.89795918367348, 'SALARY': 7}, {'Player': 'Chris Chiozza', 'Pos': 'PG', 'G': 26, 'PTS': 2.1, 'TRB': 1.2, 'AST': 1.8, 'STL': 0.3, 'BLK': 0.0, 'MFG': 1.8, 'MFT': 0.0, 'TOV': 0.8, 'EVL': 10.769230769230768, 'SALARY': 0.5}, {'Player': 'Chris Duarte', 'Pos': 'SG', 'G': 47, 'PTS': 13.3, 'TRB': 4.2, 'AST': 2.2, 'STL': 1.1, 'BLK': 0.2, 'MFG': 6.6, 'MFT': 0.3999999999999999, 'TOV': 1.6, 'EVL': 26.38297872340426, 'SALARY': 3.5}, {'Player': 'Chris Paul', 'Pos': 'PG', 'G': 52, 'PTS': 14.9, 'TRB': 4.5, 'AST': 10.4, 'STL': 1.9, 'BLK': 0.3, 'MFG': 5.9, 'MFT': 0.6000000000000001, 'TOV': 2.3, 'EVL': 44.6153846153846, 'SALARY': 31}, {'Player': 'Chuma Okeke', 'Pos': 'PF', 'G': 44, 'PTS': 7.9, 'TRB': 4.5, 'AST': 1.5, 'STL': 1.4, 'BLK': 0.6, 'MFG': 4.800000000000001, 'MFT': 0.09999999999999998, 'TOV': 0.8, 'EVL': 23.18181818181818, 'SALARY': 3.5}, {'Player': 'CJ Elleby', 'Pos': 'SF', 'G': 30, 'PTS': 3.9, 'TRB': 2.4, 'AST': 0.9, 'STL': 0.5, 'BLK': 0.1, 'MFG': 2.0, 'MFT': 0.09999999999999998, 'TOV': 0.4, 'EVL': 17.666666666666668, 'SALARY': 1.5}, {'Player': 'CJ McCollum', 'Pos': 'SG', 'G': 36, 'PTS': 20.5, 'TRB': 4.3, 'AST': 4.5, 'STL': 1.0, 'BLK': 0.6, 'MFG': 10.4, 'MFT': 0.5999999999999999, 'TOV': 1.9, 'EVL': 50.0, 'SALARY': 31}, {'Player': 'Clint Capela', 'Pos': 'C', 'G': 45, 'PTS': 11.0, 'TRB': 12.2, 'AST': 1.4, 'STL': 0.7, 'BLK': 1.4, 'MFG': 3.5999999999999996, 'MFT': 1.2999999999999998, 'TOV': 0.6, 'EVL': 47.1111111111111, 'SALARY': 17}, {'Player': 'Cody Martin', 'Pos': 'SF', 'G': 49, 'PTS': 8.0, 'TRB': 4.2, 'AST': 2.6, 'STL': 1.3, 'BLK': 0.5, 'MFG': 3.6, 'MFT': 0.5999999999999999, 'TOV': 0.9, 'EVL': 23.469387755102037, 'SALARY': 2}, {'Player': 'Cole Anthony', 'Pos': 'PG', 'G': 41, 'PTS': 17.7, 'TRB': 5.9, 'AST': 6.0, 'STL': 0.9, 'BLK': 0.3, 'MFG': 9.4, 'MFT': 0.6000000000000001, 'TOV': 2.8, 'EVL': 43.90243902439023, 'SALARY': 3.5}, {'Player': 'Corey Kispert', 'Pos': 'SF', 'G': 47, 'PTS': 5.9, 'TRB': 2.4, 'AST': 0.9, 'STL': 0.3, 'BLK': 0.3, 'MFG': 2.9, 'MFT': 0.20000000000000007, 'TOV': 0.4, 'EVL': 13.404255319148941, 'SALARY': 3.5}, {'Player': 'Cory Joseph', 'Pos': 'PG', 'G': 42, 'PTS': 8.5, 'TRB': 2.4, 'AST': 3.9, 'STL': 0.7, 'BLK': 0.3, 'MFG': 3.5000000000000004, 'MFT': 0.2999999999999998, 'TOV': 1.4, 'EVL': 25.238095238095237, 'SALARY': 7.0}, {'Player': 'D.J. Augustin', 'Pos': 'PG', 'G': 34, 'PTS': 5.4, 'TRB': 1.2, 'AST': 2.2, 'STL': 0.3, 'BLK': 0.0, 'MFG': 2.4, 'MFT': 0.10000000000000009, 'TOV': 1.3, 'EVL': 15.588235294117652, 'SALARY': 7.0}, {'Player': 'Dalano Banton', 'Pos': 'SF', 'G': 41, 'PTS': 3.6, 'TRB': 2.2, 'AST': 1.7, 'STL': 0.5, 'BLK': 0.2, 'MFG': 2.2, 'MFT': 0.19999999999999996, 'TOV': 1.0, 'EVL': 11.70731707317073, 'SALARY': 1}, {'Player': 'Damian Jones', 'Pos': 'C', 'G': 35, 'PTS': 6.1, 'TRB': 4.0, 'AST': 1.1, 'STL': 0.3, 'BLK': 0.6, 'MFG': 1.4000000000000004, 'MFT': 0.5, 'TOV': 1.0, 'EVL': 26.285714285714285, 'SALARY': 2}, {'Player': 'Damian Lillard', 'Pos': 'PG', 'G': 29, 'PTS': 24.0, 'TRB': 4.1, 'AST': 7.3, 'STL': 0.6, 'BLK': 0.4, 'MFG': 11.3, 'MFT': 0.7000000000000002, 'TOV': 2.9, 'EVL': 74.13793103448275, 'SALARY': 39.5}, {'Player': 'Damion Lee', 'Pos': 'SG', 'G': 42, 'PTS': 8.1, 'TRB': 3.1, 'AST': 0.9, 'STL': 0.6, 'BLK': 0.1, 'MFG': 3.5, 'MFT': 0.20000000000000007, 'TOV': 0.7, 'EVL': 20.0, 'SALARY': 2}, {'Player': 'Daniel Gafford', 'Pos': 'C', 'G': 48, 'PTS': 8.9, 'TRB': 6.0, 'AST': 1.0, 'STL': 0.4, 'BLK': 1.5, 'MFG': 1.7999999999999998, 'MFT': 0.40000000000000013, 'TOV': 0.9, 'EVL': 30.625000000000004, 'SALARY': 2}, {'Player': 'Danilo Gallinari', 'Pos': 'PF', 'G': 42, 'PTS': 10.3, 'TRB': 4.4, 'AST': 1.4, 'STL': 0.4, 'BLK': 0.2, 'MFG': 4.5, 'MFT': 0.19999999999999973, 'TOV': 0.6, 'EVL': 27.142857142857146, 'SALARY': 20.5}, {'Player': 'Danny Green', 'Pos': 'SF', 'G': 35, 'PTS': 6.9, 'TRB': 2.6, 'AST': 1.0, 'STL': 1.1, 'BLK': 0.8, 'MFG': 3.3000000000000003, 'MFT': 0.0, 'TOV': 0.9, 'EVL': 23.428571428571427, 'SALARY': 10.0}, {'Player': 'Danuel House Jr.', 'Pos': 'SF', 'G': 24, 'PTS': 5.6, 'TRB': 2.5, 'AST': 1.3, 'STL': 0.4, 'BLK': 0.3, 'MFG': 3.0, 'MFT': 0.2999999999999998, 'TOV': 0.9, 'EVL': 24.583333333333336, 'SALARY': 1.5}, {'Player': 'Darius Bazley', 'Pos': 'PF', 'G': 47, 'PTS': 9.2, 'TRB': 6.4, 'AST': 1.2, 'STL': 0.8, 'BLK': 1.2, 'MFG': 5.1, 'MFT': 0.6000000000000001, 'TOV': 1.3, 'EVL': 25.106382978723403, 'SALARY': 2.5}, {'Player': 'Darius Garland', 'Pos': 'PG', 'G': 44, 'PTS': 19.8, 'TRB': 3.3, 'AST': 8.2, 'STL': 1.2, 'BLK': 0.1, 'MFG': 8.5, 'MFT': 0.2999999999999998, 'TOV': 3.6, 'EVL': 45.909090909090914, 'SALARY': 7}, {'Player': 'David Duke Jr.', 'Pos': 'PG', 'G': 14, 'PTS': 5.6, 'TRB': 4.1, 'AST': 0.9, 'STL': 0.5, 'BLK': 0.4, 'MFG': 3.4999999999999996, 'MFT': 0.19999999999999996, 'TOV': 0.6, 'EVL': 51.42857142857144, 'SALARY': 0.5}, {'Player': 'David Nwaba', 'Pos': 'SF', 'G': 34, 'PTS': 5.3, 'TRB': 3.8, 'AST': 0.8, 'STL': 0.6, 'BLK': 0.5, 'MFG': 2.0999999999999996, 'MFT': 0.3999999999999999, 'TOV': 0.5, 'EVL': 23.52941176470588, 'SALARY': 4.5}, {'Player': 'Davion Mitchell', 'Pos': 'PG', 'G': 49, 'PTS': 10.3, 'TRB': 2.2, 'AST': 3.4, 'STL': 0.7, 'BLK': 0.3, 'MFG': 6.2, 'MFT': 0.30000000000000004, 'TOV': 1.1, 'EVL': 18.9795918367347, 'SALARY': 4.5}, {'Player': 'D?vis Bert?ns', 'Pos': 'PF', 'G': 33, 'PTS': 5.8, 'TRB': 1.8, 'AST': 0.5, 'STL': 0.3, 'BLK': 0.2, 'MFG': 3.3, 'MFT': 0.09999999999999998, 'TOV': 0.4, 'EVL': 14.545454545454545, 'SALARY': 0.5}, {'Player': \"De'Aaron Fox\", 'Pos': 'PG', 'G': 43, 'PTS': 21.0, 'TRB': 3.8, 'AST': 5.2, 'STL': 1.2, 'BLK': 0.4, 'MFG': 9.299999999999999, 'MFT': 1.5, 'TOV': 2.8, 'EVL': 41.86046511627906, 'SALARY': 28}, {'Player': \"DeAndre' Bembry\", 'Pos': 'SF', 'G': 47, 'PTS': 5.8, 'TRB': 3.2, 'AST': 1.3, 'STL': 1.0, 'BLK': 0.5, 'MFG': 1.7999999999999998, 'MFT': 0.29999999999999993, 'TOV': 0.6, 'EVL': 19.361702127659576, 'SALARY': 2}, {'Player': \"De'Andre Hunter\", 'Pos': 'SF', 'G': 25, 'PTS': 13.2, 'TRB': 3.4, 'AST': 1.2, 'STL': 0.6, 'BLK': 0.4, 'MFG': 5.799999999999999, 'MFT': 0.8999999999999999, 'TOV': 1.4, 'EVL': 42.8, 'SALARY': 8}, {'Player': 'DeAndre Jordan', 'Pos': 'C', 'G': 31, 'PTS': 4.2, 'TRB': 5.5, 'AST': 0.4, 'STL': 0.3, 'BLK': 0.8, 'MFG': 0.8999999999999999, 'MFT': 0.4, 'TOV': 0.6, 'EVL': 30.000000000000004, 'SALARY': 10.5}, {'Player': \"De'Anthony Melton\", 'Pos': 'SG', 'G': 46, 'PTS': 9.9, 'TRB': 4.6, 'AST': 2.7, 'STL': 1.6, 'BLK': 0.5, 'MFG': 5.700000000000001, 'MFT': 0.5, 'TOV': 1.4, 'EVL': 25.43478260869565, 'SALARY': 8.5}, {'Player': 'Dejounte Murray', 'Pos': 'PG', 'G': 47, 'PTS': 19.6, 'TRB': 8.4, 'AST': 9.2, 'STL': 2.1, 'BLK': 0.4, 'MFG': 9.799999999999999, 'MFT': 0.7000000000000002, 'TOV': 2.5, 'EVL': 56.80851063829788, 'SALARY': 15.5}, {'Player': 'DeMar DeRozan', 'Pos': 'PF', 'G': 49, 'PTS': 27.0, 'TRB': 5.2, 'AST': 5.1, 'STL': 0.9, 'BLK': 0.3, 'MFG': 9.599999999999998, 'MFT': 1.1000000000000005, 'TOV': 2.3, 'EVL': 52.04081632653062, 'SALARY': 26.0}, {'Player': 'DeMarcus Cousins', 'Pos': 'C', 'G': 22, 'PTS': 8.4, 'TRB': 6.0, 'AST': 1.0, 'STL': 0.9, 'BLK': 0.4, 'MFG': 4.1, 'MFT': 0.5999999999999999, 'TOV': 1.3, 'EVL': 48.636363636363626, 'SALARY': 1}, {'Player': 'Deni Avdija', 'Pos': 'SF', 'G': 52, 'PTS': 7.3, 'TRB': 4.8, 'AST': 1.6, 'STL': 0.7, 'BLK': 0.6, 'MFG': 3.5, 'MFT': 0.3999999999999999, 'TOV': 0.8, 'EVL': 19.8076923076923, 'SALARY': 4.5}, {'Player': 'Derrick Favors', 'Pos': 'C', 'G': 33, 'PTS': 5.1, 'TRB': 4.7, 'AST': 0.7, 'STL': 0.4, 'BLK': 0.2, 'MFG': 2.4000000000000004, 'MFT': 0.19999999999999996, 'TOV': 0.2, 'EVL': 25.151515151515152, 'SALARY': 9.5}, {'Player': 'Derrick Jones Jr.', 'Pos': 'PF', 'G': 31, 'PTS': 6.3, 'TRB': 3.4, 'AST': 0.5, 'STL': 0.5, 'BLK': 0.7, 'MFG': 1.6, 'MFT': 0.19999999999999996, 'TOV': 0.5, 'EVL': 29.354838709677416, 'SALARY': 9.5}, {'Player': 'Desmond Bane', 'Pos': 'SF', 'G': 51, 'PTS': 17.8, 'TRB': 4.5, 'AST': 2.4, 'STL': 1.1, 'BLK': 0.5, 'MFG': 7.8, 'MFT': 0.19999999999999996, 'TOV': 1.5, 'EVL': 32.94117647058823, 'SALARY': 2}, {'Player': 'Devin Booker', 'Pos': 'SG', 'G': 45, 'PTS': 25.2, 'TRB': 5.4, 'AST': 4.3, 'STL': 1.0, 'BLK': 0.3, 'MFG': 11.5, 'MFT': 0.7000000000000002, 'TOV': 2.5, 'EVL': 47.777777777777764, 'SALARY': 31.5}, {'Player': 'Devon Dotson', 'Pos': 'PG', 'G': 11, 'PTS': 2.6, 'TRB': 0.8, 'AST': 1.4, 'STL': 0.1, 'BLK': 0.0, 'MFG': 1.1, 'MFT': 0.30000000000000004, 'TOV': 0.5, 'EVL': 27.272727272727277, 'SALARY': 0.5}, {'Player': \"Devonte' Graham\", 'Pos': 'PG', 'G': 49, 'PTS': 13.7, 'TRB': 2.5, 'AST': 4.5, 'STL': 0.9, 'BLK': 0.2, 'MFG': 7.800000000000001, 'MFT': 0.30000000000000004, 'TOV': 1.6, 'EVL': 24.6938775510204, 'SALARY': 11.0}, {'Player': 'Dewayne Dedmon', 'Pos': 'C', 'G': 47, 'PTS': 6.4, 'TRB': 6.2, 'AST': 0.8, 'STL': 0.4, 'BLK': 0.5, 'MFG': 1.8000000000000003, 'MFT': 0.30000000000000004, 'TOV': 1.1, 'EVL': 23.617021276595747, 'SALARY': 5.5}, {'Player': 'Donovan Mitchell', 'Pos': 'SG', 'G': 41, 'PTS': 25.5, 'TRB': 3.9, 'AST': 5.2, 'STL': 1.6, 'BLK': 0.2, 'MFG': 11.099999999999998, 'MFT': 0.5, 'TOV': 3.0, 'EVL': 53.17073170731709, 'SALARY': 28}, {'Player': 'Donte DiVincenzo', 'Pos': 'SG', 'G': 16, 'PTS': 7.1, 'TRB': 3.6, 'AST': 1.6, 'STL': 0.6, 'BLK': 0.2, 'MFG': 4.6000000000000005, 'MFT': 0.20000000000000018, 'TOV': 1.6, 'EVL': 41.874999999999986, 'SALARY': 4.5}, {'Player': 'Dorian Finney-Smith', 'Pos': 'PF', 'G': 53, 'PTS': 10.1, 'TRB': 4.8, 'AST': 1.9, 'STL': 1.2, 'BLK': 0.5, 'MFG': 4.8999999999999995, 'MFT': 0.3999999999999999, 'TOV': 1.0, 'EVL': 23.0188679245283, 'SALARY': 4.0}, {'Player': 'Doug McDermott', 'Pos': 'PF', 'G': 38, 'PTS': 11.7, 'TRB': 2.4, 'AST': 1.3, 'STL': 0.3, 'BLK': 0.1, 'MFG': 5.0, 'MFT': 0.19999999999999996, 'TOV': 0.8, 'EVL': 25.789473684210527, 'SALARY': 13.5}, {'Player': 'Draymond Green', 'Pos': 'PF', 'G': 34, 'PTS': 7.9, 'TRB': 7.6, 'AST': 7.4, 'STL': 1.4, 'BLK': 1.2, 'MFG': 2.7, 'MFT': 0.8, 'TOV': 3.1, 'EVL': 55.588235294117624, 'SALARY': 24}, {'Player': 'Drew Eubanks', 'Pos': 'C', 'G': 48, 'PTS': 4.8, 'TRB': 4.0, 'AST': 1.0, 'STL': 0.3, 'BLK': 0.6, 'MFG': 1.4999999999999998, 'MFT': 0.40000000000000013, 'TOV': 1.0, 'EVL': 16.25, 'SALARY': 2}, {'Player': 'Dwight Howard', 'Pos': 'C', 'G': 41, 'PTS': 5.2, 'TRB': 5.4, 'AST': 0.5, 'STL': 0.7, 'BLK': 0.6, 'MFG': 1.1, 'MFT': 0.8, 'TOV': 0.8, 'EVL': 23.65853658536585, 'SALARY': 2.5}, {'Player': 'Dwight Powell', 'Pos': 'C', 'G': 54, 'PTS': 7.3, 'TRB': 4.4, 'AST': 1.1, 'STL': 0.5, 'BLK': 0.4, 'MFG': 1.5999999999999996, 'MFT': 0.5, 'TOV': 0.8, 'EVL': 20.0, 'SALARY': 11.0}, {'Player': 'Ed Davis', 'Pos': 'C', 'G': 17, 'PTS': 1.2, 'TRB': 2.5, 'AST': 0.2, 'STL': 0.2, 'BLK': 0.4, 'MFG': 0.30000000000000004, 'MFT': 0.3, 'TOV': 0.3, 'EVL': 21.1764705882353, 'SALARY': 2.5}, {'Player': 'Elfrid Payton', 'Pos': 'PG', 'G': 32, 'PTS': 2.9, 'TRB': 1.9, 'AST': 1.9, 'STL': 0.5, 'BLK': 0.1, 'MFG': 2.3, 'MFT': 0.3, 'TOV': 1.1, 'EVL': 11.249999999999998, 'SALARY': 2}, {'Player': 'Elijah Hughes', 'Pos': 'SF', 'G': 14, 'PTS': 3.1, 'TRB': 1.2, 'AST': 0.4, 'STL': 0.3, 'BLK': 0.1, 'MFG': 1.5, 'MFT': 0.0, 'TOV': 0.5, 'EVL': 22.14285714285714, 'SALARY': 1.5}, {'Player': 'Enes Freedom', 'Pos': 'C', 'G': 34, 'PTS': 3.6, 'TRB': 4.4, 'AST': 0.2, 'STL': 0.1, 'BLK': 0.4, 'MFG': 1.3000000000000003, 'MFT': 0.10000000000000009, 'TOV': 0.6, 'EVL': 19.705882352941174, 'SALARY': 2.5}, {'Player': 'Eric Bledsoe', 'Pos': 'PG', 'G': 54, 'PTS': 9.9, 'TRB': 3.4, 'AST': 4.2, 'STL': 1.3, 'BLK': 0.4, 'MFG': 5.1, 'MFT': 0.6000000000000001, 'TOV': 2.1, 'EVL': 21.111111111111107, 'SALARY': 18}, {'Player': 'Eric Gordon', 'Pos': 'SG', 'G': 45, 'PTS': 14.2, 'TRB': 2.0, 'AST': 3.0, 'STL': 0.5, 'BLK': 0.4, 'MFG': 5.199999999999999, 'MFT': 0.7000000000000002, 'TOV': 2.0, 'EVL': 27.111111111111107, 'SALARY': 18}, {'Player': 'Eric Paschall', 'Pos': 'PF', 'G': 39, 'PTS': 5.8, 'TRB': 2.1, 'AST': 0.6, 'STL': 0.1, 'BLK': 0.1, 'MFG': 2.1, 'MFT': 0.3999999999999999, 'TOV': 0.6, 'EVL': 14.358974358974358, 'SALARY': 2}, {'Player': 'Evan Fournier', 'Pos': 'SG', 'G': 51, 'PTS': 14.1, 'TRB': 2.9, 'AST': 1.8, 'STL': 0.9, 'BLK': 0.2, 'MFG': 6.9, 'MFT': 0.3999999999999999, 'TOV': 1.3, 'EVL': 22.15686274509804, 'SALARY': 18}, {'Player': 'Evan Mobley', 'Pos': 'PF', 'G': 46, 'PTS': 14.9, 'TRB': 8.1, 'AST': 2.6, 'STL': 0.7, 'BLK': 1.7, 'MFG': 6.0, 'MFT': 1.3000000000000003, 'TOV': 2.0, 'EVL': 40.65217391304348, 'SALARY': 8}, {'Player': 'Facundo Campazzo', 'Pos': 'PG', 'G': 50, 'PTS': 6.0, 'TRB': 1.9, 'AST': 3.8, 'STL': 1.1, 'BLK': 0.4, 'MFG': 3.1999999999999997, 'MFT': 0.19999999999999996, 'TOV': 1.2, 'EVL': 17.200000000000003, 'SALARY': 4}, {'Player': 'Frank Jackson', 'Pos': 'PG', 'G': 40, 'PTS': 11.2, 'TRB': 1.6, 'AST': 0.9, 'STL': 0.5, 'BLK': 0.2, 'MFG': 5.4, 'MFT': 0.40000000000000013, 'TOV': 0.8, 'EVL': 19.499999999999996, 'SALARY': 3.0}, {'Player': 'Frank Ntilikina', 'Pos': 'PG', 'G': 43, 'PTS': 4.3, 'TRB': 1.4, 'AST': 1.2, 'STL': 0.5, 'BLK': 0.1, 'MFG': 2.5999999999999996, 'MFT': 0.09999999999999998, 'TOV': 0.6, 'EVL': 9.767441860465116, 'SALARY': 2}, {'Player': 'Furkan Korkmaz', 'Pos': 'SG', 'G': 46, 'PTS': 9.0, 'TRB': 3.0, 'AST': 2.3, 'STL': 0.6, 'BLK': 0.1, 'MFG': 5.000000000000001, 'MFT': 0.19999999999999996, 'TOV': 0.8, 'EVL': 19.565217391304348, 'SALARY': 4.5}, {'Player': 'Gabriel Deck', 'Pos': 'PF', 'G': 7, 'PTS': 2.6, 'TRB': 0.9, 'AST': 0.7, 'STL': 0.1, 'BLK': 0.0, 'MFG': 0.8999999999999999, 'MFT': 0.0, 'TOV': 0.3, 'EVL': 44.28571428571429, 'SALARY': 1.5}, {'Player': 'Garrison Mathews', 'Pos': 'SG', 'G': 36, 'PTS': 11.6, 'TRB': 3.4, 'AST': 1.0, 'STL': 0.7, 'BLK': 0.4, 'MFG': 4.7, 'MFT': 0.6000000000000001, 'TOV': 0.6, 'EVL': 31.111111111111107, 'SALARY': 1}, {'Player': 'Gary Clark', 'Pos': 'PF', 'G': 21, 'PTS': 2.8, 'TRB': 2.2, 'AST': 0.3, 'STL': 0.3, 'BLK': 0.2, 'MFG': 1.5, 'MFT': 0.09999999999999998, 'TOV': 0.2, 'EVL': 19.047619047619047, 'SALARY': 0.5}, {'Player': 'Gary Harris', 'Pos': 'SG', 'G': 47, 'PTS': 11.6, 'TRB': 2.2, 'AST': 1.9, 'STL': 0.9, 'BLK': 0.2, 'MFG': 5.3, 'MFT': 0.20000000000000018, 'TOV': 1.0, 'EVL': 21.914893617021278, 'SALARY': 20.5}, {'Player': 'Gary Payton II', 'Pos': 'PG', 'G': 50, 'PTS': 7.3, 'TRB': 3.6, 'AST': 0.8, 'STL': 1.4, 'BLK': 0.3, 'MFG': 1.9000000000000004, 'MFT': 0.4, 'TOV': 0.5, 'EVL': 21.200000000000003, 'SALARY': 2}, {'Player': 'George Hill', 'Pos': 'SG', 'G': 41, 'PTS': 7.0, 'TRB': 3.2, 'AST': 2.5, 'STL': 0.8, 'BLK': 0.1, 'MFG': 3.2, 'MFT': 0.0, 'TOV': 0.9, 'EVL': 23.170731707317067, 'SALARY': 4.0}, {'Player': 'Georges Niang', 'Pos': 'PF', 'G': 49, 'PTS': 9.5, 'TRB': 2.6, 'AST': 1.5, 'STL': 0.4, 'BLK': 0.2, 'MFG': 4.300000000000001, 'MFT': 0.09999999999999998, 'TOV': 0.9, 'EVL': 18.163265306122444, 'SALARY': 3.5}, {'Player': 'Georgios Kalaitzakis', 'Pos': 'SF', 'G': 9, 'PTS': 1.8, 'TRB': 0.9, 'AST': 0.0, 'STL': 0.1, 'BLK': 0.1, 'MFG': 0.6, 'MFT': 0.6, 'TOV': 0.4, 'EVL': 14.444444444444448, 'SALARY': 0.5}, {'Player': 'Giannis Antetokounmpo', 'Pos': 'PF', 'G': 45, 'PTS': 28.9, 'TRB': 11.2, 'AST': 5.9, 'STL': 1.0, 'BLK': 1.4, 'MFG': 8.499999999999998, 'MFT': 3.0, 'TOV': 3.4, 'EVL': 74.44444444444443, 'SALARY': 39.5}, {'Player': 'Goga Bitadze', 'Pos': 'C', 'G': 31, 'PTS': 4.5, 'TRB': 2.9, 'AST': 0.5, 'STL': 0.3, 'BLK': 0.6, 'MFG': 2.2, 'MFT': 0.6, 'TOV': 0.8, 'EVL': 16.7741935483871, 'SALARY': 3}, {'Player': 'Gordon Hayward', 'Pos': 'SF', 'G': 47, 'PTS': 16.4, 'TRB': 4.7, 'AST': 3.7, 'STL': 1.0, 'BLK': 0.5, 'MFG': 6.9, 'MFT': 0.5, 'TOV': 1.7, 'EVL': 36.59574468085106, 'SALARY': 30}, {'Player': 'Gorgui Dieng', 'Pos': 'C', 'G': 34, 'PTS': 3.4, 'TRB': 3.0, 'AST': 0.8, 'STL': 0.3, 'BLK': 0.4, 'MFG': 1.4000000000000001, 'MFT': 0.19999999999999996, 'TOV': 0.5, 'EVL': 17.058823529411764, 'SALARY': 4.0}, {'Player': 'Grayson Allen', 'Pos': 'SG', 'G': 45, 'PTS': 11.7, 'TRB': 3.5, 'AST': 1.5, 'STL': 0.8, 'BLK': 0.3, 'MFG': 5.5, 'MFT': 0.19999999999999996, 'TOV': 0.6, 'EVL': 25.55555555555556, 'SALARY': 4}, {'Player': 'Greg Brown III', 'Pos': 'SF', 'G': 23, 'PTS': 2.6, 'TRB': 1.5, 'AST': 0.2, 'STL': 0.2, 'BLK': 0.3, 'MFG': 1.1999999999999997, 'MFT': 0.5, 'TOV': 0.3, 'EVL': 12.173913043478262, 'SALARY': 1}, {'Player': 'Hamidou Diallo', 'Pos': 'SG', 'G': 46, 'PTS': 10.8, 'TRB': 4.8, 'AST': 1.2, 'STL': 1.2, 'BLK': 0.3, 'MFG': 4.5, 'MFT': 0.7000000000000002, 'TOV': 1.0, 'EVL': 26.30434782608696, 'SALARY': 5}, {'Player': 'Harrison Barnes', 'Pos': 'PF', 'G': 50, 'PTS': 16.8, 'TRB': 6.1, 'AST': 2.5, 'STL': 0.7, 'BLK': 0.2, 'MFG': 6.2, 'MFT': 1.0, 'TOV': 1.6, 'EVL': 34.99999999999999, 'SALARY': 20.5}, {'Player': 'Herbert Jones', 'Pos': 'C', 'G': 50, 'PTS': 9.6, 'TRB': 3.8, 'AST': 2.0, 'STL': 1.5, 'BLK': 0.9, 'MFG': 3.6999999999999997, 'MFT': 0.2999999999999998, 'TOV': 1.1, 'EVL': 25.399999999999995, 'SALARY': 1.5}, {'Player': 'Ignas Brazdeikis', 'Pos': 'SF', 'G': 24, 'PTS': 2.9, 'TRB': 1.4, 'AST': 0.7, 'STL': 0.2, 'BLK': 0.0, 'MFG': 1.7000000000000002, 'MFT': 0.09999999999999998, 'TOV': 0.3, 'EVL': 12.916666666666668, 'SALARY': 0.5}, {'Player': 'Isaac Bonga', 'Pos': 'SF', 'G': 13, 'PTS': 0.8, 'TRB': 0.5, 'AST': 0.2, 'STL': 0.5, 'BLK': 0.2, 'MFG': 0.8, 'MFT': 0.2, 'TOV': 0.2, 'EVL': 7.6923076923076925, 'SALARY': 1.5}, {'Player': 'Isaac Okoro', 'Pos': 'SF', 'G': 39, 'PTS': 9.0, 'TRB': 3.2, 'AST': 1.8, 'STL': 0.8, 'BLK': 0.3, 'MFG': 3.8, 'MFT': 0.6000000000000001, 'TOV': 1.0, 'EVL': 24.87179487179488, 'SALARY': 6.5}, {'Player': 'Isaiah Hartenstein', 'Pos': 'C', 'G': 41, 'PTS': 7.3, 'TRB': 4.2, 'AST': 1.8, 'STL': 0.7, 'BLK': 1.1, 'MFG': 1.8000000000000003, 'MFT': 0.5999999999999999, 'TOV': 1.0, 'EVL': 28.536585365853657, 'SALARY': 3.5}, {'Player': 'Isaiah Jackson', 'Pos': 'PF', 'G': 19, 'PTS': 5.5, 'TRB': 2.8, 'AST': 0.4, 'STL': 0.4, 'BLK': 0.8, 'MFG': 1.9, 'MFT': 0.5, 'TOV': 0.5, 'EVL': 36.842105263157904, 'SALARY': 2.5}, {'Player': 'Isaiah Joe', 'Pos': 'SG', 'G': 38, 'PTS': 4.0, 'TRB': 1.2, 'AST': 0.7, 'STL': 0.3, 'BLK': 0.1, 'MFG': 2.3, 'MFT': 0.09999999999999998, 'TOV': 0.3, 'EVL': 9.473684210526317, 'SALARY': 1.5}, {'Player': 'Jabari Parker', 'Pos': 'PF', 'G': 12, 'PTS': 4.4, 'TRB': 2.3, 'AST': 0.5, 'STL': 0.3, 'BLK': 0.1, 'MFG': 1.7000000000000002, 'MFT': 0.0, 'TOV': 0.7, 'EVL': 43.33333333333333, 'SALARY': 1}, {'Player': 'Jaden McDaniels', 'Pos': 'PF', 'G': 50, 'PTS': 8.4, 'TRB': 4.3, 'AST': 1.1, 'STL': 0.8, 'BLK': 0.7, 'MFG': 4.300000000000001, 'MFT': 0.20000000000000007, 'TOV': 1.1, 'EVL': 19.4, 'SALARY': 2}, {'Player': 'Jae Crowder', 'Pos': 'PF', 'G': 42, 'PTS': 9.1, 'TRB': 4.9, 'AST': 1.3, 'STL': 1.2, 'BLK': 0.5, 'MFG': 4.7, 'MFT': 0.20000000000000007, 'TOV': 0.9, 'EVL': 26.66666666666667, 'SALARY': 9.5}, {'Player': 'Jake Layman', 'Pos': 'SF', 'G': 22, 'PTS': 2.1, 'TRB': 1.0, 'AST': 0.3, 'STL': 0.3, 'BLK': 0.2, 'MFG': 1.4000000000000001, 'MFT': 0.10000000000000003, 'TOV': 0.3, 'EVL': 9.545454545454545, 'SALARY': 4}, {'Player': 'Jakob Poeltl', 'Pos': 'C', 'G': 44, 'PTS': 13.3, 'TRB': 9.0, 'AST': 2.8, 'STL': 0.7, 'BLK': 1.7, 'MFG': 3.8000000000000007, 'MFT': 1.4000000000000001, 'TOV': 1.5, 'EVL': 47.27272727272727, 'SALARY': 8.5}, {'Player': 'Jalen Brunson', 'Pos': 'PG', 'G': 53, 'PTS': 16.0, 'TRB': 3.9, 'AST': 5.5, 'STL': 0.9, 'BLK': 0.1, 'MFG': 6.300000000000001, 'MFT': 0.5, 'TOV': 1.7, 'EVL': 33.77358490566038, 'SALARY': 2}, {'Player': 'Jalen Green', 'Pos': 'SG', 'G': 38, 'PTS': 14.4, 'TRB': 3.3, 'AST': 2.4, 'STL': 0.6, 'BLK': 0.2, 'MFG': 7.8999999999999995, 'MFT': 0.6000000000000001, 'TOV': 2.3, 'EVL': 26.578947368421048, 'SALARY': 9}, {'Player': 'Jalen Johnson', 'Pos': 'PF', 'G': 13, 'PTS': 1.9, 'TRB': 1.2, 'AST': 0.1, 'STL': 0.0, 'BLK': 0.0, 'MFG': 0.8, 'MFT': 0.2, 'TOV': 0.2, 'EVL': 15.38461538461538, 'SALARY': 2.5}, {'Player': 'Jalen McDaniels', 'Pos': 'SF', 'G': 39, 'PTS': 6.6, 'TRB': 3.5, 'AST': 1.1, 'STL': 0.5, 'BLK': 0.4, 'MFG': 2.5999999999999996, 'MFT': 0.3999999999999999, 'TOV': 0.8, 'EVL': 21.282051282051277, 'SALARY': 2}, {'Player': 'James Bouknight', 'Pos': 'SG', 'G': 25, 'PTS': 4.8, 'TRB': 1.5, 'AST': 0.8, 'STL': 0.2, 'BLK': 0.0, 'MFG': 2.8999999999999995, 'MFT': 0.20000000000000007, 'TOV': 0.4, 'EVL': 15.200000000000003, 'SALARY': 4}, {'Player': 'James Harden', 'Pos': 'PG', 'G': 44, 'PTS': 22.5, 'TRB': 8.0, 'AST': 10.2, 'STL': 1.3, 'BLK': 0.7, 'MFG': 9.4, 'MFT': 1.0999999999999996, 'TOV': 4.8, 'EVL': 62.27272727272728, 'SALARY': 44}, {'Player': 'James Johnson', 'Pos': 'PF', 'G': 38, 'PTS': 5.2, 'TRB': 3.5, 'AST': 1.8, 'STL': 0.5, 'BLK': 0.4, 'MFG': 2.6000000000000005, 'MFT': 0.39999999999999997, 'TOV': 0.7, 'EVL': 20.26315789473684, 'SALARY': 2.5}, {'Player': 'JaMychal Green', 'Pos': 'PF', 'G': 40, 'PTS': 5.9, 'TRB': 3.6, 'AST': 0.8, 'STL': 0.7, 'BLK': 0.4, 'MFG': 2.5999999999999996, 'MFT': 0.09999999999999987, 'TOV': 0.9, 'EVL': 19.5, 'SALARY': 8.5}, {'Player': 'Jared Butler', 'Pos': 'SG', 'G': 24, 'PTS': 3.7, 'TRB': 0.9, 'AST': 1.2, 'STL': 0.3, 'BLK': 0.3, 'MFG': 2.1, 'MFT': 0.10000000000000003, 'TOV': 0.9, 'EVL': 13.750000000000004, 'SALARY': 1}, {'Player': 'Jaren Jackson Jr.', 'Pos': 'PF', 'G': 54, 'PTS': 16.7, 'TRB': 5.9, 'AST': 1.1, 'STL': 1.0, 'BLK': 2.3, 'MFG': 7.8999999999999995, 'MFT': 0.8999999999999999, 'TOV': 1.7, 'EVL': 30.555555555555568, 'SALARY': 9}, {'Player': 'Jarrett Allen', 'Pos': 'C', 'G': 46, 'PTS': 16.2, 'TRB': 11.1, 'AST': 1.8, 'STL': 0.7, 'BLK': 1.4, 'MFG': 3.3000000000000007, 'MFT': 1.4000000000000004, 'TOV': 1.8, 'EVL': 53.69565217391303, 'SALARY': 20.0}, {'Player': 'Jarrett Culver', 'Pos': 'SG', 'G': 24, 'PTS': 3.8, 'TRB': 1.5, 'AST': 1.0, 'STL': 0.6, 'BLK': 0.1, 'MFG': 2.1, 'MFT': 0.4, 'TOV': 0.4, 'EVL': 17.083333333333325, 'SALARY': 6.5}, {'Player': 'JaVale McGee', 'Pos': 'C', 'G': 46, 'PTS': 9.8, 'TRB': 7.0, 'AST': 0.7, 'STL': 0.3, 'BLK': 0.9, 'MFG': 2.2, 'MFT': 0.7000000000000002, 'TOV': 1.5, 'EVL': 31.086956521739133, 'SALARY': 5.0}, {'Player': 'Javonte Green', 'Pos': 'SF', 'G': 37, 'PTS': 7.2, 'TRB': 4.2, 'AST': 1.0, 'STL': 0.9, 'BLK': 0.6, 'MFG': 2.3000000000000003, 'MFT': 0.3999999999999999, 'TOV': 0.5, 'EVL': 28.91891891891892, 'SALARY': 1.5}, {'Player': 'Jaxson Hayes', 'Pos': 'C', 'G': 41, 'PTS': 8.3, 'TRB': 4.0, 'AST': 0.4, 'STL': 0.4, 'BLK': 0.8, 'MFG': 1.9, 'MFT': 0.5999999999999999, 'TOV': 0.7, 'EVL': 26.097560975609763, 'SALARY': 5.5}, {'Player': 'Jaylen Brown', 'Pos': 'SF', 'G': 41, 'PTS': 23.9, 'TRB': 6.5, 'AST': 3.0, 'STL': 1.1, 'BLK': 0.4, 'MFG': 10.400000000000002, 'MFT': 1.1000000000000005, 'TOV': 2.9, 'EVL': 49.999999999999986, 'SALARY': 25}, {'Player': 'Jaylen Nowell', 'Pos': 'SG', 'G': 38, 'PTS': 8.2, 'TRB': 2.0, 'AST': 2.2, 'STL': 0.6, 'BLK': 0.2, 'MFG': 3.6, 'MFT': 0.2999999999999998, 'TOV': 0.6, 'EVL': 22.894736842105264, 'SALARY': 2}, {'Player': 'Jeff Green', 'Pos': 'C', 'G': 49, 'PTS': 10.3, 'TRB': 3.1, 'AST': 1.2, 'STL': 0.3, 'BLK': 0.4, 'MFG': 3.6000000000000005, 'MFT': 0.5, 'TOV': 0.9, 'EVL': 21.0204081632653, 'SALARY': 4.5}, {'Player': 'Jerami Grant', 'Pos': 'PF', 'G': 28, 'PTS': 19.3, 'TRB': 4.5, 'AST': 2.6, 'STL': 1.0, 'BLK': 1.1, 'MFG': 9.2, 'MFT': 0.9000000000000004, 'TOV': 2.1, 'EVL': 58.214285714285715, 'SALARY': 20.0}, {'Player': 'Jeremy Lamb', 'Pos': 'SF', 'G': 39, 'PTS': 7.1, 'TRB': 2.4, 'AST': 1.3, 'STL': 0.6, 'BLK': 0.4, 'MFG': 3.5999999999999996, 'MFT': 0.40000000000000013, 'TOV': 0.6, 'EVL': 18.461538461538467, 'SALARY': 10.5}, {'Player': 'Jevon Carter', 'Pos': 'PG', 'G': 40, 'PTS': 2.9, 'TRB': 1.4, 'AST': 0.9, 'STL': 0.4, 'BLK': 0.2, 'MFG': 2.3, 'MFT': 0.0, 'TOV': 0.5, 'EVL': 7.500000000000003, 'SALARY': 4}, {'Player': 'Jimmy Butler', 'Pos': 'SF', 'G': 35, 'PTS': 21.9, 'TRB': 6.3, 'AST': 6.3, 'STL': 1.8, 'BLK': 0.5, 'MFG': 7.499999999999999, 'MFT': 0.9000000000000004, 'TOV': 2.0, 'EVL': 75.42857142857142, 'SALARY': 36}, {'Player': 'Jock Landale', 'Pos': 'C', 'G': 33, 'PTS': 4.7, 'TRB': 2.3, 'AST': 0.9, 'STL': 0.2, 'BLK': 0.4, 'MFG': 1.7, 'MFT': 0.09999999999999998, 'TOV': 0.7, 'EVL': 18.181818181818183, 'SALARY': 1}, {'Player': 'Joe Harris', 'Pos': 'SF', 'G': 14, 'PTS': 11.3, 'TRB': 4.0, 'AST': 1.0, 'STL': 0.5, 'BLK': 0.1, 'MFG': 4.9, 'MFT': 0.0, 'TOV': 1.1, 'EVL': 77.85714285714288, 'SALARY': 17.5}, {'Player': 'Joe Ingles', 'Pos': 'SF', 'G': 45, 'PTS': 7.2, 'TRB': 2.9, 'AST': 3.5, 'STL': 0.5, 'BLK': 0.1, 'MFG': 3.6999999999999997, 'MFT': 0.09999999999999998, 'TOV': 1.0, 'EVL': 20.88888888888889, 'SALARY': 14.0}, {'Player': 'Joel Embiid', 'Pos': 'C', 'G': 41, 'PTS': 29.3, 'TRB': 10.9, 'AST': 4.4, 'STL': 1.0, 'BLK': 1.5, 'MFG': 9.600000000000001, 'MFT': 2.0999999999999996, 'TOV': 2.9, 'EVL': 79.26829268292683, 'SALARY': 31.5}, {'Player': 'John Collins', 'Pos': 'PF', 'G': 48, 'PTS': 17.0, 'TRB': 8.1, 'AST': 1.9, 'STL': 0.7, 'BLK': 1.1, 'MFG': 5.6, 'MFT': 0.6999999999999997, 'TOV': 1.1, 'EVL': 44.58333333333333, 'SALARY': 23.0}, {'Player': 'John Konchar', 'Pos': 'SG', 'G': 47, 'PTS': 4.7, 'TRB': 4.4, 'AST': 1.5, 'STL': 0.7, 'BLK': 0.3, 'MFG': 1.7, 'MFT': 0.29999999999999993, 'TOV': 0.4, 'EVL': 19.574468085106385, 'SALARY': 2}, {'Player': 'Jonathan Kuminga', 'Pos': 'SF', 'G': 41, 'PTS': 7.0, 'TRB': 2.6, 'AST': 0.5, 'STL': 0.4, 'BLK': 0.2, 'MFG': 2.6, 'MFT': 0.8, 'TOV': 0.9, 'EVL': 15.609756097560973, 'SALARY': 5.5}, {'Player': 'Jordan Clarkson', 'Pos': 'SG', 'G': 50, 'PTS': 15.5, 'TRB': 3.5, 'AST': 2.4, 'STL': 0.7, 'BLK': 0.3, 'MFG': 8.5, 'MFT': 0.40000000000000013, 'TOV': 1.7, 'EVL': 23.6, 'SALARY': 12.5}, {'Player': 'Jordan McLaughlin', 'Pos': 'PG', 'G': 35, 'PTS': 2.7, 'TRB': 1.2, 'AST': 2.6, 'STL': 0.7, 'BLK': 0.1, 'MFG': 1.7999999999999998, 'MFT': 0.19999999999999996, 'TOV': 0.6, 'EVL': 13.428571428571429, 'SALARY': 1.5}, {'Player': 'Jordan Nwora', 'Pos': 'SF', 'G': 42, 'PTS': 8.0, 'TRB': 3.8, 'AST': 1.0, 'STL': 0.5, 'BLK': 0.3, 'MFG': 4.5, 'MFT': 0.09999999999999998, 'TOV': 1.0, 'EVL': 19.04761904761905, 'SALARY': 1.5}, {'Player': 'Jordan Poole', 'Pos': 'SG', 'G': 47, 'PTS': 16.8, 'TRB': 3.0, 'AST': 3.4, 'STL': 0.8, 'BLK': 0.3, 'MFG': 7.3, 'MFT': 0.20000000000000018, 'TOV': 2.3, 'EVL': 30.851063829787233, 'SALARY': 2}, {'Player': 'Jose Alvarado', 'Pos': 'PG', 'G': 26, 'PTS': 4.5, 'TRB': 1.3, 'AST': 2.0, 'STL': 1.1, 'BLK': 0.1, 'MFG': 2.5999999999999996, 'MFT': 0.19999999999999996, 'TOV': 0.3, 'EVL': 22.692307692307697, 'SALARY': 0.5}, {'Player': 'Josh Christopher', 'Pos': 'SG', 'G': 45, 'PTS': 7.7, 'TRB': 2.0, 'AST': 1.8, 'STL': 0.8, 'BLK': 0.1, 'MFG': 3.1999999999999997, 'MFT': 0.2999999999999998, 'TOV': 1.4, 'EVL': 16.66666666666667, 'SALARY': 2.5}, {'Player': 'Josh Giddey', 'Pos': 'SG', 'G': 47, 'PTS': 12.0, 'TRB': 7.5, 'AST': 6.1, 'STL': 1.0, 'BLK': 0.4, 'MFG': 7.1, 'MFT': 0.4, 'TOV': 3.1, 'EVL': 34.89361702127659, 'SALARY': 6}, {'Player': 'Josh Green', 'Pos': 'SG', 'G': 39, 'PTS': 4.5, 'TRB': 2.1, 'AST': 1.3, 'STL': 0.6, 'BLK': 0.2, 'MFG': 1.7, 'MFT': 0.30000000000000004, 'TOV': 0.5, 'EVL': 15.897435897435894, 'SALARY': 3}, {'Player': 'Josh Hart', 'Pos': 'PF', 'G': 41, 'PTS': 13.4, 'TRB': 7.8, 'AST': 4.1, 'STL': 1.1, 'BLK': 0.3, 'MFG': 4.6000000000000005, 'MFT': 1.0, 'TOV': 2.0, 'EVL': 46.58536585365853, 'SALARY': 12.0}, {'Player': 'Josh Jackson', 'Pos': 'SF', 'G': 39, 'PTS': 7.1, 'TRB': 3.2, 'AST': 1.3, 'STL': 0.5, 'BLK': 0.5, 'MFG': 3.8000000000000003, 'MFT': 0.3999999999999999, 'TOV': 1.0, 'EVL': 18.974358974358978, 'SALARY': 5}, {'Player': 'Josh Okogie', 'Pos': 'SG', 'G': 32, 'PTS': 2.7, 'TRB': 1.9, 'AST': 0.6, 'STL': 0.5, 'BLK': 0.3, 'MFG': 1.4999999999999998, 'MFT': 0.5, 'TOV': 0.5, 'EVL': 10.937499999999996, 'SALARY': 4}, {'Player': 'Joshua Primo', 'Pos': 'SG', 'G': 25, 'PTS': 4.7, 'TRB': 1.7, 'AST': 1.4, 'STL': 0.4, 'BLK': 0.6, 'MFG': 2.8999999999999995, 'MFT': 0.09999999999999998, 'TOV': 1.0, 'EVL': 19.200000000000006, 'SALARY': 4}, {'Player': 'Jrue Holiday', 'Pos': 'PG', 'G': 42, 'PTS': 18.0, 'TRB': 4.6, 'AST': 6.6, 'STL': 1.5, 'BLK': 0.5, 'MFG': 7.1000000000000005, 'MFT': 0.5999999999999999, 'TOV': 2.7, 'EVL': 49.523809523809526, 'SALARY': 30}, {'Player': 'Juancho Hernangómez', 'Pos': 'PF', 'G': 23, 'PTS': 1.1, 'TRB': 1.7, 'AST': 0.3, 'STL': 0.2, 'BLK': 0.1, 'MFG': 1.0999999999999999, 'MFT': 0.19999999999999996, 'TOV': 0.3, 'EVL': 7.826086956521741, 'SALARY': 0.5}, {'Player': 'Justin Champagnie', 'Pos': 'SF', 'G': 30, 'PTS': 2.5, 'TRB': 2.1, 'AST': 0.3, 'STL': 0.2, 'BLK': 0.1, 'MFG': 1.0, 'MFT': 0.0, 'TOV': 0.2, 'EVL': 13.33333333333333, 'SALARY': 0.5}, {'Player': 'Justin Holiday', 'Pos': 'SF', 'G': 49, 'PTS': 11.0, 'TRB': 2.8, 'AST': 1.8, 'STL': 0.7, 'BLK': 0.4, 'MFG': 5.4, 'MFT': 0.10000000000000009, 'TOV': 1.0, 'EVL': 20.81632653061224, 'SALARY': 6}, {'Player': 'Jusuf Nurki?', 'Pos': 'C', 'G': 51, 'PTS': 14.5, 'TRB': 10.8, 'AST': 2.7, 'STL': 1.2, 'BLK': 0.6, 'MFG': 4.800000000000001, 'MFT': 1.4999999999999996, 'TOV': 2.5, 'EVL': 41.17647058823529, 'SALARY': 0.5}, {'Player': 'Kai Jones', 'Pos': 'C', 'G': 16, 'PTS': 0.9, 'TRB': 0.5, 'AST': 0.3, 'STL': 0.0, 'BLK': 0.0, 'MFG': 0.19999999999999996, 'MFT': 0.19999999999999998, 'TOV': 0.3, 'EVL': 6.25, 'SALARY': 3}, {'Player': 'Keita Bates-Diop', 'Pos': 'SF', 'G': 41, 'PTS': 5.5, 'TRB': 4.1, 'AST': 0.6, 'STL': 0.4, 'BLK': 0.3, 'MFG': 2.3, 'MFT': 0.30000000000000004, 'TOV': 0.7, 'EVL': 18.53658536585366, 'SALARY': 1.5}, {'Player': 'Kelan Martin', 'Pos': 'SF', 'G': 27, 'PTS': 6.3, 'TRB': 2.0, 'AST': 0.8, 'STL': 0.5, 'BLK': 0.3, 'MFG': 3.6, 'MFT': 0.2, 'TOV': 0.5, 'EVL': 20.74074074074075, 'SALARY': 0.5}, {'Player': 'Keldon Johnson', 'Pos': 'SF', 'G': 50, 'PTS': 15.4, 'TRB': 6.1, 'AST': 1.8, 'STL': 0.7, 'BLK': 0.1, 'MFG': 6.500000000000001, 'MFT': 0.8000000000000003, 'TOV': 1.3, 'EVL': 31.0, 'SALARY': 2}, {'Player': 'Keljin Blevins', 'Pos': 'SF', 'G': 10, 'PTS': 1.6, 'TRB': 0.3, 'AST': 0.4, 'STL': 0.0, 'BLK': 0.0, 'MFG': 1.0, 'MFT': 0.2, 'TOV': 0.5, 'EVL': 6.000000000000001, 'SALARY': 0.5}, {'Player': 'Kelly Oubre Jr.', 'Pos': 'SF', 'G': 48, 'PTS': 16.6, 'TRB': 4.1, 'AST': 1.2, 'STL': 1.2, 'BLK': 0.4, 'MFG': 7.5, 'MFT': 0.8, 'TOV': 1.0, 'EVL': 29.583333333333332, 'SALARY': 12.0}, {'Player': 'Kent Bazemore', 'Pos': 'SF', 'G': 31, 'PTS': 3.7, 'TRB': 1.7, 'AST': 0.9, 'STL': 0.6, 'BLK': 0.2, 'MFG': 2.5, 'MFT': 0.09999999999999998, 'TOV': 0.3, 'EVL': 13.548387096774198, 'SALARY': 2.5}, {'Player': 'Kentavious Caldwell-Pope', 'Pos': 'SG', 'G': 49, 'PTS': 11.3, 'TRB': 3.4, 'AST': 1.7, 'STL': 1.1, 'BLK': 0.4, 'MFG': 5.9, 'MFT': 0.19999999999999996, 'TOV': 1.2, 'EVL': 21.632653061224495, 'SALARY': 13}, {'Player': 'Kenyon Martin Jr.', 'Pos': 'SF', 'G': 50, 'PTS': 8.4, 'TRB': 3.8, 'AST': 1.4, 'STL': 0.5, 'BLK': 0.5, 'MFG': 2.9, 'MFT': 0.5999999999999999, 'TOV': 0.7, 'EVL': 20.8, 'SALARY': 1.5}, {'Player': 'Keon Johnson', 'Pos': 'SG', 'G': 15, 'PTS': 3.5, 'TRB': 1.4, 'AST': 0.9, 'STL': 0.5, 'BLK': 0.1, 'MFG': 2.3, 'MFT': 0.2999999999999998, 'TOV': 0.5, 'EVL': 22.000000000000007, 'SALARY': 2.5}, {'Player': 'Kessler Edwards', 'Pos': 'SF', 'G': 22, 'PTS': 7.5, 'TRB': 4.5, 'AST': 0.7, 'STL': 0.9, 'BLK': 0.7, 'MFG': 3.8, 'MFT': 0.10000000000000003, 'TOV': 1.1, 'EVL': 42.272727272727266, 'SALARY': 0.5}, {'Player': 'Kevin Durant', 'Pos': 'PF', 'G': 36, 'PTS': 29.3, 'TRB': 7.4, 'AST': 5.8, 'STL': 0.8, 'BLK': 0.9, 'MFG': 9.8, 'MFT': 0.7999999999999998, 'TOV': 3.0, 'EVL': 84.99999999999999, 'SALARY': 41}, {'Player': 'Kevin Huerter', 'Pos': 'SG', 'G': 46, 'PTS': 11.5, 'TRB': 3.2, 'AST': 2.8, 'STL': 0.6, 'BLK': 0.3, 'MFG': 5.300000000000001, 'MFT': 0.20000000000000007, 'TOV': 1.3, 'EVL': 25.21739130434783, 'SALARY': 4.5}, {'Player': 'Kevin Knox', 'Pos': 'SF', 'G': 18, 'PTS': 3.1, 'TRB': 1.6, 'AST': 0.3, 'STL': 0.2, 'BLK': 0.1, 'MFG': 1.7999999999999998, 'MFT': 0.19999999999999996, 'TOV': 0.4, 'EVL': 16.11111111111111, 'SALARY': 6}, {'Player': 'Kevin Love', 'Pos': 'PF', 'G': 46, 'PTS': 14.6, 'TRB': 7.5, 'AST': 2.2, 'STL': 0.4, 'BLK': 0.2, 'MFG': 6.1, 'MFT': 0.40000000000000036, 'TOV': 1.3, 'EVL': 37.17391304347826, 'SALARY': 31.5}, {'Player': 'Kevin Pangos', 'Pos': 'PG', 'G': 23, 'PTS': 1.7, 'TRB': 0.5, 'AST': 1.3, 'STL': 0.1, 'BLK': 0.0, 'MFG': 1.3, 'MFT': 0.1, 'TOV': 0.3, 'EVL': 8.260869565217392, 'SALARY': 1.5}, {'Player': 'Kevin Porter Jr.', 'Pos': 'PG', 'G': 36, 'PTS': 13.0, 'TRB': 4.0, 'AST': 6.1, 'STL': 1.2, 'BLK': 0.3, 'MFG': 7.199999999999999, 'MFT': 1.2000000000000002, 'TOV': 3.5, 'EVL': 35.277777777777786, 'SALARY': 2}, {'Player': 'Kevon Looney', 'Pos': 'C', 'G': 53, 'PTS': 6.3, 'TRB': 7.6, 'AST': 1.6, 'STL': 0.6, 'BLK': 0.7, 'MFG': 2.1, 'MFT': 0.5999999999999999, 'TOV': 1.0, 'EVL': 24.716981132075464, 'SALARY': 5}, {'Player': 'Khem Birch', 'Pos': 'C', 'G': 25, 'PTS': 5.4, 'TRB': 4.8, 'AST': 1.2, 'STL': 0.8, 'BLK': 0.4, 'MFG': 2.2, 'MFT': 0.5, 'TOV': 0.6, 'EVL': 37.199999999999996, 'SALARY': 6.5}, {'Player': 'Khris Middleton', 'Pos': 'SF', 'G': 43, 'PTS': 19.4, 'TRB': 5.6, 'AST': 5.3, 'STL': 1.3, 'BLK': 0.3, 'MFG': 8.3, 'MFT': 0.5000000000000004, 'TOV': 3.0, 'EVL': 46.74418604651163, 'SALARY': 35.5}, {'Player': 'Killian Hayes', 'Pos': 'PG', 'G': 41, 'PTS': 6.4, 'TRB': 3.0, 'AST': 4.0, 'STL': 1.1, 'BLK': 0.6, 'MFG': 4.199999999999999, 'MFT': 0.20000000000000007, 'TOV': 1.5, 'EVL': 22.439024390243905, 'SALARY': 5.5}, {'Player': 'Kira Lewis Jr.', 'Pos': 'PG', 'G': 24, 'PTS': 5.9, 'TRB': 1.6, 'AST': 2.0, 'STL': 0.5, 'BLK': 0.0, 'MFG': 3.5999999999999996, 'MFT': 0.09999999999999998, 'TOV': 1.1, 'EVL': 21.66666666666667, 'SALARY': 4}, {'Player': 'Kyle Anderson', 'Pos': 'PF', 'G': 42, 'PTS': 7.8, 'TRB': 5.2, 'AST': 2.7, 'STL': 1.1, 'BLK': 0.6, 'MFG': 4.1, 'MFT': 0.5, 'TOV': 1.0, 'EVL': 28.095238095238102, 'SALARY': 10}, {'Player': 'Kyle Guy', 'Pos': 'SG', 'G': 13, 'PTS': 5.3, 'TRB': 1.0, 'AST': 1.2, 'STL': 0.5, 'BLK': 0.1, 'MFG': 2.5000000000000004, 'MFT': 0.09999999999999998, 'TOV': 0.9, 'EVL': 35.38461538461538, 'SALARY': 0.5}, {'Player': 'Kyle Kuzma', 'Pos': 'PF', 'G': 49, 'PTS': 16.2, 'TRB': 8.8, 'AST': 2.8, 'STL': 0.7, 'BLK': 0.9, 'MFG': 7.200000000000001, 'MFT': 1.0, 'TOV': 2.2, 'EVL': 38.77551020408163, 'SALARY': 13.0}, {'Player': 'Kyle Lowry', 'Pos': 'PG', 'G': 41, 'PTS': 13.0, 'TRB': 4.4, 'AST': 8.1, 'STL': 1.1, 'BLK': 0.4, 'MFG': 6.2, 'MFT': 0.5, 'TOV': 3.0, 'EVL': 42.19512195121952, 'SALARY': 27}, {'Player': 'KZ Okpala', 'Pos': 'PF', 'G': 21, 'PTS': 3.7, 'TRB': 2.0, 'AST': 0.7, 'STL': 0.2, 'BLK': 0.3, 'MFG': 1.9, 'MFT': 0.09999999999999998, 'TOV': 0.2, 'EVL': 22.380952380952383, 'SALARY': 2}, {'Player': 'LaMarcus Aldridge', 'Pos': 'C', 'G': 36, 'PTS': 13.4, 'TRB': 5.6, 'AST': 0.9, 'STL': 0.4, 'BLK': 1.1, 'MFG': 4.6000000000000005, 'MFT': 0.2999999999999998, 'TOV': 0.9, 'EVL': 43.33333333333332, 'SALARY': 2.5}, {'Player': 'LaMelo Ball', 'Pos': 'PG', 'G': 47, 'PTS': 19.6, 'TRB': 7.1, 'AST': 7.5, 'STL': 1.5, 'BLK': 0.4, 'MFG': 9.600000000000001, 'MFT': 0.3999999999999999, 'TOV': 3.0, 'EVL': 49.14893617021277, 'SALARY': 8}, {'Player': 'Larry Nance Jr.', 'Pos': 'PF', 'G': 37, 'PTS': 6.9, 'TRB': 5.6, 'AST': 2.0, 'STL': 1.0, 'BLK': 0.4, 'MFG': 2.6000000000000005, 'MFT': 0.4, 'TOV': 0.7, 'EVL': 32.97297297297297, 'SALARY': 10.5}, {'Player': 'Lauri Markkanen', 'Pos': 'PF', 'G': 38, 'PTS': 13.6, 'TRB': 5.3, 'AST': 1.5, 'STL': 0.8, 'BLK': 0.6, 'MFG': 6.4, 'MFT': 0.19999999999999996, 'TOV': 0.8, 'EVL': 37.89473684210527, 'SALARY': 15.5}, {'Player': 'Leandro Bolmaro', 'Pos': 'SF', 'G': 24, 'PTS': 1.2, 'TRB': 1.5, 'AST': 0.5, 'STL': 0.2, 'BLK': 0.0, 'MFG': 0.9, 'MFT': 0.10000000000000003, 'TOV': 0.5, 'EVL': 7.916666666666668, 'SALARY': 2.5}, {'Player': 'LeBron James', 'Pos': 'SF', 'G': 37, 'PTS': 29.1, 'TRB': 7.8, 'AST': 6.4, 'STL': 1.6, 'BLK': 1.1, 'MFG': 10.0, 'MFT': 1.3999999999999995, 'TOV': 3.1, 'EVL': 85.13513513513513, 'SALARY': 41}, {'Player': 'Lonzo Ball', 'Pos': 'PG', 'G': 35, 'PTS': 13.0, 'TRB': 5.4, 'AST': 5.1, 'STL': 1.8, 'BLK': 0.9, 'MFG': 6.300000000000001, 'MFT': 0.20000000000000007, 'TOV': 2.3, 'EVL': 49.71428571428571, 'SALARY': 18.5}, {'Player': 'Luguentz Dort', 'Pos': 'SF', 'G': 47, 'PTS': 16.8, 'TRB': 4.2, 'AST': 1.7, 'STL': 0.9, 'BLK': 0.4, 'MFG': 8.2, 'MFT': 0.5, 'TOV': 1.6, 'EVL': 29.148936170212757, 'SALARY': 2}, {'Player': 'Luka Garza', 'Pos': 'C', 'G': 27, 'PTS': 5.3, 'TRB': 3.1, 'AST': 0.6, 'STL': 0.3, 'BLK': 0.1, 'MFG': 2.4, 'MFT': 0.6000000000000001, 'TOV': 0.6, 'EVL': 21.481481481481485, 'SALARY': 1}, {'Player': 'Luke Kennard', 'Pos': 'SG', 'G': 45, 'PTS': 11.9, 'TRB': 3.6, 'AST': 2.2, 'STL': 0.6, 'BLK': 0.1, 'MFG': 5.300000000000001, 'MFT': 0.10000000000000009, 'TOV': 0.8, 'EVL': 27.111111111111107, 'SALARY': 12.5}, {'Player': 'Malachi Flynn', 'Pos': 'PG', 'G': 29, 'PTS': 3.1, 'TRB': 1.1, 'AST': 1.0, 'STL': 0.4, 'BLK': 0.1, 'MFG': 2.0, 'MFT': 0.09999999999999998, 'TOV': 0.3, 'EVL': 11.379310344827589, 'SALARY': 2}, {'Player': 'Malcolm Brogdon', 'Pos': 'PG', 'G': 28, 'PTS': 18.5, 'TRB': 5.1, 'AST': 5.9, 'STL': 0.9, 'BLK': 0.4, 'MFG': 8.1, 'MFT': 0.6000000000000005, 'TOV': 2.2, 'EVL': 71.07142857142856, 'SALARY': 21.5}, {'Player': 'Malcolm Hill', 'Pos': 'SF-SG', 'G': 12, 'PTS': 4.2, 'TRB': 1.9, 'AST': 0.3, 'STL': 0.4, 'BLK': 0.2, 'MFG': 1.7, 'MFT': 0.19999999999999996, 'TOV': 0.1, 'EVL': 41.66666666666667, 'SALARY': 0.5}, {'Player': 'Malik Beasley', 'Pos': 'SG', 'G': 53, 'PTS': 12.3, 'TRB': 3.1, 'AST': 1.5, 'STL': 0.5, 'BLK': 0.2, 'MFG': 7.199999999999999, 'MFT': 0.19999999999999996, 'TOV': 0.7, 'EVL': 17.92452830188679, 'SALARY': 14.5}, {'Player': 'Malik Monk', 'Pos': 'SG', 'G': 48, 'PTS': 13.0, 'TRB': 3.3, 'AST': 2.5, 'STL': 0.7, 'BLK': 0.4, 'MFG': 5.2, 'MFT': 0.30000000000000004, 'TOV': 1.3, 'EVL': 27.291666666666664, 'SALARY': 2}, {'Player': 'Mamadi Diakite', 'Pos': 'PF', 'G': 12, 'PTS': 4.2, 'TRB': 4.4, 'AST': 0.2, 'STL': 0.4, 'BLK': 0.7, 'MFG': 1.8, 'MFT': 0.4, 'TOV': 0.5, 'EVL': 60.0, 'SALARY': 0.5}, {'Player': 'Marcus Garrett', 'Pos': 'SG', 'G': 12, 'PTS': 1.1, 'TRB': 1.9, 'AST': 0.6, 'STL': 0.4, 'BLK': 0.3, 'MFG': 1.4, 'MFT': 0.2, 'TOV': 0.2, 'EVL': 20.83333333333333, 'SALARY': 0.5}, {'Player': 'Marcus Morris', 'Pos': 'PF', 'G': 30, 'PTS': 15.9, 'TRB': 5.2, 'AST': 2.3, 'STL': 0.5, 'BLK': 0.3, 'MFG': 7.6000000000000005, 'MFT': 0.5, 'TOV': 1.3, 'EVL': 49.333333333333336, 'SALARY': 15.5}, {'Player': 'Markus Howard', 'Pos': 'SG', 'G': 21, 'PTS': 4.2, 'TRB': 0.2, 'AST': 0.3, 'STL': 0.3, 'BLK': 0.0, 'MFG': 2.2, 'MFT': 0.09999999999999998, 'TOV': 0.3, 'EVL': 11.428571428571429, 'SALARY': 0.5}, {'Player': 'Marquese Chriss', 'Pos': 'PF', 'G': 21, 'PTS': 5.5, 'TRB': 3.6, 'AST': 0.6, 'STL': 0.4, 'BLK': 0.5, 'MFG': 2.1000000000000005, 'MFT': 0.30000000000000004, 'TOV': 0.7, 'EVL': 35.71428571428571, 'SALARY': 1}, {'Player': 'Marvin Bagley III', 'Pos': 'PF', 'G': 30, 'PTS': 9.3, 'TRB': 7.2, 'AST': 0.6, 'STL': 0.3, 'BLK': 0.4, 'MFG': 4.3999999999999995, 'MFT': 0.40000000000000013, 'TOV': 0.7, 'EVL': 41.000000000000014, 'SALARY': 11.5}, {'Player': 'Mason Plumlee', 'Pos': 'C', 'G': 45, 'PTS': 6.8, 'TRB': 7.7, 'AST': 2.9, 'STL': 0.9, 'BLK': 0.7, 'MFG': 1.7999999999999998, 'MFT': 1.4000000000000001, 'TOV': 1.4, 'EVL': 31.999999999999996, 'SALARY': 8}, {'Player': 'Maurice Harkless', 'Pos': 'SF', 'G': 37, 'PTS': 4.9, 'TRB': 2.5, 'AST': 0.6, 'STL': 0.6, 'BLK': 0.6, 'MFG': 2.4, 'MFT': 0.09999999999999998, 'TOV': 0.7, 'EVL': 16.216216216216214, 'SALARY': 4.5}, {'Player': 'Maxi Kleber', 'Pos': 'PF', 'G': 37, 'PTS': 7.6, 'TRB': 5.9, 'AST': 1.1, 'STL': 0.5, 'BLK': 1.0, 'MFG': 3.6, 'MFT': 0.20000000000000007, 'TOV': 0.8, 'EVL': 31.081081081081084, 'SALARY': 8.5}, {'Player': 'Mikal Bridges', 'Pos': 'SF', 'G': 52, 'PTS': 12.9, 'TRB': 4.3, 'AST': 2.2, 'STL': 1.3, 'BLK': 0.5, 'MFG': 4.700000000000001, 'MFT': 0.09999999999999987, 'TOV': 0.8, 'EVL': 29.999999999999993, 'SALARY': 5.5}, {'Player': 'Mike Conley', 'Pos': 'PG', 'G': 47, 'PTS': 14.3, 'TRB': 3.0, 'AST': 5.2, 'STL': 1.2, 'BLK': 0.3, 'MFG': 5.9, 'MFT': 0.3999999999999999, 'TOV': 1.7, 'EVL': 34.042553191489375, 'SALARY': 21.0}, {'Player': 'Mike Muscala', 'Pos': 'C', 'G': 43, 'PTS': 8.0, 'TRB': 3.0, 'AST': 0.5, 'STL': 0.4, 'BLK': 0.6, 'MFG': 3.1999999999999997, 'MFT': 0.19999999999999996, 'TOV': 0.3, 'EVL': 20.46511627906977, 'SALARY': 3.5}, {'Player': 'Miles Bridges', 'Pos': 'PF', 'G': 52, 'PTS': 19.7, 'TRB': 7.2, 'AST': 3.5, 'STL': 1.0, 'BLK': 0.9, 'MFG': 7.799999999999999, 'MFT': 0.7999999999999998, 'TOV': 1.8, 'EVL': 42.115384615384606, 'SALARY': 5.5}, {'Player': 'Miles McBride', 'Pos': 'PG', 'G': 20, 'PTS': 1.9, 'TRB': 0.8, 'AST': 1.2, 'STL': 0.4, 'BLK': 0.1, 'MFG': 2.0999999999999996, 'MFT': 0.0, 'TOV': 0.2, 'EVL': 10.500000000000002, 'SALARY': 1}, {'Player': 'Miye Oni', 'Pos': 'SG', 'G': 16, 'PTS': 0.3, 'TRB': 0.4, 'AST': 0.3, 'STL': 0.0, 'BLK': 0.0, 'MFG': 0.5, 'MFT': 0.1, 'TOV': 0.1, 'EVL': 1.8750000000000002, 'SALARY': 1}, {'Player': 'Mo Bamba', 'Pos': 'C', 'G': 44, 'PTS': 10.0, 'TRB': 8.0, 'AST': 1.3, 'STL': 0.6, 'BLK': 2.0, 'MFG': 4.6, 'MFT': 0.20000000000000007, 'TOV': 1.3, 'EVL': 35.909090909090914, 'SALARY': 7.5}, {'Player': 'Monte Morris', 'Pos': 'PG', 'G': 50, 'PTS': 12.8, 'TRB': 3.0, 'AST': 4.3, 'STL': 0.7, 'BLK': 0.2, 'MFG': 5.7, 'MFT': 0.09999999999999998, 'TOV': 1.1, 'EVL': 28.199999999999996, 'SALARY': 8.5}, {'Player': 'Montrezl Harrell', 'Pos': 'C', 'G': 45, 'PTS': 14.1, 'TRB': 6.8, 'AST': 2.1, 'STL': 0.4, 'BLK': 0.7, 'MFG': 3.0, 'MFT': 1.2000000000000002, 'TOV': 1.1, 'EVL': 41.77777777777777, 'SALARY': 9.5}, {'Player': 'Moses Brown', 'Pos': 'C', 'G': 25, 'PTS': 3.2, 'TRB': 2.4, 'AST': 0.0, 'STL': 0.1, 'BLK': 0.3, 'MFG': 0.8999999999999999, 'MFT': 0.5999999999999999, 'TOV': 0.6, 'EVL': 15.6, 'SALARY': 1.5}, {'Player': 'Moses Moody', 'Pos': 'SG', 'G': 30, 'PTS': 3.2, 'TRB': 1.4, 'AST': 0.3, 'STL': 0.1, 'BLK': 0.2, 'MFG': 1.7999999999999998, 'MFT': 0.09999999999999998, 'TOV': 0.2, 'EVL': 10.333333333333332, 'SALARY': 3.5}, {'Player': 'Mychal Mulder', 'Pos': 'PG', 'G': 15, 'PTS': 3.7, 'TRB': 1.4, 'AST': 0.2, 'STL': 0.3, 'BLK': 0.1, 'MFG': 3.2, 'MFT': 0.0, 'TOV': 0.5, 'EVL': 13.333333333333327, 'SALARY': 0.5}, {'Player': 'Myles Powell', 'Pos': 'PG', 'G': 11, 'PTS': 1.2, 'TRB': 0.5, 'AST': 0.3, 'STL': 0.1, 'BLK': 0.0, 'MFG': 1.0, 'MFT': 0.0, 'TOV': 0.3, 'EVL': 7.272727272727273, 'SALARY': 0.5}, {'Player': 'Naji Marshall', 'Pos': 'SF', 'G': 28, 'PTS': 3.2, 'TRB': 2.1, 'AST': 0.8, 'STL': 0.4, 'BLK': 0.1, 'MFG': 2.0, 'MFT': 0.19999999999999996, 'TOV': 0.8, 'EVL': 12.85714285714286, 'SALARY': 1.5}, {'Player': 'Nassir Little', 'Pos': 'SF', 'G': 42, 'PTS': 9.8, 'TRB': 5.6, 'AST': 1.3, 'STL': 0.6, 'BLK': 0.9, 'MFG': 4.0, 'MFT': 0.6000000000000001, 'TOV': 1.0, 'EVL': 29.999999999999993, 'SALARY': 2.5}, {'Player': 'Nathan Knight', 'Pos': 'PF', 'G': 26, 'PTS': 3.3, 'TRB': 2.2, 'AST': 0.5, 'STL': 0.2, 'BLK': 0.3, 'MFG': 1.2000000000000002, 'MFT': 0.5, 'TOV': 0.5, 'EVL': 16.538461538461537, 'SALARY': 0.5}, {'Player': 'Nemanja Bjelica', 'Pos': 'C', 'G': 49, 'PTS': 6.4, 'TRB': 4.1, 'AST': 1.8, 'STL': 0.6, 'BLK': 0.3, 'MFG': 2.9000000000000004, 'MFT': 0.4, 'TOV': 1.2, 'EVL': 17.75510204081633, 'SALARY': 2}, {'Player': 'Nerlens Noel', 'Pos': 'C', 'G': 24, 'PTS': 3.5, 'TRB': 5.8, 'AST': 1.0, 'STL': 1.2, 'BLK': 1.3, 'MFG': 1.2, 'MFT': 0.29999999999999993, 'TOV': 0.8, 'EVL': 43.75, 'SALARY': 9}, {'Player': 'Nic Claxton', 'Pos': 'C', 'G': 25, 'PTS': 9.1, 'TRB': 5.6, 'AST': 0.8, 'STL': 0.5, 'BLK': 1.1, 'MFG': 2.2, 'MFT': 0.9000000000000001, 'TOV': 0.7, 'EVL': 53.20000000000002, 'SALARY': 2}, {'Player': 'Nickeil Alexander-Walker', 'Pos': 'SG', 'G': 50, 'PTS': 12.8, 'TRB': 3.3, 'AST': 2.8, 'STL': 0.8, 'BLK': 0.4, 'MFG': 7.8999999999999995, 'MFT': 0.5, 'TOV': 1.7, 'EVL': 20.000000000000007, 'SALARY': 3.5}, {'Player': 'Nicolas Batum', 'Pos': 'PF', 'G': 34, 'PTS': 8.9, 'TRB': 4.5, 'AST': 1.6, 'STL': 1.0, 'BLK': 0.8, 'MFG': 3.3999999999999995, 'MFT': 0.19999999999999996, 'TOV': 0.8, 'EVL': 36.47058823529412, 'SALARY': 12}, {'Player': 'Norman Powell', 'Pos': 'SF-SG', 'G': 41, 'PTS': 18.9, 'TRB': 3.2, 'AST': 2.1, 'STL': 1.0, 'BLK': 0.4, 'MFG': 7.3999999999999995, 'MFT': 1.0, 'TOV': 1.5, 'EVL': 38.29268292682927, 'SALARY': 15.5}, {'Player': 'OG Anunoby', 'Pos': 'SF', 'G': 36, 'PTS': 18.4, 'TRB': 5.6, 'AST': 2.7, 'STL': 1.6, 'BLK': 0.6, 'MFG': 8.7, 'MFT': 0.6999999999999997, 'TOV': 1.8, 'EVL': 49.16666666666668, 'SALARY': 16}, {'Player': 'Oshae Brissett', 'Pos': 'SF', 'G': 42, 'PTS': 6.2, 'TRB': 4.3, 'AST': 0.7, 'STL': 0.5, 'BLK': 0.3, 'MFG': 3.3, 'MFT': 0.5, 'TOV': 0.7, 'EVL': 17.857142857142854, 'SALARY': 1.5}, {'Player': 'Otto Porter Jr.', 'Pos': 'PF', 'G': 43, 'PTS': 8.7, 'TRB': 5.3, 'AST': 1.6, 'STL': 1.1, 'BLK': 0.5, 'MFG': 3.5, 'MFT': 0.20000000000000007, 'TOV': 0.5, 'EVL': 30.23255813953488, 'SALARY': 2.5}, {'Player': 'Pat Connaughton', 'Pos': 'SG', 'G': 52, 'PTS': 10.2, 'TRB': 4.5, 'AST': 1.3, 'STL': 0.9, 'BLK': 0.3, 'MFG': 4.0, 'MFT': 0.09999999999999998, 'TOV': 0.6, 'EVL': 24.038461538461537, 'SALARY': 5.5}, {'Player': 'Patrick Beverley', 'Pos': 'PG', 'G': 35, 'PTS': 8.9, 'TRB': 4.5, 'AST': 5.0, 'STL': 1.1, 'BLK': 0.9, 'MFG': 4.5, 'MFT': 0.5, 'TOV': 1.1, 'EVL': 40.857142857142854, 'SALARY': 14.5}, {'Player': 'Patty Mills', 'Pos': 'PG', 'G': 52, 'PTS': 13.8, 'TRB': 2.2, 'AST': 2.5, 'STL': 0.7, 'BLK': 0.3, 'MFG': 6.299999999999999, 'MFT': 0.10000000000000009, 'TOV': 0.9, 'EVL': 23.46153846153846, 'SALARY': 6}, {'Player': 'Paul George', 'Pos': 'SF', 'G': 26, 'PTS': 24.7, 'TRB': 7.1, 'AST': 5.5, 'STL': 2.0, 'BLK': 0.4, 'MFG': 12.399999999999999, 'MFT': 0.5, 'TOV': 4.2, 'EVL': 86.92307692307692, 'SALARY': 39.5}, {'Player': 'Paul Millsap', 'Pos': 'PF', 'G': 24, 'PTS': 3.4, 'TRB': 3.7, 'AST': 1.0, 'STL': 0.2, 'BLK': 0.5, 'MFG': 2.2, 'MFT': 0.19999999999999996, 'TOV': 0.5, 'EVL': 24.583333333333332, 'SALARY': 2.5}, {'Player': 'Payton Pritchard', 'Pos': 'SG', 'G': 44, 'PTS': 4.8, 'TRB': 1.6, 'AST': 1.6, 'STL': 0.2, 'BLK': 0.1, 'MFG': 2.8, 'MFT': 0.0, 'TOV': 0.6, 'EVL': 11.136363636363635, 'SALARY': 2}, {'Player': 'Petr Cornelie', 'Pos': 'PF', 'G': 13, 'PTS': 1.1, 'TRB': 1.1, 'AST': 0.2, 'STL': 0.1, 'BLK': 0.1, 'MFG': 0.7999999999999999, 'MFT': 0.09999999999999998, 'TOV': 0.3, 'EVL': 10.769230769230774, 'SALARY': 0.5}, {'Player': 'PJ Dozier', 'Pos': 'SG', 'G': 18, 'PTS': 5.4, 'TRB': 3.5, 'AST': 1.6, 'STL': 0.6, 'BLK': 0.3, 'MFG': 3.5, 'MFT': 0.09999999999999998, 'TOV': 0.7, 'EVL': 39.44444444444445, 'SALARY': 2}, {'Player': 'Precious Achiuwa', 'Pos': 'C', 'G': 42, 'PTS': 7.8, 'TRB': 7.2, 'AST': 1.2, 'STL': 0.5, 'BLK': 0.6, 'MFG': 4.4, 'MFT': 0.7000000000000001, 'TOV': 1.0, 'EVL': 26.66666666666667, 'SALARY': 2.5}, {'Player': 'Quentin Grimes', 'Pos': 'SG', 'G': 35, 'PTS': 5.7, 'TRB': 1.7, 'AST': 0.9, 'STL': 0.7, 'BLK': 0.2, 'MFG': 2.9000000000000004, 'MFT': 0.09999999999999998, 'TOV': 0.6, 'EVL': 16.0, 'SALARY': 2}, {'Player': 'R.J. Hampton', 'Pos': 'SG', 'G': 42, 'PTS': 7.2, 'TRB': 2.9, 'AST': 2.4, 'STL': 0.7, 'BLK': 0.2, 'MFG': 4.2, 'MFT': 0.7999999999999998, 'TOV': 1.3, 'EVL': 16.9047619047619, 'SALARY': 2.5}, {'Player': 'Raul Neto', 'Pos': 'PG', 'G': 43, 'PTS': 7.3, 'TRB': 2.0, 'AST': 2.6, 'STL': 0.7, 'BLK': 0.0, 'MFG': 3.6, 'MFT': 0.3999999999999999, 'TOV': 1.2, 'EVL': 17.209302325581394, 'SALARY': 2}, {'Player': 'Reggie Bullock', 'Pos': 'SF', 'G': 46, 'PTS': 7.8, 'TRB': 3.4, 'AST': 1.0, 'STL': 0.5, 'BLK': 0.1, 'MFG': 4.0, 'MFT': 0.09999999999999998, 'TOV': 0.5, 'EVL': 17.82608695652174, 'SALARY': 9.5}, {'Player': 'Reggie Jackson', 'Pos': 'SG', 'G': 51, 'PTS': 16.6, 'TRB': 3.4, 'AST': 4.1, 'STL': 0.7, 'BLK': 0.1, 'MFG': 9.600000000000001, 'MFT': 0.30000000000000004, 'TOV': 2.1, 'EVL': 25.294117647058822, 'SALARY': 10.5}, {'Player': 'Richaun Holmes', 'Pos': 'C', 'G': 37, 'PTS': 11.8, 'TRB': 7.9, 'AST': 1.2, 'STL': 0.4, 'BLK': 1.0, 'MFG': 2.3, 'MFT': 0.4999999999999998, 'TOV': 1.3, 'EVL': 49.189189189189186, 'SALARY': 10.5}, {'Player': 'RJ Barrett', 'Pos': 'SF', 'G': 46, 'PTS': 17.9, 'TRB': 5.7, 'AST': 2.5, 'STL': 0.6, 'BLK': 0.3, 'MFG': 8.899999999999999, 'MFT': 1.5, 'TOV': 2.0, 'EVL': 31.739130434782613, 'SALARY': 8.5}, {'Player': 'Robert Covington', 'Pos': 'PF-SF', 'G': 49, 'PTS': 7.7, 'TRB': 5.7, 'AST': 1.4, 'STL': 1.5, 'BLK': 1.3, 'MFG': 4.3, 'MFT': 0.10000000000000009, 'TOV': 1.2, 'EVL': 24.489795918367346, 'SALARY': 13}, {'Player': 'Robin Lopez', 'Pos': 'C', 'G': 24, 'PTS': 8.2, 'TRB': 3.7, 'AST': 1.8, 'STL': 0.0, 'BLK': 0.5, 'MFG': 2.5999999999999996, 'MFT': 0.5, 'TOV': 1.3, 'EVL': 40.83333333333333, 'SALARY': 5.0}, {'Player': 'Rodney Hood', 'Pos': 'SF', 'G': 39, 'PTS': 3.3, 'TRB': 1.7, 'AST': 0.8, 'STL': 0.3, 'BLK': 0.1, 'MFG': 2.2, 'MFT': 0.10000000000000003, 'TOV': 0.2, 'EVL': 9.487179487179485, 'SALARY': 2}, {'Player': 'Rodney McGruder', 'Pos': 'SG', 'G': 28, 'PTS': 4.4, 'TRB': 2.0, 'AST': 0.8, 'STL': 0.4, 'BLK': 0.1, 'MFG': 2.1, 'MFT': 0.09999999999999998, 'TOV': 0.4, 'EVL': 18.21428571428571, 'SALARY': 2}, {'Player': 'Romeo Langford', 'Pos': 'SG', 'G': 43, 'PTS': 4.8, 'TRB': 2.4, 'AST': 0.4, 'STL': 0.5, 'BLK': 0.4, 'MFG': 2.5, 'MFT': 0.19999999999999996, 'TOV': 0.3, 'EVL': 12.790697674418608, 'SALARY': 4}, {'Player': \"Royce O'Neale\", 'Pos': 'SF', 'G': 49, 'PTS': 7.5, 'TRB': 5.0, 'AST': 2.5, 'STL': 1.3, 'BLK': 0.5, 'MFG': 2.7, 'MFT': 0.20000000000000007, 'TOV': 0.9, 'EVL': 26.53061224489796, 'SALARY': 8.5}, {'Player': 'Rudy Gay', 'Pos': 'PF', 'G': 35, 'PTS': 8.9, 'TRB': 4.6, 'AST': 1.1, 'STL': 0.6, 'BLK': 0.3, 'MFG': 4.199999999999999, 'MFT': 0.40000000000000013, 'TOV': 0.9, 'EVL': 28.57142857142857, 'SALARY': 6}, {'Player': 'Rudy Gobert', 'Pos': 'C', 'G': 42, 'PTS': 16.0, 'TRB': 15.1, 'AST': 1.2, 'STL': 0.8, 'BLK': 2.3, 'MFG': 2.4000000000000004, 'MFT': 2.0999999999999996, 'TOV': 1.8, 'EVL': 69.28571428571428, 'SALARY': 35.5}, {'Player': 'Saben Lee', 'Pos': 'PG', 'G': 27, 'PTS': 5.1, 'TRB': 2.4, 'AST': 2.4, 'STL': 0.9, 'BLK': 0.4, 'MFG': 2.8, 'MFT': 0.40000000000000013, 'TOV': 0.9, 'EVL': 26.296296296296294, 'SALARY': 1.5}, {'Player': 'Saddiq Bey', 'Pos': 'SF', 'G': 53, 'PTS': 15.8, 'TRB': 5.8, 'AST': 2.7, 'STL': 0.9, 'BLK': 0.2, 'MFG': 8.6, 'MFT': 0.5, 'TOV': 1.3, 'EVL': 28.301886792452823, 'SALARY': 3}, {'Player': 'Sam Hauser', 'Pos': 'SF', 'G': 10, 'PTS': 1.2, 'TRB': 0.6, 'AST': 0.1, 'STL': 0.1, 'BLK': 0.1, 'MFG': 0.9999999999999999, 'MFT': 0.0, 'TOV': 0.0, 'EVL': 11.000000000000002, 'SALARY': 0.5}, {'Player': 'Sam Merrill', 'Pos': 'SG', 'G': 6, 'PTS': 4.2, 'TRB': 1.2, 'AST': 0.7, 'STL': 0.0, 'BLK': 0.0, 'MFG': 2.7, 'MFT': 0.39999999999999997, 'TOV': 0.3, 'EVL': 45.0, 'SALARY': 0.5}, {'Player': 'Sandro Mamukelashvili', 'Pos': 'PF', 'G': 29, 'PTS': 3.3, 'TRB': 1.9, 'AST': 0.6, 'STL': 0.2, 'BLK': 0.2, 'MFG': 1.5999999999999999, 'MFT': 0.10000000000000003, 'TOV': 0.3, 'EVL': 14.482758620689657, 'SALARY': 0.5}, {'Player': 'Santi Aldama', 'Pos': 'PF', 'G': 27, 'PTS': 3.3, 'TRB': 2.4, 'AST': 0.5, 'STL': 0.1, 'BLK': 0.3, 'MFG': 2.2, 'MFT': 0.29999999999999993, 'TOV': 0.3, 'EVL': 14.074074074074069, 'SALARY': 2}, {'Player': 'Scottie Barnes', 'Pos': 'PF', 'G': 43, 'PTS': 14.7, 'TRB': 7.8, 'AST': 3.4, 'STL': 1.0, 'BLK': 0.9, 'MFG': 6.5, 'MFT': 0.7999999999999998, 'TOV': 2.0, 'EVL': 43.02325581395348, 'SALARY': 7.5}, {'Player': 'Semi Ojeleye', 'Pos': 'PF', 'G': 20, 'PTS': 2.9, 'TRB': 2.9, 'AST': 0.3, 'STL': 0.3, 'BLK': 0.3, 'MFG': 2.6, 'MFT': 0.19999999999999996, 'TOV': 0.3, 'EVL': 17.999999999999996, 'SALARY': 2}, {'Player': 'Serge Ibaka', 'Pos': 'C', 'G': 35, 'PTS': 6.6, 'TRB': 4.3, 'AST': 1.0, 'STL': 0.2, 'BLK': 0.7, 'MFG': 2.8, 'MFT': 0.20000000000000007, 'TOV': 0.9, 'EVL': 25.428571428571416, 'SALARY': 9.5}, {'Player': 'Seth Curry', 'Pos': 'SG', 'G': 44, 'PTS': 15.3, 'TRB': 3.3, 'AST': 4.1, 'STL': 0.8, 'BLK': 0.2, 'MFG': 6.000000000000001, 'MFT': 0.19999999999999996, 'TOV': 1.9, 'EVL': 35.45454545454546, 'SALARY': 8}, {'Player': 'Shai Gilgeous-Alexander', 'Pos': 'PG', 'G': 43, 'PTS': 22.7, 'TRB': 4.7, 'AST': 5.5, 'STL': 1.1, 'BLK': 0.8, 'MFG': 10.5, 'MFT': 1.3000000000000007, 'TOV': 2.4, 'EVL': 47.906976744186046, 'SALARY': 5.5}, {'Player': 'Shake Milton', 'Pos': 'PG', 'G': 27, 'PTS': 10.5, 'TRB': 3.0, 'AST': 2.8, 'STL': 0.7, 'BLK': 0.4, 'MFG': 5.4, 'MFT': 0.30000000000000004, 'TOV': 1.1, 'EVL': 39.25925925925925, 'SALARY': 2}, {'Player': 'Sharife Cooper', 'Pos': 'PG', 'G': 10, 'PTS': 0.7, 'TRB': 0.5, 'AST': 0.5, 'STL': 0.0, 'BLK': 0.0, 'MFG': 1.0999999999999999, 'MFT': 0.0, 'TOV': 0.5, 'EVL': 1.0000000000000009, 'SALARY': 0.5}, {'Player': 'Skylar Mays', 'Pos': 'SG', 'G': 20, 'PTS': 3.9, 'TRB': 1.3, 'AST': 0.8, 'STL': 0.4, 'BLK': 0.0, 'MFG': 1.4, 'MFT': 0.09999999999999998, 'TOV': 0.4, 'EVL': 22.5, 'SALARY': 0.5}, {'Player': 'Solomon Hill', 'Pos': 'PF', 'G': 13, 'PTS': 0.6, 'TRB': 1.8, 'AST': 0.9, 'STL': 0.3, 'BLK': 0.2, 'MFG': 1.3, 'MFT': 0.0, 'TOV': 0.1, 'EVL': 18.46153846153846, 'SALARY': 2.5}, {'Player': 'Spencer Dinwiddie', 'Pos': 'PG', 'G': 43, 'PTS': 12.8, 'TRB': 4.7, 'AST': 5.8, 'STL': 0.6, 'BLK': 0.2, 'MFG': 7.000000000000001, 'MFT': 0.5999999999999996, 'TOV': 1.7, 'EVL': 34.418604651162795, 'SALARY': 17}, {'Player': 'Stanley Johnson', 'Pos': 'PF', 'G': 20, 'PTS': 6.0, 'TRB': 3.1, 'AST': 1.3, 'STL': 0.8, 'BLK': 0.5, 'MFG': 2.5, 'MFT': 0.30000000000000004, 'TOV': 0.6, 'EVL': 41.5, 'SALARY': 1}, {'Player': 'Stephen Curry', 'Pos': 'PG', 'G': 48, 'PTS': 25.9, 'TRB': 5.4, 'AST': 6.3, 'STL': 1.5, 'BLK': 0.4, 'MFG': 11.499999999999998, 'MFT': 0.39999999999999947, 'TOV': 3.3, 'EVL': 50.624999999999986, 'SALARY': 46}, {'Player': 'Sterling Brown', 'Pos': 'SG', 'G': 36, 'PTS': 3.9, 'TRB': 3.5, 'AST': 0.8, 'STL': 0.3, 'BLK': 0.1, 'MFG': 2.2, 'MFT': 0.0, 'TOV': 0.6, 'EVL': 16.111111111111114, 'SALARY': 3.0}, {'Player': 'Steven Adams', 'Pos': 'C', 'G': 51, 'PTS': 6.6, 'TRB': 9.5, 'AST': 3.1, 'STL': 0.9, 'BLK': 0.6, 'MFG': 2.3000000000000003, 'MFT': 1.1, 'TOV': 1.6, 'EVL': 30.784313725490197, 'SALARY': 17}, {'Player': 'Svi Mykhailiuk', 'Pos': 'SF', 'G': 39, 'PTS': 5.8, 'TRB': 2.2, 'AST': 1.0, 'STL': 0.6, 'BLK': 0.1, 'MFG': 3.1, 'MFT': 0.10000000000000009, 'TOV': 0.7, 'EVL': 14.871794871794872, 'SALARY': 1.5}, {'Player': 'T.J. McConnell', 'Pos': 'PG', 'G': 24, 'PTS': 8.4, 'TRB': 3.3, 'AST': 4.8, 'STL': 1.0, 'BLK': 0.4, 'MFG': 3.7, 'MFT': 0.09999999999999998, 'TOV': 1.2, 'EVL': 53.75, 'SALARY': 7.5}, {'Player': 'Tacko Fall', 'Pos': 'C', 'G': 11, 'PTS': 1.1, 'TRB': 2.1, 'AST': 0.2, 'STL': 0.0, 'BLK': 0.5, 'MFG': 0.6000000000000001, 'MFT': 0.39999999999999997, 'TOV': 0.3, 'EVL': 23.63636363636364, 'SALARY': 0.5}, {'Player': 'Taj Gibson', 'Pos': 'C', 'G': 34, 'PTS': 3.4, 'TRB': 4.3, 'AST': 0.6, 'STL': 0.4, 'BLK': 0.8, 'MFG': 1.3, 'MFT': 0.20000000000000007, 'TOV': 0.6, 'EVL': 21.764705882352942, 'SALARY': 5}, {'Player': 'Talen Horton-Tucker', 'Pos': 'SG', 'G': 38, 'PTS': 9.5, 'TRB': 3.2, 'AST': 2.5, 'STL': 0.9, 'BLK': 0.4, 'MFG': 5.300000000000001, 'MFT': 0.3999999999999999, 'TOV': 1.4, 'EVL': 24.73684210526315, 'SALARY': 9.5}, {'Player': 'Taurean Prince', 'Pos': 'PF', 'G': 42, 'PTS': 5.8, 'TRB': 2.4, 'AST': 0.9, 'STL': 0.5, 'BLK': 0.2, 'MFG': 2.5, 'MFT': 0.20000000000000007, 'TOV': 0.7, 'EVL': 15.238095238095237, 'SALARY': 15}, {'Player': 'Terance Mann', 'Pos': 'SF', 'G': 54, 'PTS': 9.9, 'TRB': 5.1, 'AST': 2.3, 'STL': 0.6, 'BLK': 0.1, 'MFG': 4.3, 'MFT': 0.3999999999999999, 'TOV': 1.0, 'EVL': 22.777777777777786, 'SALARY': 2}, {'Player': 'Terence Davis', 'Pos': 'SG', 'G': 30, 'PTS': 10.4, 'TRB': 3.1, 'AST': 1.3, 'STL': 0.8, 'BLK': 0.4, 'MFG': 5.1000000000000005, 'MFT': 0.30000000000000004, 'TOV': 1.1, 'EVL': 31.66666666666666, 'SALARY': 4.0}, {'Player': 'Thanasis Antetokounmpo', 'Pos': 'SF', 'G': 32, 'PTS': 2.9, 'TRB': 2.4, 'AST': 0.6, 'STL': 0.4, 'BLK': 0.3, 'MFG': 1.4000000000000001, 'MFT': 0.30000000000000004, 'TOV': 0.6, 'EVL': 13.4375, 'SALARY': 1.5}, {'Player': 'Théo Maledon', 'Pos': 'PG', 'G': 26, 'PTS': 3.5, 'TRB': 1.6, 'AST': 1.0, 'STL': 0.4, 'BLK': 0.1, 'MFG': 2.5, 'MFT': 0.19999999999999996, 'TOV': 0.8, 'EVL': 11.923076923076922, 'SALARY': 0.5}, {'Player': 'Theo Pinson', 'Pos': 'SF', 'G': 15, 'PTS': 1.9, 'TRB': 1.3, 'AST': 0.9, 'STL': 0.3, 'BLK': 0.1, 'MFG': 1.4, 'MFT': 0.0, 'TOV': 0.1, 'EVL': 20.0, 'SALARY': 0.5}, {'Player': 'Tim Frazier', 'Pos': 'PG', 'G': 10, 'PTS': 3.7, 'TRB': 1.9, 'AST': 3.3, 'STL': 0.3, 'BLK': 0.1, 'MFG': 3.0, 'MFT': 0.4, 'TOV': 1.3, 'EVL': 45.999999999999986, 'SALARY': 0.5}, {'Player': 'Tim Hardaway Jr.', 'Pos': 'SG', 'G': 42, 'PTS': 14.2, 'TRB': 3.7, 'AST': 2.2, 'STL': 0.9, 'BLK': 0.1, 'MFG': 7.6, 'MFT': 0.6000000000000001, 'TOV': 0.8, 'EVL': 28.809523809523803, 'SALARY': 21.5}, {'Player': 'Timothé Luwawu-Cabarrot', 'Pos': 'SF', 'G': 33, 'PTS': 4.3, 'TRB': 1.4, 'AST': 0.8, 'STL': 0.3, 'BLK': 0.1, 'MFG': 2.2, 'MFT': 0.09999999999999998, 'TOV': 0.4, 'EVL': 12.727272727272723, 'SALARY': 0.5}, {'Player': 'Tobias Harris', 'Pos': 'PF', 'G': 44, 'PTS': 18.9, 'TRB': 7.3, 'AST': 3.8, 'STL': 0.7, 'BLK': 0.6, 'MFG': 7.8, 'MFT': 0.6000000000000001, 'TOV': 1.8, 'EVL': 47.95454545454545, 'SALARY': 36.0}, {'Player': 'Tony Bradley', 'Pos': 'C', 'G': 39, 'PTS': 3.3, 'TRB': 3.9, 'AST': 0.5, 'STL': 0.2, 'BLK': 0.7, 'MFG': 1.1, 'MFT': 0.10000000000000003, 'TOV': 0.7, 'EVL': 17.17948717948718, 'SALARY': 2}, {'Player': 'Torrey Craig', 'Pos': 'SF', 'G': 50, 'PTS': 6.4, 'TRB': 3.7, 'AST': 1.1, 'STL': 0.4, 'BLK': 0.4, 'MFG': 2.9000000000000004, 'MFT': 0.19999999999999996, 'TOV': 0.8, 'EVL': 16.200000000000003, 'SALARY': 5}, {'Player': 'Tre Jones', 'Pos': 'PG', 'G': 43, 'PTS': 4.8, 'TRB': 1.8, 'AST': 2.3, 'STL': 0.4, 'BLK': 0.0, 'MFG': 2.0, 'MFT': 0.09999999999999998, 'TOV': 0.6, 'EVL': 15.348837209302324, 'SALARY': 1.5}, {'Player': 'Tre Mann', 'Pos': 'PG', 'G': 39, 'PTS': 8.0, 'TRB': 2.1, 'AST': 0.9, 'STL': 0.7, 'BLK': 0.2, 'MFG': 4.7, 'MFT': 0.30000000000000004, 'TOV': 0.8, 'EVL': 15.641025641025635, 'SALARY': 3}, {'Player': 'Trent Forrest', 'Pos': 'PG', 'G': 41, 'PTS': 2.9, 'TRB': 1.6, 'AST': 1.4, 'STL': 0.4, 'BLK': 0.1, 'MFG': 0.8999999999999999, 'MFT': 0.20000000000000007, 'TOV': 0.8, 'EVL': 10.975609756097564, 'SALARY': 0.5}, {'Player': 'Trevor Ariza', 'Pos': 'SF', 'G': 16, 'PTS': 3.9, 'TRB': 3.4, 'AST': 1.3, 'STL': 0.4, 'BLK': 0.3, 'MFG': 2.5, 'MFT': 0.19999999999999996, 'TOV': 0.5, 'EVL': 38.12500000000001, 'SALARY': 2.5}, {'Player': 'Trey Burke', 'Pos': 'PG', 'G': 29, 'PTS': 5.6, 'TRB': 0.9, 'AST': 1.5, 'STL': 0.3, 'BLK': 0.0, 'MFG': 3.0999999999999996, 'MFT': 0.0, 'TOV': 0.6, 'EVL': 15.862068965517246, 'SALARY': 3.5}, {'Player': 'Trey Lyles', 'Pos': 'PF', 'G': 50, 'PTS': 10.4, 'TRB': 4.8, 'AST': 1.1, 'STL': 0.4, 'BLK': 0.5, 'MFG': 4.1, 'MFT': 0.7999999999999998, 'TOV': 1.1, 'EVL': 22.4, 'SALARY': 2.5}, {'Player': 'Trey Murphy III', 'Pos': 'SF', 'G': 39, 'PTS': 3.9, 'TRB': 2.2, 'AST': 0.5, 'STL': 0.3, 'BLK': 0.1, 'MFG': 2.4000000000000004, 'MFT': 0.09999999999999998, 'TOV': 0.3, 'EVL': 10.769230769230766, 'SALARY': 3}, {'Player': 'Troy Brown Jr.', 'Pos': 'SF', 'G': 42, 'PTS': 4.8, 'TRB': 3.3, 'AST': 1.1, 'STL': 0.5, 'BLK': 0.1, 'MFG': 2.5, 'MFT': 0.09999999999999998, 'TOV': 0.5, 'EVL': 15.95238095238095, 'SALARY': 5}, {'Player': 'Ty Jerome', 'Pos': 'SG', 'G': 43, 'PTS': 7.2, 'TRB': 1.5, 'AST': 2.1, 'STL': 0.6, 'BLK': 0.1, 'MFG': 4.1, 'MFT': 0.19999999999999996, 'TOV': 0.8, 'EVL': 14.883720930232558, 'SALARY': 2.5}, {'Player': 'Tyler Cook', 'Pos': 'PF', 'G': 17, 'PTS': 3.8, 'TRB': 3.0, 'AST': 0.2, 'STL': 0.2, 'BLK': 0.2, 'MFG': 0.8, 'MFT': 0.6000000000000001, 'TOV': 0.4, 'EVL': 32.94117647058824, 'SALARY': 0.5}, {'Player': 'Tyler Herro', 'Pos': 'SG', 'G': 45, 'PTS': 20.1, 'TRB': 4.8, 'AST': 4.0, 'STL': 0.6, 'BLK': 0.2, 'MFG': 9.899999999999999, 'MFT': 0.3999999999999999, 'TOV': 2.8, 'EVL': 36.8888888888889, 'SALARY': 4}, {'Player': 'Tyrese Haliburton', 'Pos': 'SG', 'G': 51, 'PTS': 14.3, 'TRB': 3.9, 'AST': 7.4, 'STL': 1.7, 'BLK': 0.7, 'MFG': 6.2, 'MFT': 0.30000000000000004, 'TOV': 2.3, 'EVL': 37.64705882352941, 'SALARY': 4}, {'Player': 'Tyrese Maxey', 'Pos': 'PG', 'G': 46, 'PTS': 16.9, 'TRB': 3.5, 'AST': 4.8, 'STL': 0.7, 'BLK': 0.6, 'MFG': 7.1, 'MFT': 0.3999999999999999, 'TOV': 1.2, 'EVL': 38.69565217391305, 'SALARY': 2.5}, {'Player': 'Tyus Jones', 'Pos': 'PG', 'G': 48, 'PTS': 8.1, 'TRB': 2.6, 'AST': 4.1, 'STL': 0.9, 'BLK': 0.0, 'MFG': 3.7, 'MFT': 0.10000000000000009, 'TOV': 0.7, 'EVL': 23.333333333333332, 'SALARY': 7.5}, {'Player': 'Udoka Azubuike', 'Pos': 'C', 'G': 11, 'PTS': 2.9, 'TRB': 3.0, 'AST': 0.0, 'STL': 0.1, 'BLK': 0.5, 'MFG': 0.8000000000000003, 'MFT': 0.3, 'TOV': 0.6, 'EVL': 43.63636363636365, 'SALARY': 2}, {'Player': 'Udonis Haslem', 'Pos': 'C', 'G': 9, 'PTS': 2.9, 'TRB': 2.0, 'AST': 0.3, 'STL': 0.1, 'BLK': 0.1, 'MFG': 1.2, 'MFT': 0.0, 'TOV': 0.3, 'EVL': 43.33333333333333, 'SALARY': 2.5}, {'Player': 'Usman Garuba', 'Pos': 'PF', 'G': 15, 'PTS': 1.3, 'TRB': 2.3, 'AST': 0.5, 'STL': 0.5, 'BLK': 0.4, 'MFG': 1.1, 'MFT': 0.0, 'TOV': 0.2, 'EVL': 24.666666666666664, 'SALARY': 2.5}, {'Player': 'Vernon Carey Jr.', 'Pos': 'C', 'G': 4, 'PTS': 2.0, 'TRB': 1.3, 'AST': 0.0, 'STL': 0.3, 'BLK': 0.0, 'MFG': 0.7, 'MFT': 0.30000000000000004, 'TOV': 0.3, 'EVL': 57.49999999999999, 'SALARY': 1.5}, {'Player': 'Vit Krejci', 'Pos': 'SG', 'G': 3, 'PTS': 0.7, 'TRB': 1.0, 'AST': 0.0, 'STL': 0.0, 'BLK': 0.0, 'MFG': 0.7, 'MFT': 0.0, 'TOV': 0.3, 'EVL': 23.333333333333332, 'SALARY': 1}, {'Player': 'Vlatko ?an?ar', 'Pos': 'PF', 'G': 14, 'PTS': 4.3, 'TRB': 1.6, 'AST': 0.9, 'STL': 0.1, 'BLK': 0.2, 'MFG': 1.1999999999999997, 'MFT': 0.30000000000000004, 'TOV': 0.6, 'EVL': 35.71428571428573, 'SALARY': 0.5}, {'Player': 'Wayne Ellington', 'Pos': 'SG', 'G': 33, 'PTS': 6.2, 'TRB': 1.7, 'AST': 0.7, 'STL': 0.5, 'BLK': 0.1, 'MFG': 3.3000000000000003, 'MFT': 0.1, 'TOV': 0.5, 'EVL': 16.06060606060606, 'SALARY': 2.5}, {'Player': 'Wendell Carter Jr.', 'Pos': 'C', 'G': 46, 'PTS': 13.6, 'TRB': 10.2, 'AST': 2.6, 'STL': 0.7, 'BLK': 0.7, 'MFG': 5.200000000000001, 'MFT': 0.8999999999999999, 'TOV': 1.7, 'EVL': 43.47826086956521, 'SALARY': 7}, {'Player': 'Wesley Matthews', 'Pos': 'SG', 'G': 26, 'PTS': 5.4, 'TRB': 2.0, 'AST': 0.7, 'STL': 0.5, 'BLK': 0.2, 'MFG': 2.8, 'MFT': 0.2, 'TOV': 0.4, 'EVL': 20.769230769230766, 'SALARY': 2}, {'Player': 'Will Barton', 'Pos': 'SG', 'G': 46, 'PTS': 15.5, 'TRB': 4.9, 'AST': 4.1, 'STL': 0.9, 'BLK': 0.5, 'MFG': 7.5, 'MFT': 0.40000000000000013, 'TOV': 1.9, 'EVL': 35.0, 'SALARY': 15.5}, {'Player': 'Willie Cauley-Stein', 'Pos': 'C', 'G': 18, 'PTS': 1.9, 'TRB': 2.1, 'AST': 0.5, 'STL': 0.3, 'BLK': 0.2, 'MFG': 0.9999999999999999, 'MFT': 0.0, 'TOV': 0.4, 'EVL': 20.0, 'SALARY': 0.5}, {'Player': 'Willy Hernangómez', 'Pos': 'C', 'G': 28, 'PTS': 9.2, 'TRB': 7.1, 'AST': 1.3, 'STL': 0.4, 'BLK': 0.3, 'MFG': 3.0, 'MFT': 0.6999999999999997, 'TOV': 1.0, 'EVL': 48.57142857142856, 'SALARY': 0.5}, {'Player': 'Zach LaVine', 'Pos': 'SF', 'G': 44, 'PTS': 24.7, 'TRB': 4.8, 'AST': 4.3, 'STL': 0.7, 'BLK': 0.4, 'MFG': 9.399999999999999, 'MFT': 0.7000000000000002, 'TOV': 2.8, 'EVL': 49.99999999999999, 'SALARY': 19.5}, {'Player': 'Zeke Nnaji', 'Pos': 'PF', 'G': 37, 'PTS': 6.7, 'TRB': 3.6, 'AST': 0.4, 'STL': 0.3, 'BLK': 0.3, 'MFG': 2.0000000000000004, 'MFT': 0.6000000000000001, 'TOV': 0.5, 'EVL': 22.16216216216217, 'SALARY': 2.5}]\n"
          ]
        },
        {
          "output_type": "stream",
          "name": "stderr",
          "text": [
            "/usr/local/lib/python3.7/dist-packages/ipykernel_launcher.py:6: FutureWarning: Dropping of nuisance columns in DataFrame reductions (with 'numeric_only=None') is deprecated; in a future version this will raise TypeError.  Select only valid columns before calling the reduction.\n",
            "  \n"
          ]
        }
      ],
      "source": [
        "import math \n",
        "\n",
        "def round_SALARY (dict_of_players):\n",
        "  for player in dict_of_players:\n",
        "    if (float(player['G'])>10 and float(player['SALARY'])==0):\n",
        "         player['SALARY']=(PosAverage(player['Pos'],'SALARY')/1000000)\n",
        "    up=math.ceil(player['SALARY'])\n",
        "    low=math.floor(player['SALARY'])\n",
        "    mid=(up+low)/2\n",
        "    mid1=(mid+up)/2\n",
        "    mid2=(mid+low)/2\n",
        "    if (float(player['SALARY'])< 0.25):\n",
        "      player['SALARY']=0.5\n",
        "    elif (float(player['SALARY'])< mid2):\n",
        "     player['SALARY']=low\n",
        "    elif (float(player['SALARY'])>mid1):\n",
        "       player['SALARY']=up\n",
        "    else:\n",
        "      player['SALARY']=mid\n",
        "\n",
        "round_SALARY(players_dict)\n",
        "print(players_dict)"
      ]
    },
    {
      "cell_type": "code",
      "execution_count": 16,
      "metadata": {
        "id": "jlRkxLDbA7q1"
      },
      "outputs": [],
      "source": [
        "class Player:\n",
        "  all=[]\n",
        "  def __init__ (self,Name: str,Pos: str,SALARY,EVAL:float):\n",
        "\n",
        "    #Assign to self object \n",
        "    self.Name=Name\n",
        "    self.POS=Pos\n",
        "    self.SALARY=SALARY\n",
        "    self.EVAL=EVAL\n",
        "\n",
        "    #create a list of all players \n",
        "    Player.all.append(self)\n",
        "  @classmethod\n",
        "  def instantiate_from_dict(cls):\n",
        "      for player in players_dict:\n",
        "       if (player['EVL']<10 and player['SALARY']==0):\n",
        "         print(\"the player\",player['Player'], \"couldn't been added not enough data \")\n",
        "         continue\n",
        "       if (player['G']<10 and player['SALARY']==0):\n",
        "         print(\"the player\",player['Player'], \"couldn't been added not enough data \")\n",
        "         continue\n",
        "       if (player['G']>10 and player['SALARY']==0):\n",
        "         player['SALARY']=(PosAverage(player['Pos'],'SALARY')/1000000)\n",
        "       Player(\n",
        "          Name=player['Player'],\n",
        "          Pos=player['Pos'],\n",
        "          SALARY=player['SALARY'],\n",
        "          EVAL=player['EVL'],\n",
        "          \n",
        "       )\n",
        "  def __repr__(self):\n",
        "    return f\"player('{self.Name}',{self.POS},{self.SALARY},{self.EVAL})\"\n",
        "\n",
        "\n",
        "Player.instantiate_from_dict()\n",
        "# print(Player.all)"
      ]
    },
    {
      "cell_type": "markdown",
      "source": [
        "function to divide candidates into subgroups by positions"
      ],
      "metadata": {
        "id": "aYM-UsZDPNfY"
      }
    },
    {
      "cell_type": "code",
      "execution_count": 17,
      "metadata": {
        "id": "oj7b7D5mEWJS"
      },
      "outputs": [],
      "source": [
        "\n",
        "\n",
        "def divide2subgroups(players_list,position):\n",
        "\n",
        "  group=[]\n",
        "\n",
        "  Player.all.sort(key=lambda x: x.SALARY)\n",
        "  #print(Player.all)\n",
        "\n",
        "  for player in players_list:\n",
        "      if player.POS == position:\n",
        "        group.append(player)\n",
        "  \n",
        "  return group    \n",
        "    "
      ]
    },
    {
      "cell_type": "markdown",
      "source": [
        "### section 3-  create an optimal team  using dynamic programming"
      ],
      "metadata": {
        "id": "U-KKcNtxQegl"
      }
    },
    {
      "cell_type": "code",
      "execution_count": 18,
      "metadata": {
        "id": "_G7IoT7e9vC9"
      },
      "outputs": [],
      "source": [
        "\n",
        "\n",
        "def create_subgroup(players_list, budget, players_limitation):\n",
        "\n",
        "        n = len(players_list)\n",
        "        dp = np.zeros((n, budget + 1,  players_limitation + 1))\n",
        "\n",
        "         # for each player given\n",
        "        for i in range(1, n):\n",
        "             # For each possible salary\n",
        "            for j in range(1, budget + 1):\n",
        "              # For each case where\n",
        "              # the total number of players is less than the constraint (meaning players_limitation)\n",
        "              \n",
        "                for k in range(1, players_limitation + 1):\n",
        "                  # To ensure that we dont\n",
        "                  # go out of the array  \n",
        "                    if (j >= int(2*players_list[i - 1].SALARY)):\n",
        "                        dp[i][j][k] = max(dp[i - 1][j][k],\n",
        "                                          dp[i - 1][j - int(2*players_list[i - 1].SALARY)][k - 1] + players_list[i - 1].EVAL)\n",
        "                    else:\n",
        "                        dp[i][j][k] = dp[i - 1][j][k]\n",
        "\n",
        "        #print(dp[-1][-1][-1])\n",
        "        return dp\n",
        "\n",
        "\n",
        "\n",
        "def extract_subgroup(player_list, dp):\n",
        "    n = dp.shape[0]-1\n",
        "    m = dp.shape[1]-1\n",
        "    k = dp.shape[2]-1\n",
        "    max_num_of_players = k\n",
        "\n",
        "    chosen_players = []\n",
        "    while(len(chosen_players) < max_num_of_players and k > 0 and m > 0):\n",
        "        # go backward on player_list (dimension 1) until the value changes - \n",
        "        # meaning the player is part of the optimal team\n",
        "        while(dp[n][m][k] == dp[n-1][m][k]):\n",
        "            n -= 1\n",
        "\n",
        "        #append the player to the list\n",
        "        chosen_players.append(player_list[n-1])\n",
        "\n",
        "        # go backward on the budget sum (dimension 2) until the value changes -\n",
        "        # meaning the given budget is neccessary for the optimal team\n",
        "        while(dp[n][m][k] == dp[n][m-1][k]):\n",
        "            m-=1\n",
        "\n",
        "        #get the budget down by the player's salary\n",
        "        m = m-int(2*player_list[n-1].SALARY)\n",
        "\n",
        "        #decrease the remaining number of players (dimension 3) to find by 1\n",
        "        k -= 1\n",
        "        n -= 1\n",
        "\n",
        "    return chosen_players\n",
        "             "
      ]
    },
    {
      "cell_type": "code",
      "execution_count": 19,
      "metadata": {
        "colab": {
          "base_uri": "https://localhost:8080/"
        },
        "id": "OK4eExzBxO11",
        "outputId": "1c7bde2b-452f-4016-a6e4-e02336795160"
      },
      "outputs": [
        {
          "output_type": "stream",
          "name": "stdout",
          "text": [
            "61\n",
            "[player('Boban Marjanovi?',C,0.5,26.470588235294112), player('Jusuf Nurki?',C,0.5,41.17647058823529), player('Tacko Fall',C,0.5,23.63636363636364), player('Willie Cauley-Stein',C,0.5,20.0), player('Willy Hernangómez',C,0.5,48.57142857142856), player('DeMarcus Cousins',C,1,48.636363636363626), player('Jock Landale',C,1,18.181818181818183), player('Luka Garza',C,1,21.481481481481485), player('Herbert Jones',C,1.5,25.399999999999995), player('Moses Brown',C,1.5,15.6), player('Vernon Carey Jr.',C,1.5,57.49999999999999), player('Bruno Fernando',C,2,6.31578947368421), player('Chimezie Metu',C,2,30.00000000000001), player('Damian Jones',C,2,26.285714285714285), player('Daniel Gafford',C,2,30.625000000000004), player('Drew Eubanks',C,2,16.25), player('Nemanja Bjelica',C,2,17.75510204081633), player('Nic Claxton',C,2,53.20000000000002), player('Tony Bradley',C,2,17.17948717948718), player('Udoka Azubuike',C,2,43.63636363636365), player('Andre Drummond',C,2.5,29.58333333333333), player('Dwight Howard',C,2.5,23.65853658536585), player('Ed Davis',C,2.5,21.1764705882353), player('Enes Freedom',C,2.5,19.705882352941174), player('LaMarcus Aldridge',C,2.5,43.33333333333332), player('Precious Achiuwa',C,2.5,26.66666666666667), player('Udonis Haslem',C,2.5,43.33333333333333), player('Goga Bitadze',C,3,16.7741935483871), player('Kai Jones',C,3,6.25), player('Alex Len',C,3.5,28.750000000000007), player('Isaiah Hartenstein',C,3.5,28.536585365853657), player('Mike Muscala',C,3.5,20.46511627906977), player('Gorgui Dieng',C,4.0,17.058823529411764), player('Bobby Portis',C,4.5,41.52173913043479), player('Jeff Green',C,4.5,21.0204081632653), player('JaVale McGee',C,5.0,31.086956521739133), player('Kevon Looney',C,5,24.716981132075464), player('Robin Lopez',C,5.0,40.83333333333333), player('Taj Gibson',C,5,21.764705882352942), player('Dewayne Dedmon',C,5.5,23.617021276595747), player('Jaxson Hayes',C,5.5,26.097560975609763), player('Khem Birch',C,6.5,37.199999999999996), player('Wendell Carter Jr.',C,7,43.47826086956521), player('Mo Bamba',C,7.5,35.909090909090914), player('Mason Plumlee',C,8,31.999999999999996), player('Jakob Poeltl',C,8.5,47.27272727272727), player('Nerlens Noel',C,9,43.75), player('Derrick Favors',C,9.5,25.151515151515152), player('Montrezl Harrell',C,9.5,41.77777777777777), player('Serge Ibaka',C,9.5,25.428571428571416), player('DeAndre Jordan',C,10.5,30.000000000000004), player('Richaun Holmes',C,10.5,49.189189189189186), player('Dwight Powell',C,11.0,20.0), player('Clint Capela',C,17,47.1111111111111), player('Steven Adams',C,17,30.784313725490197), player('Jarrett Allen',C,20.0,53.69565217391303), player('Al Horford',C,27.0,36.08695652173914), player('Bam Adebayo',C,28,80.34482758620689), player('Joel Embiid',C,31.5,79.26829268292683), player('Anthony Davis',C,35.5,84.54545454545456), player('Rudy Gobert',C,35.5,69.28571428571428)]\n",
            "[[[  0.           0.           0.        ]\n",
            "  [  0.           0.           0.        ]\n",
            "  [  0.           0.           0.        ]\n",
            "  ...\n",
            "  [  0.           0.           0.        ]\n",
            "  [  0.           0.           0.        ]\n",
            "  [  0.           0.           0.        ]]\n",
            "\n",
            " [[  0.           0.           0.        ]\n",
            "  [  0.          26.47058824  26.47058824]\n",
            "  [  0.          26.47058824  26.47058824]\n",
            "  ...\n",
            "  [  0.          26.47058824  26.47058824]\n",
            "  [  0.          26.47058824  26.47058824]\n",
            "  [  0.          26.47058824  26.47058824]]\n",
            "\n",
            " [[  0.           0.           0.        ]\n",
            "  [  0.          41.17647059  41.17647059]\n",
            "  [  0.          41.17647059  67.64705882]\n",
            "  ...\n",
            "  [  0.          41.17647059  67.64705882]\n",
            "  [  0.          41.17647059  67.64705882]\n",
            "  [  0.          41.17647059  67.64705882]]\n",
            "\n",
            " ...\n",
            "\n",
            " [[  0.           0.           0.        ]\n",
            "  [  0.          48.57142857  48.57142857]\n",
            "  [  0.          48.63636364  89.74789916]\n",
            "  ...\n",
            "  [  0.          57.5        106.13636364]\n",
            "  [  0.          57.5        106.13636364]\n",
            "  [  0.          57.5        110.7       ]]\n",
            "\n",
            " [[  0.           0.           0.        ]\n",
            "  [  0.          48.57142857  48.57142857]\n",
            "  [  0.          48.63636364  89.74789916]\n",
            "  ...\n",
            "  [  0.          57.5        106.13636364]\n",
            "  [  0.          57.5        106.13636364]\n",
            "  [  0.          57.5        110.7       ]]\n",
            "\n",
            " [[  0.           0.           0.        ]\n",
            "  [  0.          48.57142857  48.57142857]\n",
            "  [  0.          48.63636364  89.74789916]\n",
            "  ...\n",
            "  [  0.          57.5        106.13636364]\n",
            "  [  0.          57.5        106.13636364]\n",
            "  [  0.          57.5        110.7       ]]]\n",
            "[player('Nic Claxton',C,2,53.20000000000002), player('Vernon Carey Jr.',C,1.5,57.49999999999999)]\n",
            "Avg execution time: 0.14131749500006663\n"
          ]
        }
      ],
      "source": [
        "# driver code for create & extract subgroups functions\n",
        "import timeit \n",
        "\n",
        "centers=divide2subgroups(Player.all,'C')\n",
        "print(len(centers))\n",
        "print(centers)\n",
        "d_matrix=create_subgroup(centers,7,2)\n",
        "print(d_matrix)\n",
        "sub_group=extract_subgroup(centers,d_matrix)\n",
        "print(sub_group)\n",
        "\n",
        "t1 = timeit.timeit(lambda: create_subgroup(centers,7,2),number=100) \n",
        "t2 = timeit.timeit(lambda: extract_subgroup(centers,d_matrix),number=100) \n",
        "\n",
        "print(\"Avg execution time:\",t1+t2)"
      ]
    },
    {
      "cell_type": "code",
      "execution_count": 20,
      "metadata": {
        "id": "kxRtgFmqtNwm"
      },
      "outputs": [],
      "source": [
        "#menu function for main func\n",
        "def print_menu():\n",
        "    print(\"Please select an operation:\")\n",
        "    print(\"\\t0. Exit.\")\n",
        "    print(\"\\t1. Create an optimal team from data\")\n",
        "    print(\"\\t2. Add a player\")\n",
        "    print(\"\\t3. Print team memebers\")\n",
        "   \n",
        "   "
      ]
    },
    {
      "cell_type": "code",
      "execution_count": 21,
      "metadata": {
        "id": "MlpMJF6wOGjw"
      },
      "outputs": [],
      "source": [
        "class Team(object):\n",
        "  def __init__(self, centers, guards, forwards,budget,cost:float):\n",
        "    self.centers = centers\n",
        "    self. guards =  guards\n",
        "    self. forwards =  forwards\n",
        "    self.budget=budget\n",
        "    self.cost=cost\n",
        "\n",
        " \n",
        "\n",
        "  def __repr__(self):\n",
        "   return f'Optimal Team:\\n Budget limit:{self.budget}\\n Actual budget:{self.cost} \\n Centers list:{self.centers}\\n Guardslist :{self. guards}\\n Forwarda list:{self. forwards}'\n",
        "\n",
        "\n"
      ]
    },
    {
      "cell_type": "code",
      "execution_count": 22,
      "metadata": {
        "id": "3n5HgZ7Uu6Q7"
      },
      "outputs": [],
      "source": [
        "  #function to caculate actual total cost of a chosen team\n",
        "  def calc_cost(group,cost):\n",
        "    for player in group:\n",
        "      cost+=player.SALARY\n",
        "    return cost"
      ]
    },
    {
      "cell_type": "code",
      "execution_count": 23,
      "metadata": {
        "id": "5slfdrH3GC_O"
      },
      "outputs": [],
      "source": [
        " # User interface function for adding a player to the data pool.\n",
        " #used in  main func.\n",
        "import math \n",
        "\n",
        "\n",
        "def addPlayer():\n",
        "  print(\"Enter player full name\")\n",
        "  name=str(input())\n",
        "  print(name)\n",
        "  choice='c'\n",
        "  while (choice !='1'or choice !='2' or choice !='3' or choice !='4' or choice !='5' or choice !='0'):\n",
        "    print(\"Select the position of the player 1.C 2.PG 3.SG 4.SF 5.PF or 0 to Exit\")\n",
        "    choice=input()\n",
        "    if choice == '1':\n",
        "     position='C'\n",
        "     break\n",
        "    elif choice == '2':\n",
        "     position='PG' \n",
        "     break\n",
        "    elif choice == '3':\n",
        "     position='SG' \n",
        "     break\n",
        "    elif choice == '4':\n",
        "     position='SF'\n",
        "     break \n",
        "    elif choice == '5':\n",
        "     position='PF'\n",
        "     break \n",
        "    elif choice == '0':\n",
        "     return\n",
        "    else:\n",
        "      print (\"unrecognized key try again\")\n",
        "      \n",
        "\n",
        "  choice ='c'\n",
        "  print(\"Does the player have evalution? y/n\")\n",
        "  choice=input()\n",
        "  if choice == 'y':\n",
        "    print(\"press 1 to enter the player evalution per game in % \\n\")\n",
        "    print(\"press 2 to set player evalution to average according to his position\")\n",
        "    option=input()\n",
        "    if option=='1':\n",
        "     evaluation=int(input(\"enter the player evalution per game in %\\n\"))\n",
        "     if evaluation==0 or evaluation>100:\n",
        "      print(\"player evalution out of range\")\n",
        "      print(\"The player could not be added to the database\")\n",
        "      return\n",
        "    elif option=='2':\n",
        "      evaluation=PosAverage(position,'EVL')\n",
        "    else:\n",
        "      print(\"The player could not be added to the database\")\n",
        "      return\n",
        "  else:\n",
        "    print(\"The player could not be added to the database\")\n",
        "    return\n",
        "  choice ='c'\n",
        "  print(\"Does the Player have estimated salary in recent years? y/n \")\n",
        "  choice=input()\n",
        "  if choice == 'y':\n",
        "    print(\"press 1 to enter player salary\")\n",
        "    print(\"press 2 to set player salary to average according to his position\")\n",
        "    option=input()\n",
        "    if option==\"1\":\n",
        "      #salary arbitrary number, non integer or .5 to make sure the user will enter salary as requested\n",
        "      salary=0.2\n",
        "      counter=0\n",
        "      while 2*salary!=math.ceil(2*salary) or salary==0:\n",
        "        salary=float(input(\"Enter salary non zero,rounded up to the nearest integer or .5 in M$\"))\n",
        "        counter+=1\n",
        "        if counter>3:\n",
        "          print(\"invalid salary\")\n",
        "          print(\"The player could not be added to the database\")\n",
        "          return\n",
        "    elif option=='2':\n",
        "      salary= PosAverage(position,'SALARY')\n",
        "  else:\n",
        "    print(\"The player could not be added to the database\")\n",
        "    return\n",
        "  new_player = Player(name,position,salary,evaluation)\n",
        "  print(\"The player\", new_player, \"been added!\" )\n",
        "  print(new_player)\n"
      ]
    },
    {
      "cell_type": "code",
      "execution_count": 24,
      "metadata": {
        "id": "OGR0nGFLlpa-",
        "colab": {
          "base_uri": "https://localhost:8080/"
        },
        "outputId": "ac09962e-4363-405a-e3b0-4b5d6442030c"
      },
      "outputs": [
        {
          "name": "stdout",
          "output_type": "stream",
          "text": [
            "Enter player full name\n",
            "Magic Johnson\n",
            "Magic Johnson\n",
            "Select the position of the player 1.C 2.PG 3.SG 4.SF 5.PF or 0 to Exit\n",
            "0\n"
          ]
        }
      ],
      "source": [
        "\n",
        "#driver code for addPlayer func\n",
        "addPlayer()"
      ]
    },
    {
      "cell_type": "code",
      "execution_count": null,
      "metadata": {
        "id": "P-9-6ep3l3Y_"
      },
      "outputs": [],
      "source": [
        "#driver code for addPlayer func\n",
        "addPlayer()"
      ]
    },
    {
      "cell_type": "code",
      "execution_count": null,
      "metadata": {
        "colab": {
          "base_uri": "https://localhost:8080/"
        },
        "id": "474n8Zr5buVD",
        "outputId": "32c42aa5-0c0f-4506-8374-c9b9009f3d68"
      },
      "outputs": [
        {
          "name": "stdout",
          "output_type": "stream",
          "text": [
            "Enter player full name\n",
            "Jordan test\n",
            "Jordan test\n",
            "Select the position of the player 1.C 2.PG 3.SG 4.SF 5.PF or 0 to Exit\n",
            "4\n",
            "Does the player have evalution? y/n\n",
            "y\n",
            "press 1 to enter the player evalution per game in % \n",
            "press 2 to set player evalution to average according to his position\n",
            "1\n",
            "enter the player evalution per game in %90\n",
            "Does the Player have estimated salary in recent years? y/n \n",
            "y\n",
            "press 1 to enter player salary\n",
            "press 2 to set player salary to average according to his position\n",
            "1\n",
            "Enter salary non zero,rounded up to the nearest integer or .5 in M$2.3\n",
            "Enter salary non zero,rounded up to the nearest integer or .5 in M$5.7\n",
            "Enter salary non zero,rounded up to the nearest integer or .5 in M$80.5\n",
            "The player player('Jordan test',SF,80.5,90) been added!\n",
            "player('Jordan test',SF,80.5,90)\n"
          ]
        }
      ],
      "source": [
        "#driver code for addPlayer func\n",
        "addPlayer()"
      ]
    },
    {
      "cell_type": "code",
      "execution_count": 25,
      "metadata": {
        "id": "BjMHCTQRjW1q"
      },
      "outputs": [],
      "source": [
        "#global\n",
        "total_budget=0"
      ]
    },
    {
      "cell_type": "code",
      "execution_count": 26,
      "metadata": {
        "id": "afxB1_LpGcpQ"
      },
      "outputs": [],
      "source": [
        "# function that handle the process of creating an optimal subgroup.\n",
        "#get values from the user and calling other functions.\n",
        "\n",
        "\n",
        "\n",
        "def opti_group(group,players_limitation,positions):\n",
        "      choice=1\n",
        "      while choice!='0':\n",
        "        print(\"what is your budget for\", players_limitation, positions, \"in M$?\")\n",
        "        budget = int(input())\n",
        "        global total_budget\n",
        "        total_budget+=budget\n",
        "        dp=create_subgroup(group, budget*2,players_limitation )\n",
        "        opti_group=extract_subgroup(group,dp)\n",
        "        print(\"chosen players are\",opti_group)\n",
        "        if len(opti_group)<players_limitation:\n",
        "          print(\"The budget is not enough for the desired number of players, consider increasing the budget\")\n",
        "          print(\"To continue press 1\")\n",
        "          print(\"To update budget press 2\")\n",
        "          print(\"To exit press 0\")\n",
        "          choice=input() \n",
        "          if choice==1:\n",
        "            return opti_group\n",
        "          elif choice==2:\n",
        "            total_budget-=budget\n",
        "            pass\n",
        "          elif choice==0:\n",
        "            return Null\n",
        "        else:\n",
        "          return opti_group\n",
        "\n"
      ]
    },
    {
      "cell_type": "markdown",
      "source": [
        "###section4-main function"
      ],
      "metadata": {
        "id": "KxGx6iqsVtiW"
      }
    },
    {
      "cell_type": "code",
      "execution_count": null,
      "metadata": {
        "colab": {
          "base_uri": "https://localhost:8080/"
        },
        "id": "52g2EHxHkU2f",
        "outputId": "2bb7b782-3e39-4eaf-99ca-221c9ba57841"
      },
      "outputs": [
        {
          "output_type": "stream",
          "name": "stdout",
          "text": [
            "Please select an operation:\n",
            "\t0. Exit.\n",
            "\t1. Create an optimal team from data\n",
            "\t2. Add a player\n",
            "\t3. Print team memebers\n",
            "1\n",
            "what is your budget for 2 centers in M$?\n",
            "3\n",
            "chosen players are [player('Vernon Carey Jr.',C,1.5,57.49999999999999), player('DeMarcus Cousins',C,1,48.636363636363626)]\n",
            "what is your budget for 3 forwards in M$?\n",
            "5\n",
            "chosen players are [player('Gabriel Deck',PF,1.5,44.28571428571429), player('Jabari Parker',PF,1,43.33333333333333), player('Mamadi Diakite',PF,0.5,60.0)]\n",
            "what is your budget for 3 guards in M$?\n",
            "5\n",
            "chosen players are [player('Tim Frazier',PG,0.5,45.999999999999986), player('David Duke Jr.',PG,0.5,51.42857142857144), player('Brandon Goodwin',PG,0.5,57.14285714285714)]\n",
            "an optimal team has been chosen!\n",
            "Please select an operation:\n",
            "\t0. Exit.\n",
            "\t1. Create an optimal team from data\n",
            "\t2. Add a player\n",
            "\t3. Print team memebers\n",
            "3\n",
            "Optimal Team:\n",
            " Budget limit:13\n",
            " Actual budget:7.0 \n",
            " Centers list:[player('Vernon Carey Jr.',C,1.5,57.49999999999999), player('DeMarcus Cousins',C,1,48.636363636363626)]\n",
            " Guardslist :[player('Gabriel Deck',PF,1.5,44.28571428571429), player('Jabari Parker',PF,1,43.33333333333333), player('Mamadi Diakite',PF,0.5,60.0)]\n",
            " Forwarda list:[player('Tim Frazier',PG,0.5,45.999999999999986), player('David Duke Jr.',PG,0.5,51.42857142857144), player('Brandon Goodwin',PG,0.5,57.14285714285714)]\n",
            "Please select an operation:\n",
            "\t0. Exit.\n",
            "\t1. Create an optimal team from data\n",
            "\t2. Add a player\n",
            "\t3. Print team memebers\n",
            "0\n",
            "Good luck!\n"
          ]
        }
      ],
      "source": [
        "  \n",
        "def main():\n",
        "  \n",
        "   flag=0\n",
        "   command = 'c'\n",
        "   while command!='0':\n",
        "    print_menu()\n",
        "    command = input()\n",
        "    if command == '1':\n",
        "      global total_budget\n",
        "      total_budget=0\n",
        "      centers=divide2subgroups(Player.all,'C')\n",
        "      forwards=divide2subgroups(Player.all,'SF')+divide2subgroups(Player.all,'PF')\n",
        "      guards=divide2subgroups(Player.all,'PG')+divide2subgroups(Player.all,'SG')\n",
        "      opti_centers= opti_group(centers,2,'centers')\n",
        "      if opti_centers==None:\n",
        "        print(\"Please try again with a budget other than zero\")\n",
        "        total_budget=0\n",
        "        continue\n",
        "      c_cost=calc_cost(opti_centers,0)  \n",
        "      opti_forwards=opti_group(forwards,3, 'forwards')\n",
        "      if opti_forwards==None:\n",
        "        print(\"Please try again with a budget other than zero\")\n",
        "        total_budget=0\n",
        "        continue\n",
        "      else:\n",
        "        f_cost=calc_cost(opti_forwards,0)\n",
        "      opti_guards=opti_group(guards,3,'guards')  \n",
        "      if opti_guards==None:\n",
        "        print(\"Please try again with a budget other than zero\")\n",
        "        total_budget=0\n",
        "        continue\n",
        "      else:\n",
        "        g_cost=calc_cost(opti_guards,0)\n",
        "        opti_cost=c_cost+f_cost+g_cost  \n",
        "        optimal_team=Team(opti_centers,opti_forwards,opti_guards,total_budget,opti_cost)    \n",
        "        print(\"an optimal team has been chosen!\")\n",
        "        flag=1\n",
        "        continue  \n",
        "    elif command == '2': \n",
        "      addPlayer()    \n",
        "    elif command == '3':\n",
        "      if flag==1:\n",
        "       print(optimal_team)\n",
        "      else:\n",
        "        print(\"create a team first\")\n",
        "    elif command == '0':\n",
        "      print(\"Good luck!\")\n",
        "    else:\n",
        "      print(\"Error: unrecognized operation.\")\n",
        "      \n",
        "  \n",
        "\n",
        "\n",
        "\n",
        "if __name__ == '__main__':\n",
        "    main()\n"
      ]
    },
    {
      "cell_type": "code",
      "source": [],
      "metadata": {
        "id": "wiZsFPebsCIB"
      },
      "execution_count": null,
      "outputs": []
    },
    {
      "cell_type": "markdown",
      "source": [
        "# section 5-Comparison between dynamic progrmming and the Google OR tool package pywraplp"
      ],
      "metadata": {
        "id": "o-dMArs9sZmN"
      }
    },
    {
      "cell_type": "code",
      "source": [
        "import timeit \n",
        "# driver code for create & extract subgroups functions \n",
        "\n",
        "#short list of players consist of 5 players to see we get \n",
        "#the required result and compare \n",
        "test_list=Player.all[:5]\n",
        "print(test_list)\n",
        "#with this list and a budget of 6M$ and 2 players limitation \n",
        "#we expect to see the player 'Bogdan Bogdanovi?' and 'Boban Marjanovi?'\n",
        "print(\"test result:\")\n",
        "test_matrix=create_subgroup(test_list,6,2)\n",
        "sub_group=extract_subgroup(test_list,test_matrix)\n",
        "print(sub_group)\n",
        "t11 = timeit.timeit(lambda: create_subgroup(test_list,6,2),number=100)\n",
        "t12 = timeit.timeit(lambda: extract_subgroup(test_list,test_matrix), number=100)  \n",
        "print(\"Avg execution time:\",t11+t2)"
      ],
      "metadata": {
        "colab": {
          "base_uri": "https://localhost:8080/"
        },
        "id": "rp8cwebkldM3",
        "outputId": "3256cef2-0d04-411c-d6ca-cbbbefe65d69"
      },
      "execution_count": null,
      "outputs": [
        {
          "output_type": "stream",
          "name": "stdout",
          "text": [
            "[player('Alize Johnson',PF,0.5,16.842105263157897), player('Amir Coffey',SG,0.5,23.57142857142857), player('Boban Marjanovi?',C,0.5,26.470588235294112), player('Bogdan Bogdanovi?',SG,0.5,35.7142857142857), player('Bojan Bogdanovi?',PF,0.5,29.607843137254896)]\n",
            "test result:\n",
            "[player('Bogdan Bogdanovi?',SG,0.5,35.7142857142857), player('Boban Marjanovi?',C,0.5,26.470588235294112)]\n",
            "Avg execution time: 0.016478844999994635\n"
          ]
        }
      ]
    },
    {
      "cell_type": "code",
      "source": [
        "\n",
        "!pip install ortools"
      ],
      "metadata": {
        "id": "fEcXCqTLz-Cc",
        "cellView": "code",
        "colab": {
          "base_uri": "https://localhost:8080/",
          "height": 398
        },
        "outputId": "78f13104-8f4e-4283-d044-c4948cb37976"
      },
      "execution_count": null,
      "outputs": [
        {
          "output_type": "stream",
          "name": "stdout",
          "text": [
            "Collecting ortools\n",
            "  Downloading ortools-9.3.10497-cp37-cp37m-manylinux_2_17_x86_64.manylinux2014_x86_64.whl (15.5 MB)\n",
            "\u001b[K     |████████████████████████████████| 15.5 MB 6.7 MB/s \n",
            "\u001b[?25hRequirement already satisfied: numpy>=1.13.3 in /usr/local/lib/python3.7/dist-packages (from ortools) (1.21.5)\n",
            "Collecting protobuf>=3.19.4\n",
            "  Downloading protobuf-3.19.4-cp37-cp37m-manylinux_2_17_x86_64.manylinux2014_x86_64.whl (1.1 MB)\n",
            "\u001b[K     |████████████████████████████████| 1.1 MB 56.8 MB/s \n",
            "\u001b[?25hRequirement already satisfied: absl-py>=0.13 in /usr/local/lib/python3.7/dist-packages (from ortools) (1.0.0)\n",
            "Requirement already satisfied: six in /usr/local/lib/python3.7/dist-packages (from absl-py>=0.13->ortools) (1.15.0)\n",
            "Installing collected packages: protobuf, ortools\n",
            "  Attempting uninstall: protobuf\n",
            "    Found existing installation: protobuf 3.17.3\n",
            "    Uninstalling protobuf-3.17.3:\n",
            "      Successfully uninstalled protobuf-3.17.3\n",
            "\u001b[31mERROR: pip's dependency resolver does not currently take into account all the packages that are installed. This behaviour is the source of the following dependency conflicts.\n",
            "tensorflow 2.8.0 requires tf-estimator-nightly==2.8.0.dev2021122109, which is not installed.\u001b[0m\n",
            "Successfully installed ortools-9.3.10497 protobuf-3.19.4\n"
          ]
        },
        {
          "output_type": "display_data",
          "data": {
            "application/vnd.colab-display-data+json": {
              "pip_warning": {
                "packages": [
                  "google"
                ]
              }
            }
          },
          "metadata": {}
        }
      ]
    },
    {
      "cell_type": "code",
      "source": [
        "\n",
        "salary_list=[]\n",
        "value_list=[]\n",
        "\n",
        "for player in test_list:\n",
        "  salary_list.append(player.SALARY)\n",
        "  value_list.append(player.EVAL)\n",
        "  "
      ],
      "metadata": {
        "id": "2FxXbRakkOzs"
      },
      "execution_count": null,
      "outputs": []
    },
    {
      "cell_type": "code",
      "source": [
        "from ortools.linear_solver import pywraplp\n",
        "\n",
        "def comp_func():\n",
        "  solver = pywraplp.Solver.CreateSolver('SCIP')\n",
        "\n",
        "  infinity = solver.infinity()\n",
        "  #declaring constrains\n",
        "  x = [solver.IntVar(0.0, infinity, 'x[{}]'.format(i)) for i in range (5)]\n",
        "  solver.Add(sum(x[i]*salary_list[i] for i in range (len(x)))<=6)\n",
        "  solver.Add(sum(x[i] for i in range (len(x)))<=2)\n",
        "\n",
        "  #declaring the veriables binary only\n",
        "  solver.Add(x[0]>=0)\n",
        "  solver.Add(x[0]<=1)\n",
        "\n",
        "  solver.Add(x[1]>=0)\n",
        "  solver.Add(x[1]<=1)\n",
        "\n",
        "  solver.Add(x[2]>=0)\n",
        "  solver.Add(x[2]<=1)\n",
        "\n",
        "  solver.Add(x[3]>=0)\n",
        "  solver.Add(x[3]<=1)\n",
        "\n",
        "  solver.Add(x[4]>=0)\n",
        "  solver.Add(x[4]<=1)\n",
        "\n",
        "  #objective function\n",
        "  solver.Maximize(sum(x[i]*value_list[i] for i in range (len(x))))\n",
        "\n",
        "  status=solver.Solve()\n",
        "  print('test 1')\n",
        "  if status==pywraplp.Solver.OPTIMAL:\n",
        "    total_cost=sum([x[i].solution_value()*salary_list[i] for i in range (len(x))])\n",
        "    print('Solution:')\n",
        "    print(\"Objective value=\",float(solver.Objective().Value()))\n",
        "    print('total cost',total_cost)\n",
        "  \n",
        "    for i in range (len(x)):\n",
        "     print('x[{}]={}'.format(i, x[i].solution_value()))\n",
        "     print('chosen players:')\n",
        "    for i in range (len(x)):\n",
        "      if(x[i].solution_value()==1.0):\n",
        "        print(test_list[i].Name)\n",
        "  else:\n",
        "      print('the problem does not have an optimal solution')\n"
      ],
      "metadata": {
        "id": "EYPeojasrgd7"
      },
      "execution_count": null,
      "outputs": []
    },
    {
      "cell_type": "code",
      "source": [
        "comp_func()\n"
      ],
      "metadata": {
        "colab": {
          "base_uri": "https://localhost:8080/"
        },
        "id": "IotwMP2b2m8l",
        "outputId": "ef8f7057-ae80-4fc3-b771-e1088437c10d"
      },
      "execution_count": null,
      "outputs": [
        {
          "output_type": "stream",
          "name": "stdout",
          "text": [
            "test 1\n",
            "Solution:\n",
            "Objective value= 65.3221288515406\n",
            "total cost 1.0\n",
            "x[0]=-0.0\n",
            "chosen players:\n",
            "x[1]=-0.0\n",
            "chosen players:\n",
            "x[2]=-0.0\n",
            "chosen players:\n",
            "x[3]=1.0\n",
            "chosen players:\n",
            "x[4]=1.0\n",
            "chosen players:\n",
            "Bogdan Bogdanovi?\n",
            "Bojan Bogdanovi?\n"
          ]
        }
      ]
    },
    {
      "cell_type": "code",
      "execution_count": null,
      "metadata": {
        "id": "z282_m9XoyfN",
        "cellView": "form"
      },
      "outputs": [],
      "source": [
        "t22 = timeit.timeit(lambda: comp_func(),number=100)   \n"
      ]
    },
    {
      "cell_type": "code",
      "source": [
        "print(\"Avg execution time:\",t22)"
      ],
      "metadata": {
        "colab": {
          "base_uri": "https://localhost:8080/"
        },
        "id": "nWrRDEddMONG",
        "outputId": "1c8bb1f8-a58f-4000-f1f5-74e0c8b2b887"
      },
      "execution_count": null,
      "outputs": [
        {
          "output_type": "stream",
          "name": "stdout",
          "text": [
            "Avg execution time: 0.5632357519999687\n"
          ]
        }
      ]
    }
  ],
  "metadata": {
    "colab": {
      "provenance": [],
      "toc_visible": true
    },
    "kernelspec": {
      "display_name": "Python 3",
      "name": "python3"
    },
    "language_info": {
      "name": "python"
    }
  },
  "nbformat": 4,
  "nbformat_minor": 0
}